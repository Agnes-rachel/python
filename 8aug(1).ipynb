{
 "cells": [
  {
   "cell_type": "code",
   "execution_count": 1,
   "id": "a938db63-43ff-4db6-ba0c-d16ada1e764f",
   "metadata": {},
   "outputs": [
    {
     "name": "stdout",
     "output_type": "stream",
     "text": [
      "<class '__main__.emp'>\n"
     ]
    }
   ],
   "source": [
    "class emp:\n",
    "    pass\n",
    "print(emp)"
   ]
  },
  {
   "cell_type": "code",
   "execution_count": 2,
   "id": "be44b9f3-098e-4d35-b2d8-c133620d427e",
   "metadata": {},
   "outputs": [
    {
     "name": "stdout",
     "output_type": "stream",
     "text": [
      "<__main__.emp object at 0x71664fc58500>\n"
     ]
    }
   ],
   "source": [
    "e1=emp()\n",
    "print(e1)"
   ]
  },
  {
   "cell_type": "code",
   "execution_count": 3,
   "id": "196d975f-dd69-4b74-9a77-093347669880",
   "metadata": {},
   "outputs": [
    {
     "name": "stdout",
     "output_type": "stream",
     "text": [
      "donald\n"
     ]
    }
   ],
   "source": [
    "e1.first='donald'\n",
    "e1.last='trump'\n",
    "e1.pay=50000\n",
    "print(e1.first)"
   ]
  },
  {
   "cell_type": "code",
   "execution_count": 4,
   "id": "a9cec9af-33c6-45e9-8105-0ce9fca2cfc5",
   "metadata": {},
   "outputs": [
    {
     "name": "stdout",
     "output_type": "stream",
     "text": [
      "50000\n"
     ]
    }
   ],
   "source": [
    "print(e1.pay)"
   ]
  },
  {
   "cell_type": "code",
   "execution_count": 8,
   "id": "730c6161-571e-406c-87d5-880460ffe259",
   "metadata": {},
   "outputs": [],
   "source": [
    "class employee:\n",
    "    def __init__(self,first,last,pay):\n",
    "     self.first=first\n",
    "     self.last=last\n",
    "     self.pay=pay\n",
    "     self.email=first+' '+last+\"@company.com\"\n",
    "    "
   ]
  },
  {
   "cell_type": "code",
   "execution_count": 10,
   "id": "0cacfd24-7a17-4f78-9da9-e3c1b826fe67",
   "metadata": {},
   "outputs": [
    {
     "name": "stdout",
     "output_type": "stream",
     "text": [
      "donald\n"
     ]
    }
   ],
   "source": [
    "e2=employee(\"donald\",\"trump\",\"50000\")\n",
    "print(e2.first)"
   ]
  },
  {
   "cell_type": "code",
   "execution_count": 11,
   "id": "8650d2a1-2b35-426b-98f2-16698094b7e4",
   "metadata": {},
   "outputs": [],
   "source": [
    "def fullname(self):\n",
    "    return '{}{}'.format(self.first,self.last)"
   ]
  },
  {
   "cell_type": "code",
   "execution_count": 22,
   "id": "0a84748f-5698-4df2-adb3-e3970c49664c",
   "metadata": {},
   "outputs": [
    {
     "name": "stdout",
     "output_type": "stream",
     "text": [
      "<__main__.person object at 0x71664c296480>\n"
     ]
    }
   ],
   "source": [
    "class person:\n",
    "    def __init__(self,name,age):\n",
    "        self.name=name\n",
    "        self.age=age\n",
    "p1=person(\"agnes\",20)\n",
    "print(p1)\n"
   ]
  },
  {
   "cell_type": "code",
   "execution_count": 24,
   "id": "13266a26-6f52-4936-8ef3-69c47f701e04",
   "metadata": {},
   "outputs": [
    {
     "name": "stdout",
     "output_type": "stream",
     "text": [
      "agnes(20)\n"
     ]
    }
   ],
   "source": [
    "class person:\n",
    "    def __init__(self,name,age):\n",
    "        self.name=name\n",
    "        self.age=age\n",
    "    def __str__(self):\n",
    "        return f\"{self.name}({self.age})\"\n",
    "p1=person(\"agnes\",20)\n",
    "print(p1)\n"
   ]
  },
  {
   "cell_type": "code",
   "execution_count": 25,
   "id": "4a7834d2-235c-41d3-bec3-003ca88dbecb",
   "metadata": {},
   "outputs": [],
   "source": [
    "p1.age=21 # to update"
   ]
  },
  {
   "cell_type": "code",
   "execution_count": 26,
   "id": "66e42855-9440-4b99-820c-b86546f71e86",
   "metadata": {},
   "outputs": [
    {
     "name": "stdout",
     "output_type": "stream",
     "text": [
      "agnes(21)\n"
     ]
    }
   ],
   "source": [
    "print(p1)"
   ]
  },
  {
   "cell_type": "code",
   "execution_count": 27,
   "id": "0705ac68-87ef-46e4-8eb6-d5db862b5f3d",
   "metadata": {},
   "outputs": [],
   "source": [
    "# to delete \n",
    "del p1.age"
   ]
  },
  {
   "cell_type": "code",
   "execution_count": null,
   "id": "3c9a4fa7-06f3-4f0f-bd83-542766cf4929",
   "metadata": {},
   "outputs": [],
   "source": [
    "\n"
   ]
  },
  {
   "cell_type": "code",
   "execution_count": null,
   "id": "404e595e-f8e7-4f8f-ac28-5c89df45b2ef",
   "metadata": {},
   "outputs": [],
   "source": []
  }
 ],
 "metadata": {
  "kernelspec": {
   "display_name": "Python 3 (ipykernel)",
   "language": "python",
   "name": "python3"
  },
  "language_info": {
   "codemirror_mode": {
    "name": "ipython",
    "version": 3
   },
   "file_extension": ".py",
   "mimetype": "text/x-python",
   "name": "python",
   "nbconvert_exporter": "python",
   "pygments_lexer": "ipython3",
   "version": "3.12.4"
  }
 },
 "nbformat": 4,
 "nbformat_minor": 5
}
