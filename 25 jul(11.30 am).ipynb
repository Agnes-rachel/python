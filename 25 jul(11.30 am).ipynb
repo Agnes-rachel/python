{
 "cells": [
  {
   "cell_type": "markdown",
   "id": "bb180f11-b7cc-4aaf-8056-74f168016b9e",
   "metadata": {},
   "source": [
    "100 factorial"
   ]
  },
  {
   "cell_type": "code",
   "execution_count": 2,
   "id": "8775037b-68d6-4ce6-a7b0-aa52fbb55c84",
   "metadata": {},
   "outputs": [
    {
     "name": "stdout",
     "output_type": "stream",
     "text": [
      "100 factorial: 93326215443944152681699238856266700490715968264381621468592963895217599993229915608941463976156518286253697920827223758251185210916864000000000000000000000000\n"
     ]
    }
   ],
   "source": [
    "import math\n",
    "fact=math.factorial(100)\n",
    "print('100 factorial:',fact)"
   ]
  },
  {
   "cell_type": "code",
   "execution_count": 4,
   "id": "9268f4a7-d277-4f97-b874-4de255a5547b",
   "metadata": {},
   "outputs": [
    {
     "name": "stdout",
     "output_type": "stream",
     "text": [
      "Ω\n"
     ]
    }
   ],
   "source": [
    "#printing character that are not in keyboard\n",
    "print('\\u03A9')"
   ]
  },
  {
   "cell_type": "code",
   "execution_count": 5,
   "id": "688c2148-2401-428c-b552-3fa885791ade",
   "metadata": {},
   "outputs": [
    {
     "name": "stdout",
     "output_type": "stream",
     "text": [
      "😀\n"
     ]
    }
   ],
   "source": [
    "print('\\U0001F600')"
   ]
  },
  {
   "cell_type": "code",
   "execution_count": 6,
   "id": "ce840541-dd83-4a00-a10f-b66852f07806",
   "metadata": {},
   "outputs": [],
   "source": [
    "import unicodedata\n",
    "omega=unicodedata.lookup('GREEK CAPITAL LETTER OMEGA')\n",
    "smiley=unicodedata.lookup('GRINNING FACE')"
   ]
  },
  {
   "cell_type": "code",
   "execution_count": 7,
   "id": "84a0770c-3726-4360-bd15-0f35abad2962",
   "metadata": {},
   "outputs": [
    {
     "name": "stdout",
     "output_type": "stream",
     "text": [
      "Ω\n",
      "😀\n"
     ]
    }
   ],
   "source": [
    "print(omega)\n",
    "print(smiley)"
   ]
  },
  {
   "cell_type": "code",
   "execution_count": 16,
   "id": "89ca08a9-9d5d-4b46-816a-319ae26992f2",
   "metadata": {},
   "outputs": [
    {
     "name": "stdout",
     "output_type": "stream",
     "text": [
      "a\n",
      "A\n",
      "\u0018\n",
      "7\n"
     ]
    }
   ],
   "source": [
    "#print character that is in keyboard\n",
    "print(chr(97))\n",
    "print(chr(65))\n",
    "print(chr(24))\n",
    "print(chr(55))"
   ]
  },
  {
   "cell_type": "code",
   "execution_count": 22,
   "id": "be155245-7f60-4650-939e-6c0d27a11dba",
   "metadata": {},
   "outputs": [
    {
     "name": "stdout",
     "output_type": "stream",
     "text": [
      "97\n"
     ]
    }
   ],
   "source": [
    "#gives its ascii value\n",
    "print(ord('a'))"
   ]
  },
  {
   "cell_type": "code",
   "execution_count": 17,
   "id": "e5a0372d-e906-4dee-9fa0-f8e1ee61f29e",
   "metadata": {},
   "outputs": [
    {
     "name": "stdout",
     "output_type": "stream",
     "text": [
      "Requirement already satisfied: nltk in /home/software/software/lib/python3.12/site-packages (3.8.1)\n",
      "Requirement already satisfied: click in /home/software/software/lib/python3.12/site-packages (from nltk) (8.1.7)\n",
      "Requirement already satisfied: joblib in /home/software/software/lib/python3.12/site-packages (from nltk) (1.4.2)\n",
      "Requirement already satisfied: regex>=2021.8.3 in /home/software/software/lib/python3.12/site-packages (from nltk) (2023.10.3)\n",
      "Requirement already satisfied: tqdm in /home/software/software/lib/python3.12/site-packages (from nltk) (4.66.4)\n"
     ]
    }
   ],
   "source": [
    "!pip install nltk"
   ]
  },
  {
   "cell_type": "code",
   "execution_count": 18,
   "id": "cac8455e-bfa0-49ff-9b70-bc599ad08f07",
   "metadata": {},
   "outputs": [],
   "source": [
    "import nltk\n"
   ]
  },
  {
   "cell_type": "code",
   "execution_count": 34,
   "id": "8e192a27-143d-4873-af54-ea405cde447e",
   "metadata": {},
   "outputs": [
    {
     "name": "stdout",
     "output_type": "stream",
     "text": [
      "Modern Tamil Letter Ra: ர\n"
     ]
    }
   ],
   "source": [
    "modern_tamil_ra = \"\\u0BB0\"\n",
    "print(f\"Modern Tamil Letter Ra: {modern_tamil_ra}\") "
   ]
  },
  {
   "cell_type": "code",
   "execution_count": null,
   "id": "e83d0464-c03c-4fa7-87ff-7c9689e64a81",
   "metadata": {},
   "outputs": [],
   "source": []
  }
 ],
 "metadata": {
  "kernelspec": {
   "display_name": "Python 3 (ipykernel)",
   "language": "python",
   "name": "python3"
  },
  "language_info": {
   "codemirror_mode": {
    "name": "ipython",
    "version": 3
   },
   "file_extension": ".py",
   "mimetype": "text/x-python",
   "name": "python",
   "nbconvert_exporter": "python",
   "pygments_lexer": "ipython3",
   "version": "3.12.4"
  }
 },
 "nbformat": 4,
 "nbformat_minor": 5
}
