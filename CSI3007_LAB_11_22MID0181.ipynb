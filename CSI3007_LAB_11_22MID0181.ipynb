{
 "cells": [
  {
   "cell_type": "markdown",
   "id": "b4cf66f1-f571-4e7a-be2d-c6895ddc4a44",
   "metadata": {},
   "source": [
    "# CSI3007_LAB_11_22MID0181"
   ]
  },
  {
   "cell_type": "markdown",
   "id": "f6960ef6-fdbe-4864-9f67-916cdea26edc",
   "metadata": {},
   "source": [
    "# 3/09/25"
   ]
  },
  {
   "cell_type": "markdown",
   "id": "de3f54e0-9769-4760-9d75-93dbb3a905af",
   "metadata": {},
   "source": [
    "# THREADING:"
   ]
  },
  {
   "cell_type": "code",
   "execution_count": 1,
   "id": "1370dafa-231a-4285-a800-bb1093678da0",
   "metadata": {},
   "outputs": [
    {
     "name": "stdout",
     "output_type": "stream",
     "text": [
      "Sleeping 1 second...\n",
      "Done Sleeping\n",
      "Finished in 1.0 seconds\n"
     ]
    }
   ],
   "source": [
    "import time\n",
    "start = time.perf_counter() \n",
    "def do_something():\n",
    "    print('Sleeping 1 second...')\n",
    "    time.sleep(1)\n",
    "    print('Done Sleeping')\n",
    "do_something()\n",
    "finish = time.perf_counter() \n",
    "print(f'Finished in {round(finish-start,2)} seconds')"
   ]
  },
  {
   "cell_type": "code",
   "execution_count": 2,
   "id": "c8bf5f32-12e6-402f-91a0-033e19116ec6",
   "metadata": {},
   "outputs": [
    {
     "name": "stdout",
     "output_type": "stream",
     "text": [
      "Sleeping 1 second...\n",
      "Done Sleeping\n",
      "Sleeping 1 second...\n",
      "Done Sleeping\n",
      "Finished in 2.0 seconds\n"
     ]
    }
   ],
   "source": [
    "import time\n",
    "start = time.perf_counter() \n",
    "def do_something():\n",
    "    print('Sleeping 1 second...')\n",
    "    time.sleep(1)\n",
    "    print('Done Sleeping')\n",
    "do_something()\n",
    "do_something()\n",
    "finish = time.perf_counter()\n",
    "print(f'Finished in {round(finish-start,2)} seconds')"
   ]
  },
  {
   "cell_type": "code",
   "execution_count": 3,
   "id": "00294728-f75f-462d-9e38-1a98f7192c53",
   "metadata": {},
   "outputs": [
    {
     "name": "stdout",
     "output_type": "stream",
     "text": [
      "Finished in -60.1 seconds\n"
     ]
    }
   ],
   "source": [
    "import threading    \n",
    "import time\n",
    "start = time.perf_counter() \n",
    "def do_something():\n",
    "    print('Sleeping 1 second...')\n",
    "    time.sleep(1)\n",
    "    print('Done Sleeping')\n",
    "t1 = threading.Thread(target = do_something) \n",
    "t2 = threading.Thread(target = do_something)\n",
    "print(f'Finished in {round(finish-start,2)} seconds')"
   ]
  },
  {
   "cell_type": "code",
   "execution_count": 4,
   "id": "75c99214-4e5d-4918-96ae-dfd671b9a0b2",
   "metadata": {},
   "outputs": [
    {
     "name": "stdout",
     "output_type": "stream",
     "text": [
      "Sleeping 1 second...\n",
      "Sleeping 1 second...\n",
      "Finished in 0.01 seconds\n",
      "Done Sleeping\n",
      "Done Sleeping\n"
     ]
    }
   ],
   "source": [
    "import threading     \n",
    "start = time.perf_counter() \n",
    "def do_something():\n",
    "    print('Sleeping 1 second...')\n",
    "    time.sleep(1)\n",
    "    print('Done Sleeping')\n",
    "t1 = threading.Thread(target = do_something)\n",
    "t2 = threading.Thread(target = do_something)\n",
    "t1.start()\n",
    "t2.start()\n",
    "finish = time.perf_counter() \n",
    "print(f'Finished in {round(finish-start,2)} seconds')"
   ]
  },
  {
   "cell_type": "code",
   "execution_count": 5,
   "id": "6828927c-8970-4123-89dd-d2f28d01730b",
   "metadata": {},
   "outputs": [
    {
     "name": "stdout",
     "output_type": "stream",
     "text": [
      "Sleeping 1 second...\n",
      "Sleeping 1 second...\n",
      "Done SleepingDone Sleeping\n",
      "\n",
      "Finished in 1.01 seconds\n"
     ]
    }
   ],
   "source": [
    "import threading    \n",
    "import time\n",
    "start = time.perf_counter() \n",
    "def do_something():\n",
    "    print('Sleeping 1 second...')\n",
    "    time.sleep(1)\n",
    "    print('Done Sleeping')\n",
    "t1 = threading.Thread(target = do_something)\n",
    "t2 = threading.Thread(target = do_something)\n",
    "t1.start()\n",
    "t2.start()\n",
    "t1.join()\n",
    "t2.join()\n",
    "finish = time.perf_counter() \n",
    "print(f'Finished in {round(finish-start,2)} seconds')"
   ]
  },
  {
   "cell_type": "code",
   "execution_count": 6,
   "id": "23e51f47-6df3-4d3a-a35b-36c04c66fd66",
   "metadata": {},
   "outputs": [
    {
     "ename": "NameError",
     "evalue": "name 't' is not defined",
     "output_type": "error",
     "traceback": [
      "\u001b[31m---------------------------------------------------------------------------\u001b[39m",
      "\u001b[31mNameError\u001b[39m                                 Traceback (most recent call last)",
      "\u001b[36mCell\u001b[39m\u001b[36m \u001b[39m\u001b[32mIn[6]\u001b[39m\u001b[32m, line 9\u001b[39m\n\u001b[32m      7\u001b[39m     \u001b[38;5;28mprint\u001b[39m(\u001b[33m'\u001b[39m\u001b[33mDone Sleeping\u001b[39m\u001b[33m'\u001b[39m)\n\u001b[32m      8\u001b[39m \u001b[38;5;28;01mfor\u001b[39;00m _ \u001b[38;5;129;01min\u001b[39;00m \u001b[38;5;28mrange\u001b[39m(\u001b[32m10\u001b[39m):  \n\u001b[32m----> \u001b[39m\u001b[32m9\u001b[39m     \u001b[43mt\u001b[49m.start()           \n\u001b[32m     10\u001b[39m finish = time.perf_counter() \n\u001b[32m     11\u001b[39m \u001b[38;5;28mprint\u001b[39m(\u001b[33mf\u001b[39m\u001b[33m'\u001b[39m\u001b[33mFinished in \u001b[39m\u001b[38;5;132;01m{\u001b[39;00m\u001b[38;5;28mround\u001b[39m(finish-start,\u001b[32m2\u001b[39m)\u001b[38;5;132;01m}\u001b[39;00m\u001b[33m seconds\u001b[39m\u001b[33m'\u001b[39m)\n",
      "\u001b[31mNameError\u001b[39m: name 't' is not defined"
     ]
    }
   ],
   "source": [
    "import threading   \n",
    "import time\n",
    "start = time.perf_counter() \n",
    "def do_something():\n",
    "    print('Sleeping 1 second...')\n",
    "    time.sleep(1)\n",
    "    print('Done Sleeping')\n",
    "for _ in range(10):  \n",
    "    t.start()           \n",
    "finish = time.perf_counter() \n",
    "print(f'Finished in {round(finish-start,2)} seconds')"
   ]
  },
  {
   "cell_type": "code",
   "execution_count": 7,
   "id": "d9aead5c-7d60-44b9-86d5-e008954aace4",
   "metadata": {},
   "outputs": [
    {
     "name": "stdout",
     "output_type": "stream",
     "text": [
      "Sleeping 1 second...\n",
      "Sleeping 1 second...\n",
      "Sleeping 1 second...\n",
      "Sleeping 1 second...\n",
      "Sleeping 1 second...\n",
      "Sleeping 1 second...\n",
      "Sleeping 1 second...\n",
      "Sleeping 1 second...\n",
      "Sleeping 1 second...\n",
      "Sleeping 1 second...\n",
      "Done SleepingDone Sleeping\n",
      "\n",
      "Done Sleeping\n",
      "Done Sleeping\n",
      "Done Sleeping\n",
      "Done Sleeping\n",
      "Done Sleeping\n",
      "Done Sleeping\n",
      "Done Sleeping\n",
      "Done Sleeping\n",
      "Finished in 1.03 seconds\n"
     ]
    }
   ],
   "source": [
    "import threading    \n",
    "import time\n",
    "start = time.perf_counter() \n",
    "def do_something():\n",
    "    print('Sleeping 1 second...')\n",
    "    time.sleep(1)\n",
    "    print('Done Sleeping')\n",
    "threads = []   \n",
    "for _ in range(10):     \n",
    "    t = threading.Thread(target = do_something)\n",
    "    t.start()  \n",
    "    threads.append(t)\n",
    "for thread in threads:\n",
    "    thread.join()    \n",
    "finish = time.perf_counter()\n",
    "print(f'Finished in {round(finish-start,2)} seconds')"
   ]
  },
  {
   "cell_type": "code",
   "execution_count": 8,
   "id": "4ac38e08-e3be-4cc8-81ad-cc1ff67dfc42",
   "metadata": {},
   "outputs": [
    {
     "name": "stdout",
     "output_type": "stream",
     "text": [
      "Sleeping 1.5 second(s)...\n",
      "Sleeping 1.5 second(s)...\n",
      "Sleeping 1.5 second(s)...\n",
      "Sleeping 1.5 second(s)...\n",
      "Sleeping 1.5 second(s)...\n",
      "Sleeping 1.5 second(s)...\n",
      "Sleeping 1.5 second(s)...\n",
      "Sleeping 1.5 second(s)...\n",
      "Sleeping 1.5 second(s)...\n",
      "Sleeping 1.5 second(s)...\n",
      "Done SleepingDone Sleeping\n",
      "Done Sleeping\n",
      "\n",
      "Done Sleeping\n",
      "Done Sleeping\n",
      "Done Sleeping\n",
      "Done Sleeping\n",
      "Done Sleeping\n",
      "Done Sleeping\n",
      "Done Sleeping\n",
      "Finished in 1.52 seconds\n"
     ]
    }
   ],
   "source": [
    "import threading    \n",
    "import time\n",
    "start = time.perf_counter() \n",
    "def do_something(seconds):                    \n",
    "    print(f'Sleeping {seconds} second(s)...') \n",
    "    time.sleep(seconds)\n",
    "    print('Done Sleeping')\n",
    "threads = []\n",
    "for _ in range(10):     \n",
    "    t = threading.Thread(target = do_something, args = [1.5]) \n",
    "    t.start()  \n",
    "    threads.append(t)\n",
    "for thread in threads:\n",
    "    thread.join()     \n",
    "finish = time.perf_counter()\n",
    "print(f'Finished in {round(finish-start,2)} seconds')\n"
   ]
  },
  {
   "cell_type": "code",
   "execution_count": 9,
   "id": "6a3244ba-179a-4e36-ad90-89cfa6102c93",
   "metadata": {},
   "outputs": [
    {
     "name": "stdout",
     "output_type": "stream",
     "text": [
      "Sleeping 1 second(s)...\n",
      "Done Sleeping...\n",
      "Finished in 1.01 seconds\n"
     ]
    }
   ],
   "source": [
    "import concurrent.futures\n",
    "import time\n",
    "start = time.perf_counter() \n",
    "def do_something(seconds):                    \n",
    "    print(f'Sleeping {seconds} second(s)...') \n",
    "    time.sleep(seconds)\n",
    "    return 'Done Sleeping...'\n",
    "with concurrent.futures.ThreadPoolExecutor() as executor:\n",
    "    f1 = executor.submit(do_something, 1)  \n",
    "    print(f1.result())\n",
    "finish = time.perf_counter()\n",
    "print(f'Finished in {round(finish-start,2)} seconds')\n"
   ]
  },
  {
   "cell_type": "code",
   "execution_count": 10,
   "id": "e243c27f-b24f-4a23-b61d-d1ef3995b23c",
   "metadata": {},
   "outputs": [
    {
     "name": "stdout",
     "output_type": "stream",
     "text": [
      "Sleeping 1 second(s)...\n",
      "Sleeping 1 second(s)...\n",
      "Done Sleeping...\n",
      "Done Sleeping...\n",
      "Finished in 1.01 seconds\n"
     ]
    }
   ],
   "source": [
    "import concurrent.futures\n",
    "import time\n",
    "start = time.perf_counter() \n",
    "def do_something(seconds):                    \n",
    "    print(f'Sleeping {seconds} second(s)...') \n",
    "    time.sleep(seconds)\n",
    "    return 'Done Sleeping...'\n",
    "with concurrent.futures.ThreadPoolExecutor() as executor:\n",
    "    f1 = executor.submit(do_something, 1) \n",
    "    f2 = executor.submit(do_something, 1)\n",
    "    print(f1.result())\n",
    "    print(f2.result())\n",
    "finish = time.perf_counter()\n",
    "print(f'Finished in {round(finish-start,2)} seconds')\n"
   ]
  },
  {
   "cell_type": "code",
   "execution_count": 11,
   "id": "f8f01d66-d303-4b47-a917-b82c228fd597",
   "metadata": {},
   "outputs": [
    {
     "name": "stdout",
     "output_type": "stream",
     "text": [
      "Sleeping 1 second(s)...\n",
      "Sleeping 1 second(s)...\n",
      "Sleeping 1 second(s)...\n",
      "Sleeping 1 second(s)...\n",
      "Sleeping 1 second(s)...\n",
      "Sleeping 1 second(s)...\n",
      "Sleeping 1 second(s)...\n",
      "Sleeping 1 second(s)...\n",
      "Sleeping 1 second(s)...\n",
      "Sleeping 1 second(s)...\n",
      "Done Sleeping...\n",
      "Done Sleeping...\n",
      "Done Sleeping...\n",
      "Done Sleeping...\n",
      "Done Sleeping...\n",
      "Done Sleeping...\n",
      "Done Sleeping...\n",
      "Done Sleeping...\n",
      "Done Sleeping...\n",
      "Done Sleeping...\n",
      "Finished in 1.01 seconds\n"
     ]
    }
   ],
   "source": [
    "import concurrent.futures\n",
    "import time\n",
    "\n",
    "start = time.perf_counter() \n",
    "\n",
    "def do_something(seconds):                    \n",
    "    print(f'Sleeping {seconds} second(s)...') \n",
    "    time.sleep(seconds)\n",
    "    return 'Done Sleeping...'\n",
    "\n",
    "with concurrent.futures.ThreadPoolExecutor() as executor:\n",
    "    results = [executor.submit(do_something, 1) for _ in range(10)] #list comprehension, alternative to loop\n",
    "\n",
    "    for f in concurrent.futures.as_completed(results):\n",
    "        print(f.result())\n",
    "      \n",
    "\n",
    "   \n",
    "finish = time.perf_counter()\n",
    "\n",
    "\n",
    "print(f'Finished in {round(finish-start,2)} seconds')"
   ]
  },
  {
   "cell_type": "code",
   "execution_count": 12,
   "id": "a067db8e-6013-4d59-bc1c-0d4db2cc472b",
   "metadata": {},
   "outputs": [
    {
     "name": "stdout",
     "output_type": "stream",
     "text": [
      "John\n",
      "Mark\n",
      "Elon\n",
      "Callahan\n",
      "38\n",
      "44\n",
      "49\n",
      "35\n"
     ]
    }
   ],
   "source": [
    "import threading\n",
    "import time\n",
    "import random\n",
    "\n",
    "def print_names():\n",
    "    for name in ('John', 'Mark', 'Elon', 'Callahan'):\n",
    "        print (name)\n",
    "        time.sleep(random.uniform ( 0.5, 1.5))\n",
    "\n",
    "def print_ages():\n",
    "    for _ in range(4):\n",
    "        print(random.randint(20,50))\n",
    "        time.sleep(random.uniform(0.5,1.5))\n",
    "\n",
    "\n",
    "print_names()\n",
    "print_ages()\n",
    "        "
   ]
  },
  {
   "cell_type": "code",
   "execution_count": 13,
   "id": "b46b1c3c-96f8-4b9c-8f66-a83541c9873a",
   "metadata": {},
   "outputs": [
    {
     "name": "stdout",
     "output_type": "stream",
     "text": [
      "John\n",
      "29\n",
      "Mark\n",
      "26\n",
      "Elon\n",
      "50\n",
      "Callahan\n",
      "46\n"
     ]
    }
   ],
   "source": [
    "import threading\n",
    "import time\n",
    "import random\n",
    "\n",
    "def print_names():\n",
    "    for name in ('John', 'Mark', 'Elon', 'Callahan'):\n",
    "        print (name)\n",
    "        time.sleep(random.uniform ( 0.5, 1.5))\n",
    "\n",
    "def print_ages():\n",
    "    for _ in range(4):\n",
    "        print(random.randint(20,50))\n",
    "        time.sleep(random.uniform(0.5,1.5))\n",
    "\n",
    "\n",
    "t1 = threading.Thread(target = print_names)\n",
    "t2 = threading.Thread(target = print_ages)\n",
    "\n",
    "# The above threads are not doing anything yet. To do that, use start()\n",
    "\n",
    "t1.start()\n",
    "t2.start()\n",
    "\n",
    "# t1.join()\n",
    "# t2.join()\n",
    "        "
   ]
  },
  {
   "cell_type": "code",
   "execution_count": 14,
   "id": "5d77cf98-e081-431b-9ca6-6d8ebd7f14e6",
   "metadata": {},
   "outputs": [
    {
     "name": "stdout",
     "output_type": "stream",
     "text": [
      "John\n",
      "21\n",
      "38\n",
      "Mark\n",
      "45\n",
      "Elon\n",
      "Callahan\n",
      "32\n"
     ]
    }
   ],
   "source": [
    "import threading\n",
    "import time\n",
    "import random\n",
    "\n",
    "def print_names():\n",
    "    for name in ('John', 'Mark', 'Elon', 'Callahan'):\n",
    "        print (name)\n",
    "        time.sleep(random.uniform ( 0.5, 1.5))\n",
    "\n",
    "def print_ages():\n",
    "    for _ in range(4):\n",
    "        print(random.randint(20,50))\n",
    "        time.sleep(random.uniform(0.5,1.5))\n",
    "\n",
    "\n",
    "t1 = threading.Thread(target = print_names)\n",
    "t2 = threading.Thread(target = print_ages)\n",
    "\n",
    "# The above threads are not doing anything yet. To do that, use start()\n",
    "\n",
    "t1.start()\n",
    "t2.start()\n",
    "\n",
    "t1.join()\n",
    "t2.join()\n",
    "\n"
   ]
  },
  {
   "cell_type": "code",
   "execution_count": 15,
   "id": "7e5dd455-f7a8-4682-a5bd-f48c7f6d5c36",
   "metadata": {},
   "outputs": [
    {
     "name": "stdout",
     "output_type": "stream",
     "text": [
      "Downloading https://www.gutenberg.org/ebooks/8627/8627-readme.txt to Downloads/8627-readme.txt\n"
     ]
    },
    {
     "name": "stderr",
     "output_type": "stream",
     "text": [
      "Exception in thread Thread-33 (download_file):\n",
      "Traceback (most recent call last):\n",
      "  File \u001b[35m\"C:\\Users\\jaira\\AppData\\Local\\Programs\\Python\\Python313\\Lib\\threading.py\"\u001b[0m, line \u001b[35m1043\u001b[0m, in \u001b[35m_bootstrap_inner\u001b[0m\n",
      "    \u001b[31mself.run\u001b[0m\u001b[1;31m()\u001b[0m\n",
      "    \u001b[31m~~~~~~~~\u001b[0m\u001b[1;31m^^\u001b[0m\n",
      "  File \u001b[35m\"C:\\Users\\jaira\\AppData\\Local\\Programs\\Python\\Python313\\Lib\\site-packages\\ipykernel\\ipkernel.py\"\u001b[0m, line \u001b[35m766\u001b[0m, in \u001b[35mrun_closure\u001b[0m\n",
      "    \u001b[31m_threading_Thread_run\u001b[0m\u001b[1;31m(self)\u001b[0m\n",
      "    \u001b[31m~~~~~~~~~~~~~~~~~~~~~\u001b[0m\u001b[1;31m^^^^^^\u001b[0m\n",
      "  File \u001b[35m\"C:\\Users\\jaira\\AppData\\Local\\Programs\\Python\\Python313\\Lib\\threading.py\"\u001b[0m, line \u001b[35m994\u001b[0m, in \u001b[35mrun\u001b[0m\n",
      "    \u001b[31mself._target\u001b[0m\u001b[1;31m(*self._args, **self._kwargs)\u001b[0m\n",
      "    \u001b[31m~~~~~~~~~~~~\u001b[0m\u001b[1;31m^^^^^^^^^^^^^^^^^^^^^^^^^^^^^\u001b[0m\n",
      "  File \u001b[35m\"C:\\Users\\jaira\\AppData\\Local\\Temp\\ipykernel_17704\\1567714193.py\"\u001b[0m, line \u001b[35m8\u001b[0m, in \u001b[35mdownload_file\u001b[0m\n",
      "    \u001b[31mPath(filename).write_bytes\u001b[0m\u001b[1;31m(response.content)\u001b[0m\n",
      "    \u001b[31m~~~~~~~~~~~~~~~~~~~~~~~~~~\u001b[0m\u001b[1;31m^^^^^^^^^^^^^^^^^^\u001b[0m\n",
      "  File \u001b[35m\"C:\\Users\\jaira\\AppData\\Local\\Programs\\Python\\Python313\\Lib\\pathlib\\_abc.py\"\u001b[0m, line \u001b[35m641\u001b[0m, in \u001b[35mwrite_bytes\u001b[0m\n",
      "    with \u001b[31mself.open\u001b[0m\u001b[1;31m(mode='wb')\u001b[0m as f:\n",
      "         \u001b[31m~~~~~~~~~\u001b[0m\u001b[1;31m^^^^^^^^^^^\u001b[0m\n",
      "  File \u001b[35m\"C:\\Users\\jaira\\AppData\\Local\\Programs\\Python\\Python313\\Lib\\pathlib\\_local.py\"\u001b[0m, line \u001b[35m537\u001b[0m, in \u001b[35mopen\u001b[0m\n",
      "    return \u001b[31mio.open\u001b[0m\u001b[1;31m(self, mode, buffering, encoding, errors, newline)\u001b[0m\n",
      "           \u001b[31m~~~~~~~\u001b[0m\u001b[1;31m^^^^^^^^^^^^^^^^^^^^^^^^^^^^^^^^^^^^^^^^^^^^^^^^^^\u001b[0m\n",
      "\u001b[1;35mFileNotFoundError\u001b[0m: \u001b[35m[Errno 2] No such file or directory: 'Downloads\\\\8627-readme.txt'\u001b[0m\n"
     ]
    },
    {
     "data": {
      "text/plain": [
       "[None]"
      ]
     },
     "execution_count": 15,
     "metadata": {},
     "output_type": "execute_result"
    }
   ],
   "source": [
    "import threading\n",
    "import requests\n",
    "from pathlib import Path\n",
    "\n",
    "def download_file(url, filename):\n",
    "    print(f'Downloading {url} to {filename}')\n",
    "    response = requests.get(url)\n",
    "    Path(filename).write_bytes(response.content)\n",
    "    print(f'Finished Downloading {filename}')\n",
    "\n",
    "base_url = \"https://www.gutenberg.org/ebooks/8627\"\n",
    "urls = [\n",
    "    f'{base_url}/8627-readme.txt',\n",
    "    #f'{base_url}/new_file.txt',\n",
    "]\n",
    "\n",
    "threads = []\n",
    "for url in urls:\n",
    "    filename = \"Downloads/\" + url.split(\"/\")[-1]\n",
    "    t = threading.Thread(target = download_file, args =(url,filename))\n",
    "    t.start()\n",
    "    threads.append(t)\n",
    "\n",
    "[t.join() for t in threads]\n",
    "\n",
    "       \n",
    "\n",
    "       \n",
    "    "
   ]
  },
  {
   "cell_type": "code",
   "execution_count": null,
   "id": "b399df7f-a5f0-49c0-859e-95fc19817d7d",
   "metadata": {},
   "outputs": [],
   "source": []
  }
 ],
 "metadata": {
  "kernelspec": {
   "display_name": "Python 3 (ipykernel)",
   "language": "python",
   "name": "python3"
  },
  "language_info": {
   "codemirror_mode": {
    "name": "ipython",
    "version": 3
   },
   "file_extension": ".py",
   "mimetype": "text/x-python",
   "name": "python",
   "nbconvert_exporter": "python",
   "pygments_lexer": "ipython3",
   "version": "3.13.5"
  }
 },
 "nbformat": 4,
 "nbformat_minor": 5
}
