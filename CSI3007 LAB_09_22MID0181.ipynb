{
 "cells": [
  {
   "cell_type": "markdown",
   "id": "3808b6b6-8f15-46c3-9fec-bdfef41f5294",
   "metadata": {},
   "source": [
    "# CSI3007 LAB_09_22MID0181"
   ]
  },
  {
   "cell_type": "markdown",
   "id": "cebee7ce-b960-4bdd-8d20-14c74e955eb8",
   "metadata": {},
   "source": [
    "# DATE:12/08/25"
   ]
  },
  {
   "cell_type": "code",
   "execution_count": 1,
   "id": "914eb7b9-b8f0-454e-83e2-ef201e8284d4",
   "metadata": {},
   "outputs": [],
   "source": [
    "class employee:\n",
    "    no_emp=0\n",
    "    raise_amt=1.04\n",
    "    def __init__(self,first,last,pay):\n",
    "        employee.no_emp+=1 #to count the no.of.employee\n",
    "        self.first=first\n",
    "        self.last=last\n",
    "        self.pay=pay\n",
    "\n",
    "    def apply_raise(self):\n",
    "        self.pay=int(self.pay*employee.raise_amt)\n",
    "        "
   ]
  },
  {
   "cell_type": "code",
   "execution_count": 3,
   "id": "ffb4d441-a09e-4643-b42f-0110ebdd9966",
   "metadata": {},
   "outputs": [],
   "source": [
    "e1=employee(\"donald\",\"trump\",5000)"
   ]
  },
  {
   "cell_type": "code",
   "execution_count": 4,
   "id": "43c417ea-c8ff-4a95-ae1b-a8d7131f6365",
   "metadata": {},
   "outputs": [
    {
     "name": "stdout",
     "output_type": "stream",
     "text": [
      "5000\n"
     ]
    }
   ],
   "source": [
    "print(e1.pay)\n"
   ]
  },
  {
   "cell_type": "code",
   "execution_count": 5,
   "id": "e609ab2f-2fd4-43f8-a5d2-c9545e5be85a",
   "metadata": {},
   "outputs": [
    {
     "name": "stdout",
     "output_type": "stream",
     "text": [
      "{'first': 'donald', 'last': 'trump', 'pay': 5000}\n"
     ]
    }
   ],
   "source": [
    "#namespace of the instance\n",
    "print(e1.__dict__)#container that has collections of key value pairs"
   ]
  },
  {
   "cell_type": "code",
   "execution_count": 6,
   "id": "723e067c-a686-4160-ba99-8d18fe3a22af",
   "metadata": {},
   "outputs": [
    {
     "name": "stdout",
     "output_type": "stream",
     "text": [
      "{'__module__': '__main__', '__firstlineno__': 1, 'no_emp': 1, 'raise_amt': 1.04, '__init__': <function employee.__init__ at 0x00000184937C91C0>, 'apply_raise': <function employee.apply_raise at 0x00000184937C9120>, '__static_attributes__': ('first', 'last', 'pay'), '__dict__': <attribute '__dict__' of 'employee' objects>, '__weakref__': <attribute '__weakref__' of 'employee' objects>, '__doc__': None}\n"
     ]
    }
   ],
   "source": [
    "#namespace of the class\n",
    "print(employee.__dict__)"
   ]
  },
  {
   "cell_type": "code",
   "execution_count": 7,
   "id": "e619b1b8-f1d8-49aa-921e-9756665832b7",
   "metadata": {},
   "outputs": [],
   "source": [
    "#using instance to update class variable\n",
    "e1.raise_amt=1.05"
   ]
  },
  {
   "cell_type": "code",
   "execution_count": 8,
   "id": "1428e74e-85e4-49e9-a03b-0eeda6971c1b",
   "metadata": {},
   "outputs": [
    {
     "name": "stdout",
     "output_type": "stream",
     "text": [
      "{'first': 'donald', 'last': 'trump', 'pay': 5000, 'raise_amt': 1.05}\n"
     ]
    }
   ],
   "source": [
    "print(e1.__dict__)"
   ]
  },
  {
   "cell_type": "markdown",
   "id": "648d5605-1d9f-49b4-8df6-7d5c9dc9d3e2",
   "metadata": {},
   "source": [
    "print(employee.raise_amt)\n",
    "print(e1.raise_amt)"
   ]
  },
  {
   "cell_type": "code",
   "execution_count": 10,
   "id": "85784a4e-0efc-4837-847e-43da98f4d9a3",
   "metadata": {},
   "outputs": [],
   "source": [
    "e2=employee(\"agnes\",\"rachel\",4000)\n"
   ]
  },
  {
   "cell_type": "code",
   "execution_count": 11,
   "id": "f5a775a2-c7af-4fa5-9d5b-ebce71e2e03d",
   "metadata": {},
   "outputs": [
    {
     "name": "stdout",
     "output_type": "stream",
     "text": [
      "2\n"
     ]
    }
   ],
   "source": [
    "print(employee.no_emp)"
   ]
  },
  {
   "cell_type": "code",
   "execution_count": 12,
   "id": "f06161cb-1959-4e8b-85ce-7aeb19efaafb",
   "metadata": {},
   "outputs": [],
   "source": [
    "e3=employee(\"jai\",\"latha\",3000)"
   ]
  },
  {
   "cell_type": "code",
   "execution_count": 14,
   "id": "f3fe9fdc-1f84-4e4b-8f31-f089b68e64ee",
   "metadata": {},
   "outputs": [
    {
     "name": "stdout",
     "output_type": "stream",
     "text": [
      "3\n"
     ]
    }
   ],
   "source": [
    "print(employee.no_emp)\n"
   ]
  },
  {
   "cell_type": "code",
   "execution_count": 15,
   "id": "d4c1fce5-b49a-4e9b-9f79-88b680a6399c",
   "metadata": {},
   "outputs": [
    {
     "name": "stdout",
     "output_type": "stream",
     "text": [
      "1.04\n"
     ]
    }
   ],
   "source": [
    "print(e2.raise_amt)#only particular value of the instance will change it will not change the value of the class variable"
   ]
  },
  {
   "cell_type": "code",
   "execution_count": 16,
   "id": "214c71c0-8d93-465b-bc22-00dd1b722a76",
   "metadata": {},
   "outputs": [],
   "source": [
    "e1.apply_raise()#increasing pay"
   ]
  },
  {
   "cell_type": "code",
   "execution_count": 17,
   "id": "28aa693b-eef8-455f-a151-87f7454f7474",
   "metadata": {},
   "outputs": [
    {
     "name": "stdout",
     "output_type": "stream",
     "text": [
      "5200\n"
     ]
    }
   ],
   "source": [
    "print(e1.pay)"
   ]
  },
  {
   "cell_type": "markdown",
   "id": "6160666d-a982-481e-b3c7-9bb3b47315a9",
   "metadata": {},
   "source": [
    "# INHERITANCE"
   ]
  },
  {
   "cell_type": "code",
   "execution_count": 18,
   "id": "2fb1a779-6a43-4b3f-91d3-04fb60a9079b",
   "metadata": {},
   "outputs": [],
   "source": [
    "class parent:\n",
    "    def greet(self):\n",
    "        print(\"hello from parent\")\n",
    "class child(parent):\n",
    "    pass"
   ]
  },
  {
   "cell_type": "code",
   "execution_count": 19,
   "id": "2d5a7be4-3aad-4ccb-9c80-c0d14ae02fab",
   "metadata": {},
   "outputs": [
    {
     "name": "stdout",
     "output_type": "stream",
     "text": [
      "hello from parent\n"
     ]
    }
   ],
   "source": [
    "c1=child()\n",
    "c1.greet()"
   ]
  },
  {
   "cell_type": "code",
   "execution_count": 20,
   "id": "ef30739f-6ad3-4771-b606-d2e459b93b24",
   "metadata": {},
   "outputs": [],
   "source": [
    "class parent:\n",
    "    def greet(self):\n",
    "        print(\"hello from parent\")\n",
    "class child(parent):\n",
    "    def greet(self):\n",
    "        super().greet()#calls parent's greet\n",
    "        print(\"hello from child\")"
   ]
  },
  {
   "cell_type": "code",
   "execution_count": 21,
   "id": "9b418e6a-15cc-4959-a125-f6e6b94ca13d",
   "metadata": {},
   "outputs": [
    {
     "name": "stdout",
     "output_type": "stream",
     "text": [
      "hello from parent\n",
      "hello from child\n"
     ]
    }
   ],
   "source": [
    "c1=child()\n",
    "c1.greet()#calls greet function inside child"
   ]
  },
  {
   "cell_type": "code",
   "execution_count": 22,
   "id": "bcb9034e-3b8b-4a40-b29f-b3fc37f0415e",
   "metadata": {},
   "outputs": [],
   "source": [
    "class manager:#parent class\n",
    "    raise_amt=1.04\n",
    "    def apply_raise(self):\n",
    "        self.pay=int(self.pay*employee.raise_amt)\n",
    "class employee(manager):#child class\n",
    "    def __init__(self,first,last,pay):\n",
    "        self.first=first\n",
    "        self.last=last\n",
    "        self.pay=pay\n",
    "    def apply_raise(self):\n",
    "        super().apply_raise()\n",
    "        "
   ]
  },
  {
   "cell_type": "code",
   "execution_count": 24,
   "id": "db7c708b-dcc1-4baf-9bb8-5895eb1baf70",
   "metadata": {},
   "outputs": [],
   "source": [
    "e1=employee(\"agnes\",\"rachel\",300)"
   ]
  },
  {
   "cell_type": "code",
   "execution_count": 25,
   "id": "fa9bbaf5-49c6-4319-86b9-182f405fb305",
   "metadata": {},
   "outputs": [
    {
     "name": "stdout",
     "output_type": "stream",
     "text": [
      "300\n"
     ]
    }
   ],
   "source": [
    "print(e1.pay)"
   ]
  },
  {
   "cell_type": "code",
   "execution_count": 26,
   "id": "fa6a8d28-0ddc-4113-b9b6-b75bc74277f9",
   "metadata": {},
   "outputs": [
    {
     "name": "stdout",
     "output_type": "stream",
     "text": [
      "312\n"
     ]
    }
   ],
   "source": [
    "e1.apply_raise()\n",
    "print(e1.pay)"
   ]
  },
  {
   "cell_type": "code",
   "execution_count": 27,
   "id": "cdd3b155-738c-4f95-87ca-59e860dd7960",
   "metadata": {},
   "outputs": [
    {
     "name": "stdout",
     "output_type": "stream",
     "text": [
      "{'first': 'agnes', 'last': 'rachel', 'pay': 312}\n"
     ]
    }
   ],
   "source": [
    "print(e1.__dict__)"
   ]
  },
  {
   "cell_type": "code",
   "execution_count": 28,
   "id": "947418a6-e5fd-44b2-b87e-cf2df7623bda",
   "metadata": {},
   "outputs": [],
   "source": [
    "#inheritance is uni directional (child can access parent class but not vice versa)\n",
    "class a:\n",
    "    def greet(self):\n",
    "        print(\"hello from parent\")\n",
    "class b(a):#single inheritance\n",
    "    pass\n",
    "class c:\n",
    "    pass\n",
    "class d(a,c):#multiple inheritance\n",
    "    pass\n",
    "class e:\n",
    "    pass\n",
    "class f(e,d):#multilevel inheritance(inherits already inherited class)\n",
    "    pass"
   ]
  },
  {
   "cell_type": "code",
   "execution_count": 31,
   "id": "68159a4d-c833-4bbd-b11a-96345783d234",
   "metadata": {},
   "outputs": [],
   "source": [
    "class contact:\n",
    "    all_cont=[]\n",
    "    def __init__(self,name,email):\n",
    "        self.name=name\n",
    "        self.email=email\n",
    "        contact.all_cont.append(self)\n",
    "class supplier(contact):\n",
    "    def order(self,order):\n",
    "        print(\"send\" \"{} order to {}\".format(order.self.name))"
   ]
  },
  {
   "cell_type": "code",
   "execution_count": 32,
   "id": "3054ad26-51d4-4cba-b9e1-99ad7979c47b",
   "metadata": {},
   "outputs": [],
   "source": [
    "c=contact(\"agnes\",\"agnes@gmail.com\")"
   ]
  },
  {
   "cell_type": "code",
   "execution_count": 33,
   "id": "3ce774ef-33b3-4365-b6e3-18e25bb43a2f",
   "metadata": {},
   "outputs": [
    {
     "name": "stdout",
     "output_type": "stream",
     "text": [
      "agnes agnes@gmail.com\n"
     ]
    }
   ],
   "source": [
    "print(c.name,c.email)"
   ]
  },
  {
   "cell_type": "code",
   "execution_count": 34,
   "id": "5a3aa873-38e7-4318-8b00-2f45ff1031c3",
   "metadata": {},
   "outputs": [],
   "source": [
    "class contactlist(list):\n",
    "    def search(self,name):\n",
    "        matching_contacts=[]\n",
    "        for contact in self:\n",
    "            if name in contact.name:\n",
    "                matching_contacts.append(contact)\n",
    "            return matching_contacts"
   ]
  },
  {
   "cell_type": "code",
   "execution_count": 35,
   "id": "4c9d3183-9a6e-4060-9651-181950daa46e",
   "metadata": {},
   "outputs": [],
   "source": [
    "class contact:\n",
    "    all_contacts=contactlist()#shared list of all contacts\n",
    "    def __init__(self,name,email):\n",
    "        self.name=name\n",
    "        self.email=email\n",
    "        self.all_contacts.append(self)#add self to the shared contact list"
   ]
  },
  {
   "cell_type": "code",
   "execution_count": 36,
   "id": "18e6298e-04f3-45a5-82d6-d2a2a1d74640",
   "metadata": {},
   "outputs": [
    {
     "ename": "AttributeError",
     "evalue": "'child' object has no attribute 'contact'",
     "output_type": "error",
     "traceback": [
      "\u001b[31m---------------------------------------------------------------------------\u001b[39m",
      "\u001b[31mAttributeError\u001b[39m                            Traceback (most recent call last)",
      "\u001b[36mCell\u001b[39m\u001b[36m \u001b[39m\u001b[32mIn[36]\u001b[39m\u001b[32m, line 1\u001b[39m\n\u001b[32m----> \u001b[39m\u001b[32m1\u001b[39m \u001b[43mc1\u001b[49m\u001b[43m.\u001b[49m\u001b[43mcontact\u001b[49m(\u001b[33m\"\u001b[39m\u001b[33mjohn a\u001b[39m\u001b[33m\"\u001b[39m,\u001b[33m\"\u001b[39m\u001b[33mjohn@gmail.com\u001b[39m\u001b[33m\"\u001b[39m)\n\u001b[32m      2\u001b[39m c2.contact(\u001b[33m\"\u001b[39m\u001b[33magnes\u001b[39m\u001b[33m\"\u001b[39m,\u001b[33m\"\u001b[39m\u001b[33magnes@gmail.com\u001b[39m\u001b[33m\"\u001b[39m)\n\u001b[32m      3\u001b[39m [c.name \u001b[38;5;28;01mfor\u001b[39;00m c \u001b[38;5;129;01min\u001b[39;00m contact.all_contacts.search(\u001b[33m'\u001b[39m\u001b[33mjohn\u001b[39m\u001b[33m'\u001b[39m)]\n",
      "\u001b[31mAttributeError\u001b[39m: 'child' object has no attribute 'contact'"
     ]
    }
   ],
   "source": [
    "c1.contact(\"john a\",\"john@gmail.com\")\n",
    "c2.contact(\"agnes\",\"agnes@gmail.com\")\n",
    "[c.name for c in contact.all_contacts.search('john')]"
   ]
  },
  {
   "cell_type": "code",
   "execution_count": null,
   "id": "7940af41-dbfd-42ab-b30b-b6023421134b",
   "metadata": {},
   "outputs": [],
   "source": [
    "|"
   ]
  }
 ],
 "metadata": {
  "kernelspec": {
   "display_name": "Python 3 (ipykernel)",
   "language": "python",
   "name": "python3"
  },
  "language_info": {
   "codemirror_mode": {
    "name": "ipython",
    "version": 3
   },
   "file_extension": ".py",
   "mimetype": "text/x-python",
   "name": "python",
   "nbconvert_exporter": "python",
   "pygments_lexer": "ipython3",
   "version": "3.13.5"
  }
 },
 "nbformat": 4,
 "nbformat_minor": 5
}
