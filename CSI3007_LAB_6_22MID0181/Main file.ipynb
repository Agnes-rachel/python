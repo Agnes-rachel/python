{
 "cells": [
  {
   "cell_type": "markdown",
   "id": "a5c88fd3-8dfb-445f-adce-4a98bc8321c0",
   "metadata": {},
   "source": [
    "LAB 6\n"
   ]
  },
  {
   "cell_type": "markdown",
   "id": "d8a756b8-d0e0-44ae-aa01-5a09bdf9e02c",
   "metadata": {},
   "source": [
    "1.PASSING ARGUMENTS-POSITIONAL ARGUMENTS"
   ]
  },
  {
   "cell_type": "code",
   "execution_count": 4,
   "id": "00114701-9297-4020-b068-bd05db92a14c",
   "metadata": {},
   "outputs": [
    {
     "name": "stdout",
     "output_type": "stream",
     "text": [
      "My dog name is jack\n"
     ]
    }
   ],
   "source": [
    "def describe_pet(animal_type,pet_name):\n",
    "    print(f\"My {animal_type} name is {pet_name}\")\n",
    "describe_pet('dog','jack')"
   ]
  },
  {
   "cell_type": "markdown",
   "id": "9adc90e0-7798-40d6-90cb-1eba61cce60d",
   "metadata": {},
   "source": [
    "2.MULTIPLE FUNCTION CALLS"
   ]
  },
  {
   "cell_type": "code",
   "execution_count": 5,
   "id": "0e4f15ba-66fa-4dc5-8773-47b44451310a",
   "metadata": {},
   "outputs": [
    {
     "name": "stdout",
     "output_type": "stream",
     "text": [
      "My dog name is jack\n",
      "My cat name is jai\n"
     ]
    }
   ],
   "source": [
    "def describe_pet(animal_type,pet_name):\n",
    "    print(f\"My {animal_type} name is {pet_name}\")\n",
    "describe_pet('dog','jack')\n",
    "describe_pet('cat','jai')"
   ]
  },
  {
   "cell_type": "markdown",
   "id": "4b896fdb-76da-4f42-b3b3-3d315bba9555",
   "metadata": {},
   "source": [
    "3.ORDER MATTERS IN POSITIONAL ARGUMENTS"
   ]
  },
  {
   "cell_type": "code",
   "execution_count": 8,
   "id": "0c27b777-c9ce-4d63-849a-0b5dfd689d3b",
   "metadata": {},
   "outputs": [
    {
     "name": "stdout",
     "output_type": "stream",
     "text": [
      "My JACK name is DOG\n"
     ]
    }
   ],
   "source": [
    "def describe_pet(animal_type,pet_name):\n",
    "    print(f\"My {animal_type} name is {pet_name}\")\n",
    "describe_pet('JACK','DOG') #here the order of arguments is changed"
   ]
  },
  {
   "cell_type": "markdown",
   "id": "15f5e1c8-3889-4744-bc8d-f254a9845f9c",
   "metadata": {},
   "source": [
    "4.KEYWORD ARGUMENTS"
   ]
  },
  {
   "cell_type": "code",
   "execution_count": 9,
   "id": "6f85867d-baf8-48b5-aff2-66c39f2e184d",
   "metadata": {},
   "outputs": [
    {
     "name": "stdout",
     "output_type": "stream",
     "text": [
      "My Dog name is jack\n"
     ]
    }
   ],
   "source": [
    "#here order does not matter\n",
    "def describe_pet(animal_type,pet_name):\n",
    "    print(f\"My {animal_type} name is {pet_name}\")\n",
    "describe_pet(animal_type='Dog',pet_name='jack')"
   ]
  },
  {
   "cell_type": "markdown",
   "id": "0ef4baf4-89be-4a24-a76f-ab939da7ebbb",
   "metadata": {},
   "source": [
    "5. DEFAULT VALUES"
   ]
  },
  {
   "cell_type": "code",
   "execution_count": 13,
   "id": "f3b5ed45-7a8d-463d-9c0a-89179418486c",
   "metadata": {},
   "outputs": [
    {
     "name": "stdout",
     "output_type": "stream",
     "text": [
      "My dog name is jack\n"
     ]
    }
   ],
   "source": [
    "def describe_pet(pet_name,animal_type='dog'):\n",
    "    print(f\"My {animal_type} name is {pet_name}\")\n",
    "describe_pet(pet_name='jack')"
   ]
  },
  {
   "cell_type": "markdown",
   "id": "e0cb9fd0-d853-4330-919b-a399b436bc22",
   "metadata": {},
   "source": [
    "6.HENCE MANY WAYS TO CALL A FUNCTION.NEED YOUR COMMENT ON EACH FUNCTION CALL TYPE"
   ]
  },
  {
   "cell_type": "code",
   "execution_count": 15,
   "id": "094ded0c-d108-4274-b743-463e1908db61",
   "metadata": {},
   "outputs": [
    {
     "name": "stdout",
     "output_type": "stream",
     "text": [
      "My dog name is bruno\n",
      "My dog name is bruno\n",
      "My hamster name is harry\n",
      "My hamster name is harry\n",
      "My hamster name is harry\n"
     ]
    }
   ],
   "source": [
    "describe_pet('bruno') #positional with default arguments\n",
    "describe_pet(pet_name='bruno') #keyword with default arguments\n",
    "describe_pet('harry','hamster') #positional arguments\n",
    "describe_pet(pet_name='harry',animal_type='hamster') #keyword arguments\n",
    "describe_pet(animal_type='hamster',pet_name='harry') #keyword arguments"
   ]
  },
  {
   "cell_type": "markdown",
   "id": "77fa4811-ae86-4dba-ad9b-b2525d6b8992",
   "metadata": {},
   "source": [
    "7.RETUNING A  SIMPLE VALUE"
   ]
  },
  {
   "cell_type": "code",
   "execution_count": 19,
   "id": "6652d06e-d4db-42b9-b39f-c11928e120bf",
   "metadata": {},
   "outputs": [
    {
     "name": "stdout",
     "output_type": "stream",
     "text": [
      "Agnes Rachel\n"
     ]
    }
   ],
   "source": [
    "def build_name(first_name,last_name):\n",
    "    full_name=f\"{first_name} {last_name}\"\n",
    "    return full_name.title()\n",
    "print(build_name('agnes','rachel')) #without print also it will work"
   ]
  },
  {
   "cell_type": "code",
   "execution_count": 18,
   "id": "6aa4cdd5-f584-4fc7-9b50-1561cc9b27b7",
   "metadata": {},
   "outputs": [
    {
     "name": "stdout",
     "output_type": "stream",
     "text": [
      "Agnes Rachel\n"
     ]
    }
   ],
   "source": [
    "def build_name(first_name,last_name):\n",
    "    full_name=f\"{first_name} {last_name}\"\n",
    "    return full_name.title()\n",
    "name=build_name('agnes','rachel')\n",
    "print(name)"
   ]
  },
  {
   "cell_type": "markdown",
   "id": "6509acfc-94f4-40b4-9d56-40206d9d8497",
   "metadata": {},
   "source": [
    "8.MAKING AN ARGUMENT OPTIONAL"
   ]
  },
  {
   "cell_type": "code",
   "execution_count": null,
   "id": "b36a2047-c280-4c12-8a1a-804ec91e3662",
   "metadata": {},
   "outputs": [],
   "source": [
    "def describe_pet(pet_name,animal_type='dog'):\n",
    "    print(f\"My {animal_type} name is {pet_name}\")\n",
    "describe_pet(pet_name='jack')"
   ]
  },
  {
   "cell_type": "markdown",
   "id": "86c5f432-2cd2-42e8-b6cc-bf8ca1fccc7b",
   "metadata": {},
   "source": [
    "9.RETURNING A DICTIONARY"
   ]
  },
  {
   "cell_type": "code",
   "execution_count": 20,
   "id": "cfc9697b-aa65-4254-b3e4-2f355ae2c1a6",
   "metadata": {},
   "outputs": [
    {
     "name": "stdout",
     "output_type": "stream",
     "text": [
      "{'Name': 'Alice', 'Age': 15, 'Grade': '10th Grade'}\n"
     ]
    }
   ],
   "source": [
    "def get_student_info(name, age, grade):\n",
    "    student = {\n",
    "        \"Name\": name,\n",
    "        \"Age\": age,\n",
    "        \"Grade\": grade\n",
    "    }\n",
    "    return student\n",
    "info = get_student_info(\"Alice\", 15, \"10th Grade\")\n",
    "print(info)\n"
   ]
  },
  {
   "cell_type": "markdown",
   "id": "e20b5e68-b3a1-4830-9d18-1b872131cefe",
   "metadata": {},
   "source": [
    "10.PASSING A LIST"
   ]
  },
  {
   "cell_type": "code",
   "execution_count": null,
   "id": "2db6948e-fc6c-4332-adfd-9352abde4dd2",
   "metadata": {},
   "outputs": [],
   "source": [
    "def count_elements(input_list):\n",
    "    element_count = {}\n",
    "    for item in input_list:\n",
    "        if item in element_count:\n",
    "            element_count[item] += 1\n",
    "        else:\n",
    "            element_count[item] = 1\n",
    "    return element_count\n",
    "\n",
    "# Example usage\n",
    "my_list = ['apple', 'banana', 'apple', 'orange', 'banana', 'apple']\n",
    "result = count_elements(my_list)\n",
    "print(result)\n"
   ]
  },
  {
   "cell_type": "markdown",
   "id": "950e77fc-d7db-49b9-89e3-bb15c12d77cc",
   "metadata": {},
   "source": [
    "11. MODIFYING A LIST INSIDE THE FUNCTION"
   ]
  },
  {
   "cell_type": "code",
   "execution_count": 21,
   "id": "6af6c29f-0c66-4e2b-8b6f-3747e14b8e34",
   "metadata": {},
   "outputs": [
    {
     "name": "stdout",
     "output_type": "stream",
     "text": [
      "Inside function: ['item1', 'item2', 'new_item1', 'new_item2']\n",
      "Outside function: ['item1', 'item2', 'new_item1', 'new_item2']\n"
     ]
    }
   ],
   "source": [
    "def add_items(my_list):\n",
    "    my_list.append(\"new_item1\")\n",
    "    my_list.append(\"new_item2\")\n",
    "    print(\"Inside function:\", my_list)\n",
    "\n",
    "# Original list\n",
    "items = [\"item1\", \"item2\"]\n",
    "\n",
    "# Call the function\n",
    "add_items(items)\n",
    "\n",
    "# Print after function call\n",
    "print(\"Outside function:\", items)\n"
   ]
  },
  {
   "cell_type": "markdown",
   "id": "99a43576-2e11-4d6c-bd66-2a5abfd903b3",
   "metadata": {},
   "source": [
    "12.PROTECTING A LIST FROM UPDATES"
   ]
  },
  {
   "cell_type": "code",
   "execution_count": 22,
   "id": "9c99715e-e86f-4f2a-902f-f1ec4c31c2f1",
   "metadata": {},
   "outputs": [
    {
     "name": "stdout",
     "output_type": "stream",
     "text": [
      "Inside function: ['apple', 'banana', 'new_item']\n",
      "Outside function: ['apple', 'banana']\n"
     ]
    }
   ],
   "source": [
    "def modify_list(copied_list):\n",
    "    copied_list.append(\"new_item\")\n",
    "    print(\"Inside function:\", copied_list)\n",
    "\n",
    "# Original list\n",
    "my_list = [\"apple\", \"banana\"]\n",
    "\n",
    "# Pass a copy of the list\n",
    "modify_list(my_list.copy())\n",
    "\n",
    "# Check original list remains unchanged\n",
    "print(\"Outside function:\", my_list)\n"
   ]
  },
  {
   "cell_type": "markdown",
   "id": "5ef87c68-b6a8-4195-b80d-6c7d3879ea51",
   "metadata": {},
   "source": [
    "13.PASSING ARBITRARY NUMBER OF ARGUMENTS"
   ]
  },
  {
   "cell_type": "code",
   "execution_count": 23,
   "id": "0949f567-4aad-4543-afd2-9f1c610b6b8b",
   "metadata": {},
   "outputs": [
    {
     "name": "stdout",
     "output_type": "stream",
     "text": [
      "pizza toppings are ('olives',)\n",
      "pizza toppings are ('cheese', 'sause', 'greens')\n"
     ]
    }
   ],
   "source": [
    "def make_pizza(*toppings):\n",
    "    print(f\"pizza toppings are {toppings}\")\n",
    "make_pizza('olives')\n",
    "make_pizza('cheese','sause','greens')"
   ]
  },
  {
   "cell_type": "markdown",
   "id": "6c1ce9a4-f110-4407-b626-75210d1920d3",
   "metadata": {},
   "source": [
    "14.MIXING POSITIONAL AND ARBITRARY ARGUMENTS"
   ]
  },
  {
   "cell_type": "code",
   "execution_count": 24,
   "id": "da0a4b79-f6e9-49b1-a8c5-1cdc7520bb75",
   "metadata": {},
   "outputs": [
    {
     "name": "stdout",
     "output_type": "stream",
     "text": [
      "User: Agnes\n",
      "Location: Chennai\n",
      "Items in cart: ('Laptop', 'Mouse', 'Keyboard')\n",
      "Delivery type: Express\n",
      "Additional Info: {'coupon': 'WELCOME10', 'gift_wrap': True}\n"
     ]
    }
   ],
   "source": [
    "def shopping_cart(user, location, *items, delivery=\"Standard\", **extra_info):\n",
    "    print(f\"User: {user}\")\n",
    "    print(f\"Location: {location}\")\n",
    "    print(f\"Items in cart: {items}\")\n",
    "    print(f\"Delivery type: {delivery}\")\n",
    "    print(f\"Additional Info: {extra_info}\")\n",
    "shopping_cart(\n",
    "    \"Agnes\", \"Chennai\",\n",
    "    \"Laptop\", \"Mouse\", \"Keyboard\",\n",
    "    delivery=\"Express\",\n",
    "    coupon=\"WELCOME10\",\n",
    "    gift_wrap=True\n",
    ")\n"
   ]
  },
  {
   "cell_type": "markdown",
   "id": "cee1c945-5b09-4458-be6a-a7cf0764ef96",
   "metadata": {},
   "source": [
    "15.USING ARBITRARY KEYWORD"
   ]
  },
  {
   "cell_type": "code",
   "execution_count": 25,
   "id": "102d504a-df15-4dca-9dc9-85abd0aa0e92",
   "metadata": {},
   "outputs": [
    {
     "name": "stdout",
     "output_type": "stream",
     "text": [
      "{'location': 'vellore', 'fielf': 'cs', 'first_name': 'agnes', 'last_name': 'rachel'}\n"
     ]
    }
   ],
   "source": [
    "def build_profile(first,last,**user_info):\n",
    "    user_info['first_name']=first\n",
    "    user_info['last_name']=last\n",
    "    return user_info\n",
    "user_profile=build_profile('agnes','rachel',location='vellore',fielf='cs')\n",
    "print(user_profile\n",
    "    "
   ]
  },
  {
   "cell_type": "markdown",
   "id": "9e4d98f3-13c3-483c-951a-742ef4a8c050",
   "metadata": {},
   "source": [
    "17.IMPORTING SPECIFIC FUNCTIONS"
   ]
  },
  {
   "cell_type": "code",
   "execution_count": 26,
   "id": "5a7d9ae3-c225-45b3-8ab1-cfb53cb49d0b",
   "metadata": {},
   "outputs": [
    {
     "name": "stdout",
     "output_type": "stream",
     "text": [
      "Hello, Agnes!\n",
      "Sum: 15\n"
     ]
    }
   ],
   "source": [
    "# main.py\n",
    "\n",
    "import my_module\n",
    "\n",
    "print(my_module.greet(\"Agnes\"))\n",
    "print(\"Sum:\", my_module.add(10, 5))\n"
   ]
  },
  {
   "cell_type": "code",
   "execution_count": 31,
   "id": "14f3039e-c5fe-4250-8e33-906a16738887",
   "metadata": {},
   "outputs": [
    {
     "name": "stdout",
     "output_type": "stream",
     "text": [
      "Hello, Rachel!\n",
      "15\n"
     ]
    }
   ],
   "source": [
    "from my_module import greet, add\n",
    "\n",
    "print(greet(\"Rachel\"))\n",
    "print(add(7, 8))\n"
   ]
  },
  {
   "cell_type": "markdown",
   "id": "348639eb-eb8c-4d5f-9674-bb4e321d4362",
   "metadata": {},
   "source": [
    "18.GIVE A FUNCTION AN ALIAS USING 'AS'"
   ]
  },
  {
   "cell_type": "code",
   "execution_count": 30,
   "id": "ca62fe25-4f92-461e-95a3-731b3dc54540",
   "metadata": {},
   "outputs": [
    {
     "name": "stdout",
     "output_type": "stream",
     "text": [
      "15\n"
     ]
    }
   ],
   "source": [
    "from my_module import add\n",
    "print(add(7, 8))"
   ]
  },
  {
   "cell_type": "markdown",
   "id": "656f9e77-f5a3-4f22-947d-ada2f57bdfd7",
   "metadata": {},
   "source": [
    "19.GIVE A MODULE AN ALIAS USING 'AS'"
   ]
  },
  {
   "cell_type": "code",
   "execution_count": 32,
   "id": "7513be72-1072-43bd-a9ac-cbf93999b262",
   "metadata": {},
   "outputs": [
    {
     "name": "stdout",
     "output_type": "stream",
     "text": [
      "Hello, Buddy!\n",
      "5\n"
     ]
    }
   ],
   "source": [
    "import my_module as mm\n",
    "\n",
    "print(mm.greet(\"Buddy\"))\n",
    "print(mm.add(2, 3))\n"
   ]
  },
  {
   "cell_type": "markdown",
   "id": "8145efbc-d6c0-44fd-b541-cc69e849a74a",
   "metadata": {},
   "source": [
    "20. IMPORTING ALL FUNCTIONS IN A MODULE"
   ]
  },
  {
   "cell_type": "code",
   "execution_count": 34,
   "id": "19f7a01e-49eb-4c43-a9a4-5942e9663b60",
   "metadata": {},
   "outputs": [
    {
     "name": "stdout",
     "output_type": "stream",
     "text": [
      "10\n"
     ]
    }
   ],
   "source": [
    "from my_module import *\n",
    "print(add(5,5))"
   ]
  },
  {
   "cell_type": "code",
   "execution_count": null,
   "id": "e29f6815-ec69-4933-8f21-e2bd13e378cc",
   "metadata": {},
   "outputs": [],
   "source": []
  }
 ],
 "metadata": {
  "kernelspec": {
   "display_name": "Python 3 (ipykernel)",
   "language": "python",
   "name": "python3"
  },
  "language_info": {
   "codemirror_mode": {
    "name": "ipython",
    "version": 3
   },
   "file_extension": ".py",
   "mimetype": "text/x-python",
   "name": "python",
   "nbconvert_exporter": "python",
   "pygments_lexer": "ipython3",
   "version": "3.13.5"
  }
 },
 "nbformat": 4,
 "nbformat_minor": 5
}
