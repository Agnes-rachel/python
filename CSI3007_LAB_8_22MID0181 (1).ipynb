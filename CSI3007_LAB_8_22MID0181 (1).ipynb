{
 "cells": [
  {
   "cell_type": "markdown",
   "id": "96b812ea-d0b3-4902-9cac-09ee122175d3",
   "metadata": {},
   "source": [
    "# CSI3007 LAB_08_22MID0181\n",
    "# DATE:12/08/25"
   ]
  },
  {
   "cell_type": "code",
   "execution_count": 23,
   "id": "9c95eb0e-36b3-4ec8-9294-0a32ff33aea2",
   "metadata": {},
   "outputs": [],
   "source": [
    "class employee:\n",
    "    no_emp=0\n",
    "    raise_amt=1.04\n",
    "    \n",
    "    def __init__(self,first,last,pay):\n",
    "       employee.no_emp+=1 #to count the no.of employee\n",
    "       self.first=first\n",
    "       self.last=last\n",
    "       self.pay=pay\n",
    "    \n",
    "    def apply_raise(self):\n",
    "        self.pay=int(self.pay*employee.raise_amt)\n",
    "\n",
    "\n",
    "    "
   ]
  },
  {
   "cell_type": "code",
   "execution_count": 34,
   "id": "e55cb597-179a-4cdb-8891-a3f505c6e3e0",
   "metadata": {},
   "outputs": [],
   "source": [
    "e1=employee(\"donald\",\"trump\",5000)"
   ]
  },
  {
   "cell_type": "code",
   "execution_count": 35,
   "id": "5c3d8005-f90c-4ffa-8c2d-7f74014106c0",
   "metadata": {},
   "outputs": [
    {
     "name": "stdout",
     "output_type": "stream",
     "text": [
      "5000\n"
     ]
    }
   ],
   "source": [
    "print(e1.pay)"
   ]
  },
  {
   "cell_type": "markdown",
   "id": "d1d63921-d112-45f0-9c23-dec0dab40972",
   "metadata": {},
   "source": [
    "# namespace of the instance\n",
    "print(e1.__dict__)#container that has collections of key value pairs"
   ]
  },
  {
   "cell_type": "code",
   "execution_count": 5,
   "id": "f2c103d5-f9e5-4529-aee5-cf6708ddfd64",
   "metadata": {},
   "outputs": [
    {
     "name": "stdout",
     "output_type": "stream",
     "text": [
      "{'__module__': '__main__', 'no_emp': 1, 'raise_amt': 1.04, '__init__': <function employee.__init__ at 0x7961093ba2a0>, 'apply_raise': <function employee.apply_raise at 0x7961093b9800>, '__dict__': <attribute '__dict__' of 'employee' objects>, '__weakref__': <attribute '__weakref__' of 'employee' objects>, '__doc__': None}\n"
     ]
    }
   ],
   "source": [
    "#namespace of the class\n",
    "print(employee.__dict__)"
   ]
  },
  {
   "cell_type": "code",
   "execution_count": 31,
   "id": "42c3bd43-b879-4b74-96e3-eec99edce34b",
   "metadata": {},
   "outputs": [],
   "source": [
    "#uding instance to update class variable\n",
    "e1.raise_amt=1.05"
   ]
  },
  {
   "cell_type": "code",
   "execution_count": 32,
   "id": "98fc7ec4-de2c-4d7b-851b-e3470189e498",
   "metadata": {},
   "outputs": [
    {
     "name": "stdout",
     "output_type": "stream",
     "text": [
      "{'first': 'donald', 'last': 'trump', 'pay': 5000, 'raise_amt': 1.05}\n"
     ]
    }
   ],
   "source": [
    "print(e1.__dict__)"
   ]
  },
  {
   "cell_type": "code",
   "execution_count": 7,
   "id": "33160807-c20a-426f-a094-8d1fcb582055",
   "metadata": {},
   "outputs": [
    {
     "name": "stdout",
     "output_type": "stream",
     "text": [
      "1.04\n",
      "1.05\n"
     ]
    }
   ],
   "source": [
    "print(employee.raise_amt)\n",
    "print(e1.raise_amt)"
   ]
  },
  {
   "cell_type": "code",
   "execution_count": 25,
   "id": "c7a680b3-e185-4453-b7ff-5590121013c8",
   "metadata": {},
   "outputs": [],
   "source": [
    "e2=employee(\"agnes\",\"rachel\",4000)"
   ]
  },
  {
   "cell_type": "code",
   "execution_count": 26,
   "id": "356fe11f-00f2-4089-a657-fafe162529f8",
   "metadata": {},
   "outputs": [
    {
     "name": "stdout",
     "output_type": "stream",
     "text": [
      "2\n"
     ]
    }
   ],
   "source": [
    "print(employee.no_emp)"
   ]
  },
  {
   "cell_type": "code",
   "execution_count": 27,
   "id": "d6c9b847-7b0b-4cae-a377-a26ed3061f98",
   "metadata": {},
   "outputs": [],
   "source": [
    "e3=employee(\"jai\",\"latha\",3000)"
   ]
  },
  {
   "cell_type": "code",
   "execution_count": 28,
   "id": "cc9fa054-1fb2-4e95-badc-665a1d7cdaa9",
   "metadata": {},
   "outputs": [
    {
     "name": "stdout",
     "output_type": "stream",
     "text": [
      "3\n"
     ]
    }
   ],
   "source": [
    "print(employee.no_emp)"
   ]
  },
  {
   "cell_type": "code",
   "execution_count": 29,
   "id": "e13e0fdf-9eeb-46ec-ab92-25b0c766af6e",
   "metadata": {},
   "outputs": [
    {
     "name": "stdout",
     "output_type": "stream",
     "text": [
      "1.04\n"
     ]
    }
   ],
   "source": [
    "print(e2.raise_amt)#only particular value of the instance only change it will not change the value of class variable and other instances"
   ]
  },
  {
   "cell_type": "code",
   "execution_count": 36,
   "id": "1ddaf4c1-cbf7-4d47-9155-6f57220637f0",
   "metadata": {},
   "outputs": [],
   "source": [
    "e1.apply_raise()#increasing pay"
   ]
  },
  {
   "cell_type": "code",
   "execution_count": 37,
   "id": "bea6aef5-af33-47eb-ba75-e2fcc4cc841b",
   "metadata": {},
   "outputs": [
    {
     "name": "stdout",
     "output_type": "stream",
     "text": [
      "5200\n"
     ]
    }
   ],
   "source": [
    "print(e1.pay)"
   ]
  },
  {
   "cell_type": "markdown",
   "id": "e5867525-93cd-4236-8d2b-871d4d503d71",
   "metadata": {},
   "source": [
    "# INHERITANCE"
   ]
  },
  {
   "cell_type": "code",
   "execution_count": 40,
   "id": "bad812a1-b92c-40d6-961a-29a7586f9f1f",
   "metadata": {},
   "outputs": [],
   "source": [
    "class parent:\n",
    "    def greet(self):\n",
    "        print(\"hello from parent\")\n",
    "class child(parent):\n",
    "    pass\n"
   ]
  },
  {
   "cell_type": "code",
   "execution_count": 41,
   "id": "ced59c4d-9a56-4337-aea3-cd7f5d1d3349",
   "metadata": {},
   "outputs": [
    {
     "name": "stdout",
     "output_type": "stream",
     "text": [
      "hello from parent\n"
     ]
    }
   ],
   "source": [
    "c1=child()\n",
    "c1.greet()"
   ]
  },
  {
   "cell_type": "code",
   "execution_count": 42,
   "id": "2348c5dc-1ba4-43d8-a79f-92772d4fdffa",
   "metadata": {},
   "outputs": [],
   "source": [
    "class parent:\n",
    "    def greet(self):\n",
    "        print(\"hello from parent\")\n",
    "class child(parent):\n",
    "    def greet(self):\n",
    "        super().greet()#calls parent's greet\n",
    "        print(\"hello from child\")\n"
   ]
  },
  {
   "cell_type": "code",
   "execution_count": 44,
   "id": "d8e5bfe7-03f4-497a-8fea-8d3f8dad13d7",
   "metadata": {},
   "outputs": [
    {
     "name": "stdout",
     "output_type": "stream",
     "text": [
      "hello from parent\n",
      "hello from child\n"
     ]
    }
   ],
   "source": [
    "c1=child()\n",
    "c1.greet() #calls greet function inside child "
   ]
  },
  {
   "cell_type": "code",
   "execution_count": 54,
   "id": "8bdb2563-b6c4-4af7-886e-7d3285149c33",
   "metadata": {},
   "outputs": [],
   "source": [
    "class manager:#parent class\n",
    "    raise_amt=1.04\n",
    "    def apply_raise(self):\n",
    "         self.pay=int(self.pay*employee.raise_amt)\n",
    "class employee(manager):#child class\n",
    "    def __init__(self,first,last,pay):\n",
    "       self.first=first\n",
    "       self.last=last\n",
    "       self.pay=pay\n",
    "    def apply_raise(self):\n",
    "       super().apply_raise()"
   ]
  },
  {
   "cell_type": "code",
   "execution_count": 56,
   "id": "cd91f8ca-e51b-4784-9481-b2886bc6bb05",
   "metadata": {},
   "outputs": [],
   "source": [
    "e1=employee(\"agnes\",\"rachel\",500)"
   ]
  },
  {
   "cell_type": "code",
   "execution_count": 57,
   "id": "13458b6e-a71f-4249-aee8-dd37727e7c4e",
   "metadata": {},
   "outputs": [
    {
     "name": "stdout",
     "output_type": "stream",
     "text": [
      "500\n"
     ]
    }
   ],
   "source": [
    "print(e1.pay)"
   ]
  },
  {
   "cell_type": "code",
   "execution_count": 59,
   "id": "47bf72b6-3095-463d-ac67-e9aa88a4d37d",
   "metadata": {},
   "outputs": [
    {
     "name": "stdout",
     "output_type": "stream",
     "text": [
      "520\n"
     ]
    }
   ],
   "source": [
    "e1.apply_raise()\n",
    "print(e1.pay)"
   ]
  },
  {
   "cell_type": "code",
   "execution_count": 60,
   "id": "a9238cfc-4916-4e77-a13c-5df67e56dcec",
   "metadata": {},
   "outputs": [
    {
     "name": "stdout",
     "output_type": "stream",
     "text": [
      "540\n"
     ]
    }
   ],
   "source": [
    "e1.apply_raise()\n",
    "print(e1.pay)"
   ]
  },
  {
   "cell_type": "code",
   "execution_count": 61,
   "id": "f679facc-2398-415e-9a2f-a2d482616567",
   "metadata": {},
   "outputs": [
    {
     "name": "stdout",
     "output_type": "stream",
     "text": [
      "{'first': 'agnes', 'last': 'rachel', 'pay': 540}\n"
     ]
    }
   ],
   "source": [
    "print(e1.__dict__)"
   ]
  },
  {
   "cell_type": "code",
   "execution_count": 76,
   "id": "6bf5d2aa-974a-440f-a849-76440f8fa100",
   "metadata": {},
   "outputs": [],
   "source": [
    "#inheritance is uni directional(child can access parent class but not vice versa)\n",
    "class a:\n",
    "    def greet(self):\n",
    "        print(\"hello from parent\")\n",
    "class f(a):#single inheritance\n",
    "    pass\n",
    "class b:\n",
    "    def greet(self):\n",
    "        super().greet()#calls parent's greet\n",
    "        print(\"hello from child\")\n",
    "class c(a,b):#multiple inheritance\n",
    "    pass\n",
    "\n",
    "class d:\n",
    "    pass\n",
    "class e(d,c):#multilevel inheritance(inherits already inherited class)\n",
    "    pass"
   ]
  },
  {
   "cell_type": "code",
   "execution_count": 80,
   "id": "aec93218-d2cc-47e3-b69b-96e50a7a5965",
   "metadata": {},
   "outputs": [],
   "source": [
    "class contact:\n",
    "    all_cont=[]\n",
    "    def __init__(self,name,email):\n",
    "        self.name=name\n",
    "        self.email=email\n",
    "        contact.all_cont.append(self)\n",
    "class supplier(contact):\n",
    "    def order(self,order):\n",
    "        print(\"send\" \"{} order to {}\".format(order,self.name))"
   ]
  },
  {
   "cell_type": "code",
   "execution_count": 81,
   "id": "605cad0d-a6f1-4225-8a47-e5077ae62bbd",
   "metadata": {},
   "outputs": [],
   "source": [
    "c=contact(\"agnes\",\"agnes@gmail.com\")"
   ]
  },
  {
   "cell_type": "code",
   "execution_count": 83,
   "id": "d5f47569-97e5-4fe9-b5b5-313209dad825",
   "metadata": {},
   "outputs": [
    {
     "name": "stdout",
     "output_type": "stream",
     "text": [
      "agnes agnes@gmail.com\n"
     ]
    }
   ],
   "source": [
    "print(c.name,c.email)"
   ]
  },
  {
   "cell_type": "code",
   "execution_count": 84,
   "id": "9e3423b8-1dde-4533-9900-67b76309728c",
   "metadata": {},
   "outputs": [],
   "source": [
    "class contactlist(list):\n",
    "    def search(self,name):\n",
    "        matching_contacts=[]\n",
    "        for contact in self:\n",
    "            if name in contact.name:\n",
    "                matching_contacts.append(contact)\n",
    "            return matching_contacts\n",
    "            "
   ]
  },
  {
   "cell_type": "code",
   "execution_count": 85,
   "id": "2b98a969-2754-4157-87e2-32bcd6cb6295",
   "metadata": {},
   "outputs": [],
   "source": [
    "class contact:\n",
    "    all_contacts=contactlist() #shared lost of all contacts\n",
    "    def __init__(self,name,email):\n",
    "        self.name=name\n",
    "        self.email=email\n",
    "        self.all_contacts.append(self)#add self to the shared contact list\n"
   ]
  },
  {
   "cell_type": "code",
   "execution_count": 86,
   "id": "c338ca40-bf81-41dc-afff-9aa1199b557e",
   "metadata": {},
   "outputs": [
    {
     "ename": "AttributeError",
     "evalue": "'child' object has no attribute 'contact'",
     "output_type": "error",
     "traceback": [
      "\u001b[0;31m---------------------------------------------------------------------------\u001b[0m",
      "\u001b[0;31mAttributeError\u001b[0m                            Traceback (most recent call last)",
      "Cell \u001b[0;32mIn[86], line 1\u001b[0m\n\u001b[0;32m----> 1\u001b[0m c1\u001b[38;5;241m.\u001b[39mcontact(\u001b[38;5;124m\"\u001b[39m\u001b[38;5;124mjohn a\u001b[39m\u001b[38;5;124m\"\u001b[39m,\u001b[38;5;124m\"\u001b[39m\u001b[38;5;124mjohn@gmail.com\u001b[39m\u001b[38;5;124m\"\u001b[39m)\n\u001b[1;32m      2\u001b[0m c2\u001b[38;5;241m.\u001b[39mcontact(\u001b[38;5;124m\"\u001b[39m\u001b[38;5;124magnes\u001b[39m\u001b[38;5;124m\"\u001b[39m,\u001b[38;5;124m\"\u001b[39m\u001b[38;5;124magnes@gmail.com\u001b[39m\u001b[38;5;124m\"\u001b[39m)\n\u001b[1;32m      3\u001b[0m [c\u001b[38;5;241m.\u001b[39mname \u001b[38;5;28;01mfor\u001b[39;00m c \u001b[38;5;129;01min\u001b[39;00m contact\u001b[38;5;241m.\u001b[39mall_contacts\u001b[38;5;241m.\u001b[39msearch(\u001b[38;5;124m'\u001b[39m\u001b[38;5;124mjohn\u001b[39m\u001b[38;5;124m'\u001b[39m)]\n",
      "\u001b[0;31mAttributeError\u001b[0m: 'child' object has no attribute 'contact'"
     ]
    }
   ],
   "source": [
    "c1.contact(\"john a\",\"john@gmail.com\")\n",
    "c2.contact(\"agnes\",\"agnes@gmail.com\")\n",
    "[c.name for c in contact.all_contacts.search('john')]"
   ]
  },
  {
   "cell_type": "code",
   "execution_count": null,
   "id": "e6a46200-f278-4192-8bdb-49797fd126bc",
   "metadata": {},
   "outputs": [],
   "source": []
  }
 ],
 "metadata": {
  "kernelspec": {
   "display_name": "Python 3 (ipykernel)",
   "language": "python",
   "name": "python3"
  },
  "language_info": {
   "codemirror_mode": {
    "name": "ipython",
    "version": 3
   },
   "file_extension": ".py",
   "mimetype": "text/x-python",
   "name": "python",
   "nbconvert_exporter": "python",
   "pygments_lexer": "ipython3",
   "version": "3.12.4"
  }
 },
 "nbformat": 4,
 "nbformat_minor": 5
}
