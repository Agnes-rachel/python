{
 "cells": [
  {
   "cell_type": "code",
   "execution_count": null,
   "id": "6fecbc3a-ae8c-4d09-9f05-aebf405396b8",
   "metadata": {},
   "outputs": [],
   "source": [
    "name=\"agnes\"\n",
    "print(name)"
   ]
  },
  {
   "cell_type": "code",
   "execution_count": 2,
   "id": "5c408213-bf9f-45e4-8e88-12700a65aa2c",
   "metadata": {},
   "outputs": [
    {
     "name": "stdout",
     "output_type": "stream",
     "text": [
      "Agnes\n"
     ]
    }
   ],
   "source": [
    "name=\"agnes\"\n",
    "print(name.title())"
   ]
  },
  {
   "cell_type": "code",
   "execution_count": 5,
   "id": "82494f96-2dfc-4920-b8ec-8408461ee5e4",
   "metadata": {},
   "outputs": [
    {
     "name": "stdout",
     "output_type": "stream",
     "text": [
      "full name: agnes rachel\n"
     ]
    }
   ],
   "source": [
    "first_name=\"agnes\"\n",
    "last_name=\"rachel\"\n",
    "full_name=f\"{first_name} {last_name}\"\n",
    "print(\"full name:\",full_name)"
   ]
  },
  {
   "cell_type": "code",
   "execution_count": 6,
   "id": "c581fd74-8844-4a8c-9366-497406dbd9c6",
   "metadata": {},
   "outputs": [
    {
     "name": "stdout",
     "output_type": "stream",
     "text": [
      "full name: AGNES RACHEL\n"
     ]
    }
   ],
   "source": [
    "first_name=\"agnes\"\n",
    "last_name=\"rachel\"\n",
    "print(\"full name:\",f\"{first_name.upper()} {last_name.upper()}\")"
   ]
  },
  {
   "cell_type": "code",
   "execution_count": 7,
   "id": "5bf0ac08-859f-4d05-90b5-4894420c0dd9",
   "metadata": {},
   "outputs": [
    {
     "name": "stdout",
     "output_type": "stream",
     "text": [
      "hellooo\n"
     ]
    }
   ],
   "source": [
    "para='''hellooo'''\n",
    "print(para)"
   ]
  },
  {
   "cell_type": "code",
   "execution_count": 8,
   "id": "e7c152ea-086d-42fb-9978-916b55674e62",
   "metadata": {},
   "outputs": [
    {
     "name": "stdout",
     "output_type": "stream",
     "text": [
      "\"hello\"\n"
     ]
    }
   ],
   "source": [
    "word='\"hello\"'\n",
    "print(word)"
   ]
  },
  {
   "cell_type": "code",
   "execution_count": 9,
   "id": "3a80fc6f-cc2d-42c2-ba38-ac9b73efc01f",
   "metadata": {},
   "outputs": [
    {
     "name": "stdout",
     "output_type": "stream",
     "text": [
      "Collecting jieba\n",
      "  Downloading jieba-0.42.1.tar.gz (19.2 MB)\n",
      "\u001b[2K     \u001b[38;2;114;156;31m━━━━━━━━━━━━━━━━━━━━━━━━━━━━━━━━━━━━━━━━\u001b[0m \u001b[32m19.2/19.2 MB\u001b[0m \u001b[31m76.2 MB/s\u001b[0m eta \u001b[36m0:00:00\u001b[0mm eta \u001b[36m0:00:01\u001b[0m[36m0:00:01\u001b[0m\n",
      "\u001b[?25h  Preparing metadata (setup.py) ... \u001b[?25ldone\n",
      "\u001b[?25hBuilding wheels for collected packages: jieba\n",
      "  Building wheel for jieba (setup.py) ... \u001b[?25ldone\n",
      "\u001b[?25h  Created wheel for jieba: filename=jieba-0.42.1-py3-none-any.whl size=19314459 sha256=e34139b040b375529ee56262b85cd0b574f45d9af06bcbb8412f947170dcf149\n",
      "  Stored in directory: /home/matlab/.cache/pip/wheels/08/a1/a3/5c8ac52cc2f5782ffffc34c95c57c8e5ecb3063dc69541ee7c\n",
      "Successfully built jieba\n",
      "Installing collected packages: jieba\n",
      "Successfully installed jieba-0.42.1\n"
     ]
    }
   ],
   "source": [
    "!pip install jieba"
   ]
  },
  {
   "cell_type": "code",
   "execution_count": 10,
   "id": "de309610-3675-4171-99cf-7d148e44e0d3",
   "metadata": {},
   "outputs": [],
   "source": [
    "import jieba"
   ]
  },
  {
   "cell_type": "code",
   "execution_count": 27,
   "id": "dcfabcdc-f9e5-4a7d-af7d-1ec614035b6e",
   "metadata": {},
   "outputs": [],
   "source": [
    "with open('chineseText.txt','r',encoding='utf8') as text:\n",
    "    data=text.read()"
   ]
  },
  {
   "cell_type": "code",
   "execution_count": 28,
   "id": "a19d8f57-3b47-4191-acd5-3ac62901a810",
   "metadata": {},
   "outputs": [
    {
     "data": {
      "text/plain": [
       "'王明：这是什么？\\n(王明：這是什麼？)\\n李红：这是书。\\n(李紅：這是書。)\\n王明：那是什么？\\n(王明：那是什麼？)\\n李红：那是钢笔。\\n(李紅：那是鋼筆。)\\n王明：那是杂志吗？\\n(王明：那是雜誌嗎？)\\n李红：不，那不是杂志。那是字典。\\n(李紅：不，那不是雜誌。那是字典。)'"
      ]
     },
     "execution_count": 28,
     "metadata": {},
     "output_type": "execute_result"
    }
   ],
   "source": [
    "data"
   ]
  },
  {
   "cell_type": "code",
   "execution_count": 30,
   "id": "09a65cd6-9756-493a-8894-de26d884f7a1",
   "metadata": {},
   "outputs": [],
   "source": [
    "seg_list=jieba.cut(data,cut_all=True)"
   ]
  },
  {
   "cell_type": "code",
   "execution_count": 31,
   "id": "59813c19-e15f-46bc-9e81-67d41c8c6bcb",
   "metadata": {},
   "outputs": [
    {
     "data": {
      "text/plain": [
       "<generator object Tokenizer.cut at 0x720c6e30e560>"
      ]
     },
     "execution_count": 31,
     "metadata": {},
     "output_type": "execute_result"
    }
   ],
   "source": [
    "seg_list"
   ]
  },
  {
   "cell_type": "code",
   "execution_count": 32,
   "id": "64597323-3aa5-445b-84af-b81d82014178",
   "metadata": {},
   "outputs": [
    {
     "name": "stderr",
     "output_type": "stream",
     "text": [
      "Building prefix dict from the default dictionary ...\n",
      "Dumping model to file cache /tmp/jieba.cache\n",
      "Loading model cost 0.829 seconds.\n",
      "Prefix dict has been built successfully.\n"
     ]
    }
   ],
   "source": [
    "new_text=(\" \".join(seg_list))"
   ]
  },
  {
   "cell_type": "code",
   "execution_count": 33,
   "id": "c5f4eaf5-a8dd-4aca-bf58-3e8a09d3f994",
   "metadata": {},
   "outputs": [
    {
     "data": {
      "text/plain": [
       "'王明 ： 这 是 什么 ？ \\n ( 王明 ： 這 是 什 麼 ？) \\n  李 红 ： 这 是 书 。 \\n ( 李 紅 ： 這 是 書 。) \\n  王明 ： 那 是 什么 ？ \\n ( 王明 ： 那 是 什 麼 ？) \\n  李 红 ： 那 是 钢笔 。 \\n ( 李 紅 ： 那 是 鋼 筆 。) \\n  王明 ： 那 是 杂志 吗 ？ \\n ( 王明 ： 那 是 雜 誌 嗎 ？) \\n  李 红 ： 不 ， 那 不是 杂志 。 那 是 字典 。 \\n ( 李 紅 ： 不 ， 那 不是 雜 誌 。 那 是 字典 。)'"
      ]
     },
     "execution_count": 33,
     "metadata": {},
     "output_type": "execute_result"
    }
   ],
   "source": [
    "new_text"
   ]
  },
  {
   "cell_type": "code",
   "execution_count": 12,
   "id": "68a005b2-d351-4bc7-8568-69da94e34c77",
   "metadata": {},
   "outputs": [],
   "source": [
    "from urllib import request"
   ]
  },
  {
   "cell_type": "code",
   "execution_count": 13,
   "id": "94a8c5a0-13de-47a6-ad75-d3e45ecd7dd8",
   "metadata": {},
   "outputs": [],
   "source": [
    "url=\"https://www.gutenberg.org/cache/epub/84/pg84.txt\""
   ]
  },
  {
   "cell_type": "code",
   "execution_count": 14,
   "id": "5b9e30e4-1870-4408-9997-717b2e610ad6",
   "metadata": {},
   "outputs": [],
   "source": [
    "response=request.urlopen(url)"
   ]
  },
  {
   "cell_type": "code",
   "execution_count": 15,
   "id": "a2024f1a-2dc7-4ee1-91f8-1bfbfae4ec56",
   "metadata": {},
   "outputs": [],
   "source": [
    "raw=response.read().decode('utf8')"
   ]
  },
  {
   "cell_type": "code",
   "execution_count": 23,
   "id": "bdbe83c6-c307-41ce-8810-c711b0839888",
   "metadata": {},
   "outputs": [
    {
     "name": "stderr",
     "output_type": "stream",
     "text": [
      "[nltk_data] Downloading package punkt to /home/matlab/nltk_data...\n",
      "[nltk_data]   Unzipping tokenizers/punkt.zip.\n"
     ]
    }
   ],
   "source": [
    "import nltk\n",
    "nltk.download('punkt')\n",
    "\n",
    "def tokenize(token):\n",
    "    return nltk.word_tokenize(token);\n",
    "tokenize(\"why is this not working?\");"
   ]
  },
  {
   "cell_type": "code",
   "execution_count": 24,
   "id": "dfb033c8-9422-4937-b77b-e7d86bc1fc60",
   "metadata": {},
   "outputs": [
    {
     "name": "stdout",
     "output_type": "stream",
     "text": [
      "['\\ufeffThe', 'Project', 'Gutenberg', 'eBook', 'of', 'Frankenstein', ';', 'Or', ',', 'The', 'Modern', 'Prometheus', 'This', 'ebook', 'is', 'for', 'the', 'use', 'of', 'anyone', 'anywhere', 'in', 'the', 'United', 'States', 'and', 'most', 'other', 'parts', 'of', 'the', 'world', 'at', 'no', 'cost', 'and', 'with', 'almost', 'no', 'restrictions', 'whatsoever', '.', 'You', 'may', 'copy', 'it', ',', 'give', 'it', 'away', 'or', 're-use', 'it', 'under', 'the', 'terms', 'of', 'the', 'Project', 'Gutenberg', 'License', 'included', 'with', 'this', 'ebook', 'or', 'online', 'at', 'www.gutenberg.org', '.', 'If', 'you', 'are', 'not', 'located', 'in', 'the', 'United', 'States', ',', 'you', 'will', 'have', 'to', 'check', 'the', 'laws', 'of', 'the', 'country', 'where', 'you', 'are', 'located', 'before', 'using', 'this', 'eBook', '.', 'Title', ':', 'Frankenstein', ';', 'Or', ',', 'The', 'Modern', 'Prometheus', 'Author', ':', 'Mary', 'Wollstonecraft', 'Shelley', 'Release', 'date', ':', 'October', '1', ',', '1993', '[', 'eBook', '#', '84', ']', 'Most', 'recently', 'updated', ':', 'November', '5', ',', '2024', 'Language', ':', 'English', 'Credits', ':', 'Judith', 'Boss', ',', 'Christy', 'Phillips', ',', 'Lynn', 'Hanninen', 'and', 'David', 'Meltzer', '.', 'HTML', 'version', 'by', 'Al', 'Haines', '.', 'Further', 'corrections', 'by', 'Menno', 'de', 'Leeuw', '.', '*', '*', '*', 'START', 'OF', 'THE', 'PROJECT', 'GUTENBERG', 'EBOOK', 'FRANKENSTEIN', ';', 'OR', ',', 'THE', 'MODERN', 'PROMETHEUS', '*', '*', '*', 'Frankenstein', ';', 'or', ',', 'the', 'Modern', 'Prometheus', 'by', 'Mary', 'Wollstonecraft', '(', 'Godwin', ')', 'Shelley', 'CONTENTS', 'Letter', '1', 'Letter']\n"
     ]
    }
   ],
   "source": [
    "import nltk\n",
    "from nltk.tokenize import word_tokenize\n",
    "url=\"https://www.gutenberg.org/cache/epub/84/pg84.txt\"\n",
    "response=request.urlopen(url)\n",
    "tokens=word_tokenize(raw)\n",
    "print(tokens[:200])"
   ]
  },
  {
   "cell_type": "code",
   "execution_count": 20,
   "id": "4cf7304d-f02a-4e16-8cfc-bb96b2d143ea",
   "metadata": {
    "scrolled": true
   },
   "outputs": [
    {
     "name": "stdout",
     "output_type": "stream",
     "text": [
      "Requirement already satisfied: nltk in /home/software/software/lib/python3.12/site-packages (3.8.1)\n",
      "Requirement already satisfied: click in /home/software/software/lib/python3.12/site-packages (from nltk) (8.1.7)\n",
      "Requirement already satisfied: joblib in /home/software/software/lib/python3.12/site-packages (from nltk) (1.4.2)\n",
      "Requirement already satisfied: regex>=2021.8.3 in /home/software/software/lib/python3.12/site-packages (from nltk) (2023.10.3)\n",
      "Requirement already satisfied: tqdm in /home/software/software/lib/python3.12/site-packages (from nltk) (4.66.4)\n"
     ]
    }
   ],
   "source": [
    "!pip install nltk"
   ]
  },
  {
   "cell_type": "code",
   "execution_count": 25,
   "id": "cfec9a3a-00a4-4b2a-bdb6-0d89133e9750",
   "metadata": {},
   "outputs": [
    {
     "data": {
      "text/plain": [
       "88761"
      ]
     },
     "execution_count": 25,
     "metadata": {},
     "output_type": "execute_result"
    }
   ],
   "source": [
    "len(tokens)"
   ]
  },
  {
   "cell_type": "code",
   "execution_count": null,
   "id": "cab68dac-6812-438f-9dca-3feec62a721e",
   "metadata": {},
   "outputs": [],
   "source": []
  }
 ],
 "metadata": {
  "kernelspec": {
   "display_name": "Python 3 (ipykernel)",
   "language": "python",
   "name": "python3"
  },
  "language_info": {
   "codemirror_mode": {
    "name": "ipython",
    "version": 3
   },
   "file_extension": ".py",
   "mimetype": "text/x-python",
   "name": "python",
   "nbconvert_exporter": "python",
   "pygments_lexer": "ipython3",
   "version": "3.12.4"
  }
 },
 "nbformat": 4,
 "nbformat_minor": 5
}
