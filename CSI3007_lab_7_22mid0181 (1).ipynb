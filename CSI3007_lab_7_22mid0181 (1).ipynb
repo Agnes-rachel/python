{
 "cells": [
  {
   "cell_type": "markdown",
   "id": "f3f17786-5e44-4161-82a2-e1989f53921c",
   "metadata": {},
   "source": [
    "# CSI3007_lab_7_22MID0181\n",
    "# DATE:5/08/2025"
   ]
  },
  {
   "cell_type": "code",
   "execution_count": 1,
   "id": "4377c2a9-543b-409e-9555-032984084d0b",
   "metadata": {},
   "outputs": [
    {
     "data": {
      "text/plain": [
       "6"
      ]
     },
     "execution_count": 1,
     "metadata": {},
     "output_type": "execute_result"
    }
   ],
   "source": [
    "def double(x):\n",
    "    return x*2\n",
    "double(3)"
   ]
  },
  {
   "cell_type": "code",
   "execution_count": 40,
   "id": "0dfed565-efc9-46d5-80ed-7600e57e3ff2",
   "metadata": {},
   "outputs": [
    {
     "data": {
      "text/plain": [
       "10"
      ]
     },
     "execution_count": 40,
     "metadata": {},
     "output_type": "execute_result"
    }
   ],
   "source": [
    "def add(x,y):\n",
    "    return(x+y)\n",
    "add(5,5)"
   ]
  },
  {
   "cell_type": "code",
   "execution_count": 41,
   "id": "981bae24-0419-452a-9cbf-5c1d0e81c229",
   "metadata": {},
   "outputs": [
    {
     "name": "stdout",
     "output_type": "stream",
     "text": [
      "5\n"
     ]
    }
   ],
   "source": [
    "a=(lambda x:x+2)(3)\n",
    "print(a)"
   ]
  },
  {
   "cell_type": "code",
   "execution_count": 2,
   "id": "47705a1f-e161-47f6-85fa-ce00d6ec8aa7",
   "metadata": {},
   "outputs": [
    {
     "name": "stdout",
     "output_type": "stream",
     "text": [
      "1\n",
      "2\n",
      "3\n",
      "4\n"
     ]
    }
   ],
   "source": [
    "num=[1,2,3,4] #iterable\n",
    "for i in num:\n",
    "    print(i)"
   ]
  },
  {
   "cell_type": "code",
   "execution_count": 5,
   "id": "31dee325-bfec-4f6a-a3b7-3865e9254677",
   "metadata": {},
   "outputs": [
    {
     "ename": "TypeError",
     "evalue": "'int' object is not iterable",
     "output_type": "error",
     "traceback": [
      "\u001b[0;31m---------------------------------------------------------------------------\u001b[0m",
      "\u001b[0;31mTypeError\u001b[0m                                 Traceback (most recent call last)",
      "Cell \u001b[0;32mIn[5], line 3\u001b[0m\n\u001b[1;32m      1\u001b[0m \u001b[38;5;66;03m#check if it is iterable or not\u001b[39;00m\n\u001b[1;32m      2\u001b[0m n\u001b[38;5;241m=\u001b[39m\u001b[38;5;241m234578\u001b[39m \u001b[38;5;66;03m#integer is not iterable\u001b[39;00m\n\u001b[0;32m----> 3\u001b[0m \u001b[38;5;28;01mfor\u001b[39;00m i \u001b[38;5;129;01min\u001b[39;00m n:\n\u001b[1;32m      4\u001b[0m     \u001b[38;5;28mprint\u001b[39m(i)\n",
      "\u001b[0;31mTypeError\u001b[0m: 'int' object is not iterable"
     ]
    }
   ],
   "source": [
    "n=234578 #integer is not iterable\n",
    "for i in n:\n",
    "    print(i)"
   ]
  },
  {
   "cell_type": "code",
   "execution_count": 6,
   "id": "1e2b2849-632a-4fee-8429-0217ca5bb1ea",
   "metadata": {},
   "outputs": [
    {
     "name": "stdout",
     "output_type": "stream",
     "text": [
      "3\n",
      "5\n",
      "3\n",
      "2\n",
      "5\n"
     ]
    }
   ],
   "source": [
    "#to fix that error\n",
    "n=35325\n",
    "num=str(n)#converting to string\n",
    "for i in num:\n",
    "    print(i)"
   ]
  },
  {
   "cell_type": "code",
   "execution_count": 9,
   "id": "8de2faef-d978-4801-8148-85cf36259cb9",
   "metadata": {},
   "outputs": [
    {
     "name": "stdout",
     "output_type": "stream",
     "text": [
      "[2, 4, 8, 3, 5, 6]\n"
     ]
    }
   ],
   "source": [
    "c=248356\n",
    "digits=[int(d) for d in str(c)]\n",
    "print(digits)"
   ]
  },
  {
   "cell_type": "code",
   "execution_count": 10,
   "id": "f283fad9-7fc4-4d94-8532-ff10f86ad7ac",
   "metadata": {},
   "outputs": [
    {
     "name": "stdout",
     "output_type": "stream",
     "text": [
      "2\n",
      "4\n",
      "8\n",
      "3\n",
      "5\n",
      "6\n"
     ]
    }
   ],
   "source": [
    "for digits in digits:\n",
    "    print(digits)"
   ]
  },
  {
   "cell_type": "code",
   "execution_count": 11,
   "id": "322a1f99-b24c-4df4-af8a-d361843b28c8",
   "metadata": {},
   "outputs": [
    {
     "name": "stdout",
     "output_type": "stream",
     "text": [
      "['__add__', '__class__', '__class_getitem__', '__contains__', '__delattr__', '__delitem__', '__dir__', '__doc__', '__eq__', '__format__', '__ge__', '__getattribute__', '__getitem__', '__getstate__', '__gt__', '__hash__', '__iadd__', '__imul__', '__init__', '__init_subclass__', '__iter__', '__le__', '__len__', '__lt__', '__mul__', '__ne__', '__new__', '__reduce__', '__reduce_ex__', '__repr__', '__reversed__', '__rmul__', '__setattr__', '__setitem__', '__sizeof__', '__str__', '__subclasshook__', 'append', 'clear', 'copy', 'count', 'extend', 'index', 'insert', 'pop', 'remove', 'reverse', 'sort']\n"
     ]
    }
   ],
   "source": [
    "\n",
    "#check if it is iterable or not\n",
    "n=[2,4,5,7]\n",
    "print(dir(n))#if there is iter then it means it is iterable"
   ]
  },
  {
   "cell_type": "code",
   "execution_count": 14,
   "id": "6cd91e35-e67a-45b4-9f46-3758aa1b0b56",
   "metadata": {},
   "outputs": [],
   "source": [
    "names=['ema','tom','har']\n",
    "looper=names.__iter__()#same->looper=iter(names)"
   ]
  },
  {
   "cell_type": "code",
   "execution_count": 15,
   "id": "13ea952c-463e-48bd-9431-b5f3d3ce09bf",
   "metadata": {},
   "outputs": [
    {
     "data": {
      "text/plain": [
       "list_iterator"
      ]
     },
     "execution_count": 15,
     "metadata": {},
     "output_type": "execute_result"
    }
   ],
   "source": [
    "type(looper)"
   ]
  },
  {
   "cell_type": "code",
   "execution_count": 16,
   "id": "0486de57-14c8-4483-b8ca-fcf30b2d1199",
   "metadata": {},
   "outputs": [
    {
     "data": {
      "text/plain": [
       "list"
      ]
     },
     "execution_count": 16,
     "metadata": {},
     "output_type": "execute_result"
    }
   ],
   "source": [
    "type(names)"
   ]
  },
  {
   "cell_type": "code",
   "execution_count": 22,
   "id": "f0bba109-2982-4fc3-b264-ddb63c91ba26",
   "metadata": {},
   "outputs": [
    {
     "name": "stdout",
     "output_type": "stream",
     "text": [
      "ema\n",
      "tom\n",
      "har\n"
     ]
    },
    {
     "ename": "StopIteration",
     "evalue": "",
     "output_type": "error",
     "traceback": [
      "\u001b[0;31m---------------------------------------------------------------------------\u001b[0m",
      "\u001b[0;31mStopIteration\u001b[0m                             Traceback (most recent call last)",
      "Cell \u001b[0;32mIn[22], line 6\u001b[0m\n\u001b[1;32m      4\u001b[0m \u001b[38;5;28mprint\u001b[39m(\u001b[38;5;28mnext\u001b[39m(looper))\n\u001b[1;32m      5\u001b[0m \u001b[38;5;28mprint\u001b[39m(\u001b[38;5;28mnext\u001b[39m(looper))\n\u001b[0;32m----> 6\u001b[0m \u001b[38;5;28mprint\u001b[39m(\u001b[38;5;28mnext\u001b[39m(looper))\n",
      "\u001b[0;31mStopIteration\u001b[0m: "
     ]
    }
   ],
   "source": [
    "names=['ema','tom','har'] \n",
    "looper=iter(names)\n",
    "print(next(looper))# it will not work backwards\n",
    "print(next(looper))\n",
    "print(next(looper))\n",
    "print(next(looper))#if the elements in list is finished it will through a error"
   ]
  },
  {
   "cell_type": "code",
   "execution_count": 34,
   "id": "3baba127-b5dc-4456-8b90-94d869fa0f18",
   "metadata": {},
   "outputs": [
    {
     "ename": "TypeError",
     "evalue": "'list' object is not an iterator",
     "output_type": "error",
     "traceback": [
      "\u001b[0;31m---------------------------------------------------------------------------\u001b[0m",
      "\u001b[0;31mTypeError\u001b[0m                                 Traceback (most recent call last)",
      "Cell \u001b[0;32mIn[34], line 4\u001b[0m\n\u001b[1;32m      2\u001b[0m \u001b[38;5;28;01mwhile\u001b[39;00m \u001b[38;5;28;01mTrue\u001b[39;00m:\n\u001b[1;32m      3\u001b[0m     \u001b[38;5;28;01mtry\u001b[39;00m:\n\u001b[0;32m----> 4\u001b[0m         name\u001b[38;5;241m=\u001b[39m\u001b[38;5;28mnext\u001b[39m(names)\n\u001b[1;32m      5\u001b[0m         \u001b[38;5;28mprint\u001b[39m(name)\n\u001b[1;32m      6\u001b[0m     \u001b[38;5;28;01mexcept\u001b[39;00m \u001b[38;5;167;01mStopIteration\u001b[39;00m:\n",
      "\u001b[0;31mTypeError\u001b[0m: 'list' object is not an iterator"
     ]
    }
   ],
   "source": [
    "looper=iter(names)\n",
    "while True:\n",
    "    try:\n",
    "        name=next(names)\n",
    "        print(name)\n",
    "    except StopIteration:\n",
    "        break"
   ]
  },
  {
   "cell_type": "code",
   "execution_count": 25,
   "id": "cf572a7a-51f6-4a31-9d6e-c11c40ef45a2",
   "metadata": {},
   "outputs": [
    {
     "name": "stdout",
     "output_type": "stream",
     "text": [
      "ema\n",
      "tom\n",
      "har\n"
     ]
    }
   ],
   "source": [
    "looper=iter(names)\n",
    "while True:\n",
    "    try:\n",
    "        name=next(looper)\n",
    "        print(name)\n",
    "    except StopIteration:\n",
    "        break"
   ]
  },
  {
   "cell_type": "code",
   "execution_count": 33,
   "id": "35b10625-20af-4519-86a0-6e852870475f",
   "metadata": {},
   "outputs": [
    {
     "name": "stdout",
     "output_type": "stream",
     "text": [
      "[1, 4, 9, 16, 25]\n"
     ]
    }
   ],
   "source": [
    "def square (x):\n",
    "    return x*x\n",
    "numbers=[1,2,3,4,5]\n",
    "print(list(map(square,numbers)))#map each element to a function"
   ]
  },
  {
   "cell_type": "code",
   "execution_count": 43,
   "id": "fa4bf9b1-bbb9-4205-9ef2-e6a389023f7e",
   "metadata": {},
   "outputs": [
    {
     "name": "stdout",
     "output_type": "stream",
     "text": [
      "[1, 4, 9, 16, 25]\n"
     ]
    }
   ],
   "source": [
    "a=lambda x:x*x #using lambda functions\n",
    "numbers=[1,2,3,4,5]\n",
    "print(list(map(a,numbers)))"
   ]
  },
  {
   "cell_type": "code",
   "execution_count": 42,
   "id": "786cb172-f7a9-4955-97a1-cf4215eed284",
   "metadata": {},
   "outputs": [
    {
     "name": "stdout",
     "output_type": "stream",
     "text": [
      "[1, 4, 9, 16, 25]\n"
     ]
    }
   ],
   "source": [
    "numbers=[1,2,3,4,5]\n",
    "print(list(map(lambda x:x*x,numbers)))"
   ]
  },
  {
   "cell_type": "code",
   "execution_count": 48,
   "id": "a297a90e-40d1-4bf8-ad20-7e68f5031581",
   "metadata": {},
   "outputs": [
    {
     "name": "stdout",
     "output_type": "stream",
     "text": [
      "[4, 5]\n"
     ]
    }
   ],
   "source": [
    "#filter takes each element in numbers like map and checks condition\n",
    "print(list(filter(lambda x:x>3,numbers)))#filter allows only elements in number which satisfies the condition"
   ]
  },
  {
   "cell_type": "code",
   "execution_count": 53,
   "id": "1da059ad-4ed1-418b-85f0-1bddfbc03d79",
   "metadata": {},
   "outputs": [
    {
     "name": "stdout",
     "output_type": "stream",
     "text": [
      "agnes\n",
      "rachel\n"
     ]
    }
   ],
   "source": [
    "def lower(x):\n",
    "    for i in x:\n",
    "      print(i.lower())\n",
    "a=['AGNES','RACHEL']\n",
    "lower(a)"
   ]
  },
  {
   "cell_type": "code",
   "execution_count": 54,
   "id": "40b43b14-d2b5-49f3-b7d2-3f09a8d0fd03",
   "metadata": {},
   "outputs": [
    {
     "name": "stdout",
     "output_type": "stream",
     "text": [
      "['agnes', 'rachel']\n"
     ]
    }
   ],
   "source": [
    "#with map function and lamba\n",
    "lower=lambda x:x.lower()\n",
    "a=['AGNES','RACHEL']\n",
    "print(list(map(lower,a)))"
   ]
  },
  {
   "cell_type": "code",
   "execution_count": 57,
   "id": "b58ab117-1cd9-4383-867f-055740388c6c",
   "metadata": {},
   "outputs": [
    {
     "name": "stdout",
     "output_type": "stream",
     "text": [
      "15\n"
     ]
    }
   ],
   "source": [
    "from functools import reduce #cumulatively adding like take 1 element add to previous\n",
    "numbers=[1,2,3,4,5]\n",
    "print(reduce(lambda x,y:x+y,numbers))"
   ]
  },
  {
   "cell_type": "code",
   "execution_count": 62,
   "id": "8c4704c1-95bb-4fab-af5a-33e223ce0ef1",
   "metadata": {},
   "outputs": [
    {
     "name": "stdout",
     "output_type": "stream",
     "text": [
      "life is simple\n"
     ]
    }
   ],
   "source": [
    "quote=['life','is','simple']\n",
    "print(reduce(lambda x,y:x+' '+y,quote))"
   ]
  },
  {
   "cell_type": "code",
   "execution_count": null,
   "id": "e2e7586a-e42e-41fc-8a8b-4bfcc7aa8685",
   "metadata": {},
   "outputs": [],
   "source": []
  }
 ],
 "metadata": {
  "kernelspec": {
   "display_name": "Python 3 (ipykernel)",
   "language": "python",
   "name": "python3"
  },
  "language_info": {
   "codemirror_mode": {
    "name": "ipython",
    "version": 3
   },
   "file_extension": ".py",
   "mimetype": "text/x-python",
   "name": "python",
   "nbconvert_exporter": "python",
   "pygments_lexer": "ipython3",
   "version": "3.12.4"
  }
 },
 "nbformat": 4,
 "nbformat_minor": 5
}
