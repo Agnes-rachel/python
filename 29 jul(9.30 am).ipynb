{
 "cells": [
  {
   "cell_type": "code",
   "execution_count": 1,
   "id": "23e3b2f3-938b-446e-987c-90f2b92e7f1e",
   "metadata": {},
   "outputs": [
    {
     "data": {
      "text/plain": [
       "[1, 2, 3]"
      ]
     },
     "execution_count": 1,
     "metadata": {},
     "output_type": "execute_result"
    }
   ],
   "source": [
    "l=[1,2,3,4,5]\n",
    "l[:3]"
   ]
  },
  {
   "cell_type": "code",
   "execution_count": 7,
   "id": "57d31644-6eb0-46e4-bff5-b7a71326c9f9",
   "metadata": {},
   "outputs": [
    {
     "data": {
      "text/plain": [
       "[4, 5]"
      ]
     },
     "execution_count": 7,
     "metadata": {},
     "output_type": "execute_result"
    }
   ],
   "source": [
    "l[-2:]"
   ]
  },
  {
   "cell_type": "code",
   "execution_count": 8,
   "id": "614b02a8-c3ed-4e82-87ea-9497dc4c1dd8",
   "metadata": {},
   "outputs": [
    {
     "data": {
      "text/plain": [
       "[3, 4, 5]"
      ]
     },
     "execution_count": 8,
     "metadata": {},
     "output_type": "execute_result"
    }
   ],
   "source": [
    "l[2:]"
   ]
  },
  {
   "cell_type": "code",
   "execution_count": 20,
   "id": "7fc39eee-a71c-44bd-b772-7744b2d571da",
   "metadata": {},
   "outputs": [
    {
     "name": "stdout",
     "output_type": "stream",
     "text": [
      "['cake', 'pizza', 'stew']\n",
      "135083954114496\n",
      "135083954114496\n",
      "['cake', 'coke', 'stew', 'pepsi']\n",
      "['cake', 'coke', 'stew', 'pepsi']\n"
     ]
    }
   ],
   "source": [
    "my_fav=['cake','pizza','stew'] #original\n",
    "friend_fav=my_fav #call by reference\n",
    "print(friend_fav)\n",
    "print(id(friend_fav))\n",
    "print(id(my_fav))\n",
    "my_fav[1]=('coke') #updating\n",
    "my_fav.append('pepsi')\n",
    "print(my_fav)\n",
    "print(friend_fav)"
   ]
  },
  {
   "cell_type": "code",
   "execution_count": 23,
   "id": "ffabf5d9-6b2b-4696-a9fa-a65ce3faf4d6",
   "metadata": {},
   "outputs": [
    {
     "name": "stdout",
     "output_type": "stream",
     "text": [
      "['cake', 'pizza', 'stew']\n",
      "135083954077184\n",
      "135083954114048\n",
      "['cake', 'coke', 'stew', 'pepsi']\n",
      "['cake', 'pizza', 'stew']\n"
     ]
    }
   ],
   "source": [
    "#if we make the change in list it will not reflect the other\n",
    "my_fav=['cake','pizza','stew']#original\n",
    "friend_fav=my_fav[:] #call by value\n",
    "print(friend_fav)\n",
    "print(id(friend_fav))\n",
    "print(id(my_fav))\n",
    "my_fav[1]=('coke') #updating\n",
    "my_fav.append('pepsi')\n",
    "print(my_fav)\n",
    "print(friend_fav)"
   ]
  },
  {
   "cell_type": "code",
   "execution_count": 26,
   "id": "6a5fa3f4-813f-447f-a7d0-0a5b28f4afc8",
   "metadata": {},
   "outputs": [
    {
     "name": "stdout",
     "output_type": "stream",
     "text": [
      "1\n",
      "2\n",
      "3\n"
     ]
    }
   ],
   "source": [
    "#looping through list\n",
    "list=[1,2,3,4,5]\n",
    "for i in list[:3]:\n",
    "    print(i)"
   ]
  },
  {
   "cell_type": "code",
   "execution_count": 28,
   "id": "eb30be19-ffba-41e5-8249-a50f733e7a32",
   "metadata": {},
   "outputs": [
    {
     "name": "stdout",
     "output_type": "stream",
     "text": [
      "200\n"
     ]
    },
    {
     "ename": "TypeError",
     "evalue": "'tuple' object does not support item assignment",
     "output_type": "error",
     "traceback": [
      "\u001b[0;31m---------------------------------------------------------------------------\u001b[0m",
      "\u001b[0;31mTypeError\u001b[0m                                 Traceback (most recent call last)",
      "Cell \u001b[0;32mIn[28], line 3\u001b[0m\n\u001b[1;32m      1\u001b[0m t\u001b[38;5;241m=\u001b[39m(\u001b[38;5;241m100\u001b[39m,\u001b[38;5;241m200\u001b[39m)\n\u001b[1;32m      2\u001b[0m \u001b[38;5;28mprint\u001b[39m(t[\u001b[38;5;241m1\u001b[39m])\n\u001b[0;32m----> 3\u001b[0m t[\u001b[38;5;241m1\u001b[39m]\u001b[38;5;241m=\u001b[39m\u001b[38;5;241m300\u001b[39m\n",
      "\u001b[0;31mTypeError\u001b[0m: 'tuple' object does not support item assignment"
     ]
    }
   ],
   "source": [
    "#tuples\n",
    "t=(100,200)\n",
    "print(t[1])\n",
    "t[1]=300 #tuples are immutable so there will be item assignment error"
   ]
  },
  {
   "cell_type": "code",
   "execution_count": 31,
   "id": "9972061a-e2cb-4617-9e2e-3c40bdd6b184",
   "metadata": {},
   "outputs": [
    {
     "name": "stdout",
     "output_type": "stream",
     "text": [
      "100\n",
      "200\n"
     ]
    }
   ],
   "source": [
    "#looping through tuple\n",
    "for i in t[:2]:\n",
    "    print(i)"
   ]
  },
  {
   "cell_type": "code",
   "execution_count": 33,
   "id": "6825315d-34c0-4fc9-8a19-9efd7e876fb0",
   "metadata": {},
   "outputs": [
    {
     "name": "stdout",
     "output_type": "stream",
     "text": [
      "('a', '6')\n"
     ]
    }
   ],
   "source": [
    "t=('a','apple')\n",
    "t=('a','6')\n",
    "print(t)"
   ]
  },
  {
   "cell_type": "code",
   "execution_count": 34,
   "id": "bf697e67-6590-41cb-9118-199f8f6ac760",
   "metadata": {},
   "outputs": [
    {
     "name": "stdout",
     "output_type": "stream",
     "text": [
      "1\n",
      "2\n",
      "3\n",
      "4\n",
      "5\n",
      "6\n"
     ]
    }
   ],
   "source": [
    "#loop through tuple\n",
    "t=[1,2,3,4,5,6]\n",
    "for i in t:\n",
    "    print(i)"
   ]
  },
  {
   "cell_type": "code",
   "execution_count": 37,
   "id": "ca3ad56e-bfdf-4a22-88ca-fcc01a004387",
   "metadata": {},
   "outputs": [
    {
     "name": "stdout",
     "output_type": "stream",
     "text": [
      "{'reg_no': '22mid0181', 'prog': 'csc', 'cgpa': 8.5, 'atten': 85}\n"
     ]
    }
   ],
   "source": [
    "#dictionary\n",
    "stud={'reg_no':'22mid0181', #key value pairs\n",
    "      'prog':'csc',\n",
    "      'cgpa':8.5,\n",
    "      'atten':85}\n",
    "print(stud)"
   ]
  },
  {
   "cell_type": "code",
   "execution_count": null,
   "id": "7f26b2ff-c132-45f3-bc46-a26f1ebc0c49",
   "metadata": {},
   "outputs": [],
   "source": []
  }
 ],
 "metadata": {
  "kernelspec": {
   "display_name": "Python 3 (ipykernel)",
   "language": "python",
   "name": "python3"
  },
  "language_info": {
   "codemirror_mode": {
    "name": "ipython",
    "version": 3
   },
   "file_extension": ".py",
   "mimetype": "text/x-python",
   "name": "python",
   "nbconvert_exporter": "python",
   "pygments_lexer": "ipython3",
   "version": "3.12.4"
  }
 },
 "nbformat": 4,
 "nbformat_minor": 5
}
