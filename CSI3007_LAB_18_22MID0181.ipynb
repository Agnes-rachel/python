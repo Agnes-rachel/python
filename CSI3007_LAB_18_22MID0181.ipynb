{
 "cells": [
  {
   "cell_type": "markdown",
   "id": "c3950842-f587-4b89-a589-b243477703aa",
   "metadata": {},
   "source": [
    "# CSI3007 - Advanced python programming\n",
    "# LAB - 18\n",
    "# Name: AGNES RACHEL E\n",
    "# Reg no: 22MID0181\n",
    "# date:28/oct/25"
   ]
  },
  {
   "cell_type": "code",
   "execution_count": 2,
   "id": "77609dce-421d-40aa-a769-f9f78c6c0dfa",
   "metadata": {},
   "outputs": [
    {
     "name": "stdout",
     "output_type": "stream",
     "text": [
      "0      1\n",
      "1      2\n",
      "2    3.2\n",
      "3      a\n",
      "4      4\n",
      "5      5\n",
      "6      6\n",
      "dtype: object\n"
     ]
    }
   ],
   "source": [
    "import pandas as pd\n",
    "#initializing a series from alist\n",
    "data=[1,2,3.2,'a',4,5,6]\n",
    "series=pd.Series(data)\n",
    "print(series)"
   ]
  },
  {
   "cell_type": "code",
   "execution_count": 3,
   "id": "0c3a4f5a-100c-4f19-a6c6-9887981bb259",
   "metadata": {},
   "outputs": [
    {
     "name": "stdout",
     "output_type": "stream",
     "text": [
      "     name  age  score\n",
      "0   agnes   65     23\n",
      "1  rachel   34     45\n",
      "2     jai   54     32\n"
     ]
    }
   ],
   "source": [
    "#creating a dataframe\n",
    "data={'name':['agnes','rachel','jai'],\n",
    "     'age':[65,34,54],\n",
    "     'score':[23,45,32]}\n",
    "df=pd.DataFrame(data)\n",
    "print(df)"
   ]
  },
  {
   "cell_type": "code",
   "execution_count": 4,
   "id": "85ff3558-d365-4726-ac84-2c3c8cd5a6ce",
   "metadata": {},
   "outputs": [
    {
     "name": "stdout",
     "output_type": "stream",
     "text": [
      "a    12.0\n",
      "d     NaN\n",
      "f     NaN\n",
      "s    20.0\n",
      "dtype: float64\n"
     ]
    }
   ],
   "source": [
    "#alignment\n",
    "s1=pd.Series([2,3,4],index=['a','d','s'])\n",
    "s2=pd.Series([5,6,7],index=['s','a','f'])\n",
    "print(s1*s2)"
   ]
  },
  {
   "cell_type": "code",
   "execution_count": 5,
   "id": "b7f7e146-7fd8-4e5a-afb3-2957e9a45780",
   "metadata": {},
   "outputs": [
    {
     "name": "stdout",
     "output_type": "stream",
     "text": [
      "0    5\n",
      "1    7\n",
      "2    9\n",
      "dtype: int64\n"
     ]
    }
   ],
   "source": [
    "series_a=pd.Series([1,2,3])\n",
    "series_b=pd.Series([4,5,6])\n",
    "sum=series_a+series_b\n",
    "print(sum)"
   ]
  },
  {
   "cell_type": "code",
   "execution_count": 7,
   "id": "4cc3d7a4-1a3e-4d6c-a337-830ee0746608",
   "metadata": {},
   "outputs": [
    {
     "name": "stderr",
     "output_type": "stream",
     "text": [
      "<>:3: SyntaxWarning: list indices must be integers or slices, not tuple; perhaps you missed a comma?\n",
      "<>:3: SyntaxWarning: list indices must be integers or slices, not tuple; perhaps you missed a comma?\n",
      "/tmp/ipykernel_5862/521119143.py:3: SyntaxWarning: list indices must be integers or slices, not tuple; perhaps you missed a comma?\n",
      "  ['a','b','c','d']\n",
      "/tmp/ipykernel_5862/521119143.py:3: SyntaxWarning: list indices must be integers or slices, not tuple; perhaps you missed a comma?\n",
      "  ['a','b','c','d']\n",
      "/tmp/ipykernel_5862/521119143.py:3: SyntaxWarning: list indices must be integers or slices, not tuple; perhaps you missed a comma?\n",
      "  ['a','b','c','d']\n",
      "/tmp/ipykernel_5862/521119143.py:3: SyntaxWarning: list indices must be integers or slices, not tuple; perhaps you missed a comma?\n",
      "  ['a','b','c','d']\n",
      "/tmp/ipykernel_5862/521119143.py:3: SyntaxWarning: list indices must be integers or slices, not tuple; perhaps you missed a comma?\n",
      "  ['a','b','c','d']\n"
     ]
    },
    {
     "ename": "TypeError",
     "evalue": "list indices must be integers or slices, not tuple",
     "output_type": "error",
     "traceback": [
      "\u001b[0;31m---------------------------------------------------------------------------\u001b[0m",
      "\u001b[0;31mTypeError\u001b[0m                                 Traceback (most recent call last)",
      "Cell \u001b[0;32mIn[7], line 3\u001b[0m\n\u001b[1;32m      1\u001b[0m \u001b[38;5;66;03m#creating a multi index series\u001b[39;00m\n\u001b[1;32m      2\u001b[0m arra\u001b[38;5;241m=\u001b[39m[\n\u001b[0;32m----> 3\u001b[0m     [\u001b[38;5;124m'\u001b[39m\u001b[38;5;124ma\u001b[39m\u001b[38;5;124m'\u001b[39m,\u001b[38;5;124m'\u001b[39m\u001b[38;5;124mb\u001b[39m\u001b[38;5;124m'\u001b[39m,\u001b[38;5;124m'\u001b[39m\u001b[38;5;124mc\u001b[39m\u001b[38;5;124m'\u001b[39m,\u001b[38;5;124m'\u001b[39m\u001b[38;5;124md\u001b[39m\u001b[38;5;124m'\u001b[39m]\n\u001b[1;32m      4\u001b[0m     [\u001b[38;5;124m'\u001b[39m\u001b[38;5;124mmat\u001b[39m\u001b[38;5;124m'\u001b[39m,\u001b[38;5;124m'\u001b[39m\u001b[38;5;124mcomp\u001b[39m\u001b[38;5;124m'\u001b[39m,\u001b[38;5;124m'\u001b[39m\u001b[38;5;124mphy\u001b[39m\u001b[38;5;124m'\u001b[39m,\u001b[38;5;124m'\u001b[39m\u001b[38;5;124msci\u001b[39m\u001b[38;5;124m'\u001b[39m]\n\u001b[1;32m      5\u001b[0m ]\n\u001b[1;32m      6\u001b[0m index\u001b[38;5;241m=\u001b[39mpd\u001b[38;5;241m.\u001b[39mMultiIndex\u001b[38;5;241m.\u001b[39mfrom_arrays(array,names\u001b[38;5;241m=\u001b[39m(\u001b[38;5;124m'\u001b[39m\u001b[38;5;124malphabet\u001b[39m\u001b[38;5;124m'\u001b[39m,\u001b[38;5;124m'\u001b[39m\u001b[38;5;124msubject\u001b[39m\u001b[38;5;124m'\u001b[39m))\n\u001b[1;32m      7\u001b[0m multi_s\u001b[38;5;241m=\u001b[39mpd\u001b[38;5;241m.\u001b[39mSeries([\u001b[38;5;241m90\u001b[39m,\u001b[38;5;241m45\u001b[39m,\u001b[38;5;241m22\u001b[39m,\u001b[38;5;241m45\u001b[39m],index\u001b[38;5;241m=\u001b[39mindex)\n",
      "\u001b[0;31mTypeError\u001b[0m: list indices must be integers or slices, not tuple"
     ]
    }
   ],
   "source": [
    "#creating a multi index series\n",
    "arra=[\n",
    "    ['a','b','c','d']\n",
    "    ['mat','comp','phy','sci']\n",
    "]\n",
    "index=pd.MultiIndex.from_arrays(array,names=('alphabet','subject'))\n",
    "multi_s=pd.Series([90,45,22,45],index=index)\n",
    "print(multi_s)\n"
   ]
  },
  {
   "cell_type": "code",
   "execution_count": 3,
   "id": "dc81dc1b-8a4a-4014-9df6-82f67ddcfa4b",
   "metadata": {},
   "outputs": [
    {
     "name": "stdout",
     "output_type": "stream",
     "text": [
      "Alphabet  Subject\n",
      "a         Mat        90\n",
      "b         Sci        85\n",
      "c         phy        88\n",
      "d         Sci        92\n",
      "dtype: int64\n"
     ]
    }
   ],
   "source": [
    "import pandas as pd\n",
    "# Creating a MultiIndex Series\n",
    "arrays = [\n",
    "    ['a', 'b', 'c', 'd'],\n",
    "    ['Mat', 'Sci', 'phy', 'Sci']\n",
    "]\n",
    "index = pd.MultiIndex.from_arrays(arrays, names=('Alphabet', 'Subject'))\n",
    "\n",
    "multi_s = pd.Series([90, 85, 88, 92], index=index)\n",
    "print(multi_s)\n"
   ]
  },
  {
   "cell_type": "code",
   "execution_count": 5,
   "id": "22ea2152-267a-4179-a9d7-87b75119d293",
   "metadata": {},
   "outputs": [
    {
     "name": "stdout",
     "output_type": "stream",
     "text": [
      "Alphabet  Subject\n",
      "a         Mat        90\n",
      "b         Sci        85\n",
      "          Mat        88\n",
      "d         Sci        92\n",
      "dtype: int64\n"
     ]
    }
   ],
   "source": [
    "import pandas as pd  \n",
    "\n",
    "tuples = [('a', 'Mat'), ('b', 'Sci'), ('b', 'Mat'), ('d', 'Sci')]\n",
    "index = pd.MultiIndex.from_tuples(tuples, names=('Alphabet', 'Subject'))\n",
    "\n",
    "multi_s = pd.Series([90, 85, 88, 92], index=index)\n",
    "print(multi_s)"
   ]
  },
  {
   "cell_type": "code",
   "execution_count": 6,
   "id": "c0083a0e-d27e-4961-a1fc-c20d15ecdf7b",
   "metadata": {},
   "outputs": [
    {
     "name": "stdout",
     "output_type": "stream",
     "text": [
      "Alphabet  Subject\n",
      "a         eng        35\n",
      "          tam        35\n",
      "b         eng        23\n",
      "          tam        35\n",
      "dtype: int64\n"
     ]
    }
   ],
   "source": [
    "index = pd.MultiIndex.from_product(\n",
    "    [['a', 'b'], ['eng', 'tam']],\n",
    "    names=('Alphabet', 'Subject')\n",
    ")\n",
    "\n",
    "multi_s = pd.Series([35, 35, 23, 35], index=index)\n",
    "print(multi_s)\n"
   ]
  },
  {
   "cell_type": "code",
   "execution_count": 7,
   "id": "d51e8160-f629-4c7a-bf1a-ca578773662a",
   "metadata": {},
   "outputs": [
    {
     "name": "stdout",
     "output_type": "stream",
     "text": [
      "Alphabet  Subject\n",
      "a         Mat        24\n",
      "          eng        24\n",
      "b         Mat        54\n",
      "c         Sci        13\n",
      "dtype: int64\n"
     ]
    }
   ],
   "source": [
    "df = pd.DataFrame({\n",
    "    'Alphabet': ['a', 'a', 'b', 'c'],\n",
    "    'Subject': ['Mat', 'eng', 'Mat', 'Sci']\n",
    "})\n",
    "index = pd.MultiIndex.from_frame(df, names=('Alphabet', 'Subject'))\n",
    "\n",
    "multi_s = pd.Series([24,24, 54,13], index=index)\n",
    "print(multi_s)\n"
   ]
  },
  {
   "cell_type": "code",
   "execution_count": 8,
   "id": "43a12aa1-2ba5-439a-b144-2c3f17ed901a",
   "metadata": {},
   "outputs": [
    {
     "name": "stdout",
     "output_type": "stream",
     "text": [
      "MultiIndex Series from arrays:\n",
      " Alphabet  Subject\n",
      "A         Math       90\n",
      "          Science    85\n",
      "B         Math       88\n",
      "          Science    92\n",
      "dtype: int64 \n",
      "\n",
      "MultiIndex Series from tuples:\n",
      " Alphabet  Subject\n",
      "A         Math       70\n",
      "          Science    75\n",
      "B         Math       80\n",
      "          Science    82\n",
      "dtype: int64 \n",
      "\n",
      "MultiIndex Series from product:\n",
      " Alphabet  Subject\n",
      "A         Math       81\n",
      "          Science    82\n",
      "B         Math       91\n",
      "          Science    64\n",
      "dtype: int64 \n",
      "\n",
      "Access all subjects for 'A':\n",
      " Subject\n",
      "Math       90\n",
      "Science    85\n",
      "dtype: int64 \n",
      "\n",
      "Access specific element (B, Science):\n",
      " 92 \n",
      "\n",
      "Slicing from A to B:\n",
      " Alphabet  Subject\n",
      "A         Math       90\n",
      "          Science    85\n",
      "B         Math       88\n",
      "          Science    92\n",
      "dtype: int64 \n",
      "\n",
      "Partial slice for all Math:\n",
      " Alphabet\n",
      "A    90\n",
      "B    88\n",
      "dtype: int64 \n",
      "\n",
      "Swapping levels:\n",
      " Subject  Alphabet\n",
      "Math     A           90\n",
      "Science  A           85\n",
      "Math     B           88\n",
      "Science  B           92\n",
      "dtype: int64 \n",
      "\n",
      "Reordering levels:\n",
      " Subject  Alphabet\n",
      "Math     A           81\n",
      "Science  A           82\n",
      "Math     B           91\n",
      "Science  B           64\n",
      "dtype: int64 \n",
      "\n",
      "MultiIndex Series constructed automatically:\n",
      " A  X    0.287355\n",
      "   Y   -0.206278\n",
      "B  X   -2.162830\n",
      "   Y    1.069034\n",
      "dtype: float64 \n",
      "\n",
      "DataFrame with MultiIndex automatically:\n",
      "               Score1    Score2\n",
      "Group1 One -0.819071  1.421109\n",
      "       Two -0.602839  0.488035\n",
      "Group2 One  0.540678 -0.539819\n",
      "       Two  1.706406  1.308673 \n",
      "\n",
      "Original DataFrame:\n",
      "        Math  Science\n",
      "A one    85       82\n",
      "  two    90       88\n",
      "B one    95       92\n",
      "  two    80       84 \n",
      "\n",
      "Mean by group:\n",
      "    Math  Science\n",
      "A  87.5     85.0\n",
      "B  87.5     88.0 \n",
      "\n",
      "Reindexed to align with original index:\n",
      "        Math  Science\n",
      "A one  87.5     85.0\n",
      "  two  87.5     85.0\n",
      "B one  87.5     88.0\n",
      "  two  87.5     88.0 \n",
      "\n",
      "Cross-section for level 'two':\n",
      "    Math  Science\n",
      "A    90       88\n",
      "B    80       84 \n",
      "\n",
      "Unsorted MultiIndex Series:\n",
      " B  Y    1.069034\n",
      "A  Y   -0.206278\n",
      "   X    0.287355\n",
      "B  X   -2.162830\n",
      "dtype: float64 \n",
      "\n",
      "Sorted by index:\n",
      " A  X    0.287355\n",
      "   Y   -0.206278\n",
      "B  X   -2.162830\n",
      "   Y    1.069034\n",
      "dtype: float64 \n",
      "\n"
     ]
    },
    {
     "ename": "AttributeError",
     "evalue": "'Index' object has no attribute 'levels'",
     "output_type": "error",
     "traceback": [
      "\u001b[0;31m---------------------------------------------------------------------------\u001b[0m",
      "\u001b[0;31mAttributeError\u001b[0m                            Traceback (most recent call last)",
      "Cell \u001b[0;32mIn[8], line 73\u001b[0m\n\u001b[1;32m     70\u001b[0m \u001b[38;5;28mprint\u001b[39m(\u001b[38;5;124m\"\u001b[39m\u001b[38;5;124mSorted by index:\u001b[39m\u001b[38;5;130;01m\\n\u001b[39;00m\u001b[38;5;124m\"\u001b[39m, unsorted\u001b[38;5;241m.\u001b[39msort_index(), \u001b[38;5;124m\"\u001b[39m\u001b[38;5;130;01m\\n\u001b[39;00m\u001b[38;5;124m\"\u001b[39m)\n\u001b[1;32m     72\u001b[0m sub_df \u001b[38;5;241m=\u001b[39m df_auto[[\u001b[38;5;124m\"\u001b[39m\u001b[38;5;124mScore1\u001b[39m\u001b[38;5;124m\"\u001b[39m]]  \u001b[38;5;66;03m# remove one column\u001b[39;00m\n\u001b[0;32m---> 73\u001b[0m \u001b[38;5;28mprint\u001b[39m(\u001b[38;5;124m\"\u001b[39m\u001b[38;5;124mUnused levels before removing:\u001b[39m\u001b[38;5;130;01m\\n\u001b[39;00m\u001b[38;5;124m\"\u001b[39m, sub_df\u001b[38;5;241m.\u001b[39mcolumns\u001b[38;5;241m.\u001b[39mlevels, \u001b[38;5;124m\"\u001b[39m\u001b[38;5;130;01m\\n\u001b[39;00m\u001b[38;5;124m\"\u001b[39m)\n\u001b[1;32m     74\u001b[0m \u001b[38;5;28mprint\u001b[39m(\u001b[38;5;124m\"\u001b[39m\u001b[38;5;124mAfter remove_unused_levels:\u001b[39m\u001b[38;5;130;01m\\n\u001b[39;00m\u001b[38;5;124m\"\u001b[39m, sub_df\u001b[38;5;241m.\u001b[39mcolumns\u001b[38;5;241m.\u001b[39mremove_unused_levels()\u001b[38;5;241m.\u001b[39mlevels, \u001b[38;5;124m\"\u001b[39m\u001b[38;5;130;01m\\n\u001b[39;00m\u001b[38;5;124m\"\u001b[39m)\n",
      "\u001b[0;31mAttributeError\u001b[0m: 'Index' object has no attribute 'levels'"
     ]
    }
   ],
   "source": [
    "import pandas as pd\n",
    "import numpy as np\n",
    "# From arrays\n",
    "arrays = [\n",
    "    [\"A\", \"A\", \"B\", \"B\"],\n",
    "    [\"Math\", \"Science\", \"Math\", \"Science\"]\n",
    "]\n",
    "index = pd.MultiIndex.from_arrays(arrays, names=(\"Alphabet\", \"Subject\"))\n",
    "multi_s = pd.Series([90, 85, 88, 92], index=index)\n",
    "print(\"MultiIndex Series from arrays:\\n\", multi_s, \"\\n\")\n",
    "\n",
    "# From tuples\n",
    "tuples = [\n",
    "    (\"A\", \"Math\"), (\"A\", \"Science\"),\n",
    "    (\"B\", \"Math\"), (\"B\", \"Science\")\n",
    "]\n",
    "index2 = pd.MultiIndex.from_tuples(tuples, names=(\"Alphabet\", \"Subject\"))\n",
    "multi_s2 = pd.Series([70, 75, 80, 82], index=index2)\n",
    "print(\"MultiIndex Series from tuples:\\n\", multi_s2, \"\\n\")\n",
    "\n",
    "# From product (Cartesian product of iterables)\n",
    "iterables = [[\"A\", \"B\"], [\"Math\", \"Science\"]]\n",
    "index3 = pd.MultiIndex.from_product(iterables, names=(\"Alphabet\", \"Subject\"))\n",
    "multi_s3 = pd.Series(np.random.randint(60, 100, size=4), index=index3)\n",
    "print(\"MultiIndex Series from product:\\n\", multi_s3, \"\\n\")\n",
    "# 2. Accessing and Indexing\n",
    "print(\"Access all subjects for 'A':\\n\", multi_s.loc[\"A\"], \"\\n\")\n",
    "print(\"Access specific element (B, Science):\\n\", multi_s.loc[(\"B\", \"Science\")], \"\\n\")\n",
    "# 3. Slicing in MultiIndex\n",
    "print(\"Slicing from A to B:\\n\", multi_s.loc[\"A\":\"B\"], \"\\n\")\n",
    "print(\"Partial slice for all Math:\\n\", multi_s.loc[:, \"Math\"], \"\\n\")\n",
    "\n",
    "# 4. Swapping and Reordering Levels\n",
    "print(\"Swapping levels:\\n\", multi_s.swaplevel(), \"\\n\")\n",
    "print(\"Reordering levels:\\n\", multi_s3.reorder_levels([\"Subject\", \"Alphabet\"]), \"\\n\")\n",
    "\n",
    "# 5. Passing List of Arrays directly to Series / DataFrame\n",
    "multi_s_auto = pd.Series(\n",
    "    np.random.randn(4),\n",
    "    index=pd.MultiIndex.from_arrays([[\"A\", \"A\", \"B\", \"B\"], [\"X\", \"Y\", \"X\", \"Y\"]])\n",
    ")\n",
    "print(\"MultiIndex Series constructed automatically:\\n\", multi_s_auto, \"\\n\")\n",
    "\n",
    "df_auto = pd.DataFrame(\n",
    "    np.random.randn(4, 2),\n",
    "    index=pd.MultiIndex.from_arrays([[\"Group1\", \"Group1\", \"Group2\", \"Group2\"],\n",
    "                                     [\"One\", \"Two\", \"One\", \"Two\"]]),\n",
    "    columns=[\"Score1\", \"Score2\"]\n",
    ")\n",
    "print(\"DataFrame with MultiIndex automatically:\\n\", df_auto, \"\\n\")\n",
    "# 6. Data Alignment and Reindexing\n",
    "df = pd.DataFrame({\n",
    "    \"Math\": [85, 90, 95, 80],\n",
    "    \"Science\": [82, 88, 92, 84]\n",
    "}, index=pd.MultiIndex.from_arrays([[\"A\", \"A\", \"B\", \"B\"], [\"one\", \"two\", \"one\", \"two\"]]))\n",
    "print(\"Original DataFrame:\\n\", df, \"\\n\")\n",
    "\n",
    "# Group by first level and compute mean\n",
    "mean_by_group = df.groupby(level=0).mean()\n",
    "print(\"Mean by group:\\n\", mean_by_group, \"\\n\")\n",
    "\n",
    "# Reindexing with MultiIndex\n",
    "aligned = mean_by_group.reindex(df.index, level=0)\n",
    "print(\"Reindexed to align with original index:\\n\", aligned, \"\\n\")\n",
    "# 7. Using xs() for Cross-Section\n",
    "print(\"Cross-section for level 'two':\\n\", df.xs(\"two\", level=1), \"\\n\")\n",
    "# 8. Sorting and Removing Unused Levels\n",
    "unsorted = multi_s_auto.sample(frac=1)   # shuffle randomly\n",
    "print(\"Unsorted MultiIndex Series:\\n\", unsorted, \"\\n\")\n",
    "print(\"Sorted by index:\\n\", unsorted.sort_index(), \"\\n\")\n",
    "\n",
    "sub_df = df_auto[[\"Score1\"]]  # remove one column\n",
    "print(\"Unused levels before removing:\\n\", sub_df.columns.levels, \"\\n\")\n",
    "print(\"After remove_unused_levels:\\n\", sub_df.columns.remove_unused_levels().levels, \"\\n\")\n"
   ]
  },
  {
   "cell_type": "code",
   "execution_count": 9,
   "id": "5eb02bce-80bb-4ab6-b804-c7194357b492",
   "metadata": {},
   "outputs": [
    {
     "name": "stdout",
     "output_type": "stream",
     "text": [
      "MultiIndex Series from arrays:\n",
      " Alphabet  Subject\n",
      "A         Math       90\n",
      "          Science    85\n",
      "B         Math       88\n",
      "          Science    92\n",
      "dtype: int64 \n",
      "\n",
      "MultiIndex Series from tuples:\n",
      " Alphabet  Subject\n",
      "A         Math       70\n",
      "          Science    75\n",
      "B         Math       80\n",
      "          Science    82\n",
      "dtype: int64 \n",
      "\n",
      "MultiIndex Series from product:\n",
      " Alphabet  Subject\n",
      "A         Math       79\n",
      "          Science    73\n",
      "B         Math       79\n",
      "          Science    74\n",
      "dtype: int64 \n",
      "\n"
     ]
    }
   ],
   "source": [
    "# Program 1: Creating MultiIndex Series in different ways\n",
    "import pandas as pd\n",
    "import numpy as np\n",
    "\n",
    "# From arrays\n",
    "arrays = [[\"A\", \"A\", \"B\", \"B\"], [\"Math\", \"Science\", \"Math\", \"Science\"]]\n",
    "index = pd.MultiIndex.from_arrays(arrays, names=(\"Alphabet\", \"Subject\"))\n",
    "multi_s = pd.Series([90, 85, 88, 92], index=index)\n",
    "print(\"MultiIndex Series from arrays:\\n\", multi_s, \"\\n\")\n",
    "\n",
    "# From tuples\n",
    "tuples = [(\"A\", \"Math\"), (\"A\", \"Science\"), (\"B\", \"Math\"), (\"B\", \"Science\")]\n",
    "index2 = pd.MultiIndex.from_tuples(tuples, names=(\"Alphabet\", \"Subject\"))\n",
    "multi_s2 = pd.Series([70, 75, 80, 82], index=index2)\n",
    "print(\"MultiIndex Series from tuples:\\n\", multi_s2, \"\\n\")\n",
    "\n",
    "# From product\n",
    "iterables = [[\"A\", \"B\"], [\"Math\", \"Science\"]]\n",
    "index3 = pd.MultiIndex.from_product(iterables, names=(\"Alphabet\", \"Subject\"))\n",
    "multi_s3 = pd.Series(np.random.randint(60, 100, size=4), index=index3)\n",
    "print(\"MultiIndex Series from product:\\n\", multi_s3, \"\\n\")\n"
   ]
  },
  {
   "cell_type": "code",
   "execution_count": 10,
   "id": "5110d864-69e8-4bc5-96bd-ac8109415004",
   "metadata": {},
   "outputs": [
    {
     "name": "stdout",
     "output_type": "stream",
     "text": [
      "Example 1: MultiIndex from arrays\n",
      "                   Score1  Score2\n",
      "Alphabet Subject                \n",
      "A        Math         77      78\n",
      "         Science      76      51\n",
      "B        Math         50      89\n",
      "         Science      63      83 \n",
      "\n",
      "Example 2: MultiIndex from tuples\n",
      "                     Value1    Value2\n",
      "Alphabet Subject                    \n",
      "A        Math    -0.996120  0.077361\n",
      "         Science  0.965299  0.079595\n",
      "B        Math     0.160526 -0.962265\n",
      "         Science  0.005550  0.264200 \n",
      "\n",
      "Example 3: MultiIndex from product\n",
      "                 Col1  Col2\n",
      "Group  Subject            \n",
      "Group1 Math        8     9\n",
      "       Science     7     5\n",
      "Group2 Math        5     9\n",
      "       Science     6     7 \n",
      "\n",
      "Example 4: MultiIndex created from DataFrame columns\n",
      "                Score\n",
      "Group Subject       \n",
      "A     Math        88\n",
      "      Science     92\n",
      "B     Math        85\n",
      "      Science     90 \n",
      "\n"
     ]
    }
   ],
   "source": [
    "import pandas as pd\n",
    "import numpy as np\n",
    "\n",
    "# Example 1: Creating a MultiIndex directly from arrays\n",
    "arrays = [\n",
    "    [\"A\", \"A\", \"B\", \"B\"],\n",
    "    [\"Math\", \"Science\", \"Math\", \"Science\"]\n",
    "]\n",
    "index = pd.MultiIndex.from_arrays(arrays, names=(\"Alphabet\", \"Subject\"))\n",
    "\n",
    "df1 = pd.DataFrame(\n",
    "    np.random.randint(50, 100, size=(4, 2)),\n",
    "    index=index,\n",
    "    columns=[\"Score1\", \"Score2\"]\n",
    ")\n",
    "print(\"Example 1: MultiIndex from arrays\\n\", df1, \"\\n\")\n",
    "# Example 2: Creating a MultiIndex from tuples\n",
    "tuples = [\n",
    "    (\"A\", \"Math\"),\n",
    "    (\"A\", \"Science\"),\n",
    "    (\"B\", \"Math\"),\n",
    "    (\"B\", \"Science\")\n",
    "]\n",
    "index2 = pd.MultiIndex.from_tuples(tuples, names=(\"Alphabet\", \"Subject\"))\n",
    "\n",
    "df2 = pd.DataFrame(\n",
    "    np.random.randn(4, 2),\n",
    "    index=index2,\n",
    "    columns=[\"Value1\", \"Value2\"]\n",
    ")\n",
    "print(\"Example 2: MultiIndex from tuples\\n\", df2, \"\\n\")\n",
    "# Example 3: Creating a MultiIndex from product\n",
    "index3 = pd.MultiIndex.from_product(\n",
    "    [[\"Group1\", \"Group2\"], [\"Math\", \"Science\"]],\n",
    "    names=(\"Group\", \"Subject\")\n",
    ")\n",
    "\n",
    "df3 = pd.DataFrame(\n",
    "    np.random.randint(1, 10, size=(4, 2)),\n",
    "    index=index3,\n",
    "    columns=[\"Col1\", \"Col2\"]\n",
    ")\n",
    "print(\"Example 3: MultiIndex from product\\n\", df3, \"\\n\")\n",
    "# Example 4: Creating MultiIndex directly from DataFrame\n",
    "data = {\n",
    "    \"Group\": [\"A\", \"A\", \"B\", \"B\"],\n",
    "    \"Subject\": [\"Math\", \"Science\", \"Math\", \"Science\"],\n",
    "    \"Score\": [88, 92, 85, 90]\n",
    "}\n",
    "\n",
    "df4 = pd.DataFrame(data)\n",
    "df4 = df4.set_index([\"Group\", \"Subject\"])  # setting multiple columns as index\n",
    "print(\"Example 4: MultiIndex created from DataFrame columns\\n\", df4, \"\\n\")\n"
   ]
  },
  {
   "cell_type": "code",
   "execution_count": 11,
   "id": "7e6da4dd-60f5-416c-b577-0361589e76bb",
   "metadata": {},
   "outputs": [
    {
     "name": "stdout",
     "output_type": "stream",
     "text": [
      "Access all subjects for 'A':\n",
      " Subject\n",
      "Math       90\n",
      "Science    85\n",
      "dtype: int64 \n",
      "\n",
      "Access specific element (B, Science):\n",
      " 92 \n",
      "\n"
     ]
    }
   ],
   "source": [
    "#Program 2: Accessing and Indexing\n",
    "# Program 2: Accessing and indexing in MultiIndex Series\n",
    "import pandas as pd\n",
    "\n",
    "arrays = [[\"A\", \"A\", \"B\", \"B\"], [\"Math\", \"Science\", \"Math\", \"Science\"]]\n",
    "index = pd.MultiIndex.from_arrays(arrays, names=(\"Alphabet\", \"Subject\"))\n",
    "multi_s = pd.Series([90, 85, 88, 92], index=index)#Grouping vs Pivot Tables\n",
    "\n",
    "#Pivot tables are essentially groupby + aggregation + reshape in one step.\n",
    "\n",
    "#They are easier to read when summarizing across two categorical variables.\n",
    "\n",
    "# Equivalent using groupby\n",
    "grouped = df.groupby([\"Department\", \"Team\"])[\"Salary\"].mean().unstack()\n",
    "print(\"Equivalent using groupby + unstack:\\n\", grouped)\n",
    "\n",
    "print(\"Access all subjects for 'A':\\n\", multi_s.loc[\"A\"], \"\\n\")\n",
    "print(\"Access specific element (B, Science):\\n\", multi_s.loc[(\"B\", \"Science\")], \"\\n\")"
   ]
  },
  {
   "cell_type": "code",
   "execution_count": 12,
   "id": "37757043-0533-45c9-8e62-97daed082e57",
   "metadata": {},
   "outputs": [
    {
     "name": "stdout",
     "output_type": "stream",
     "text": [
      "Slicing from A to B:\n",
      " Alphabet  Subject\n",
      "A         Math       90\n",
      "          Science    85\n",
      "B         Math       88\n",
      "          Science    92\n",
      "dtype: int64 \n",
      "\n",
      "Partial slice for all Math:\n",
      " Alphabet\n",
      "A    90\n",
      "B    88\n",
      "dtype: int64 \n",
      "\n"
     ]
    }
   ],
   "source": [
    "# Program 3: Slicing in MultiIndex Series\n",
    "import pandas as pd\n",
    "\n",
    "arrays = [[\"A\", \"A\", \"B\", \"B\"], [\"Math\", \"Science\", \"Math\", \"Science\"]]\n",
    "index = pd.MultiIndex.from_arrays(arrays, names=(\"Alphabet\", \"Subject\"))\n",
    "multi_s = pd.Series([90, 85, 88, 92], index=index)\n",
    "\n",
    "print(\"Slicing from A to B:\\n\", multi_s.loc[\"A\":\"B\"], \"\\n\")\n",
    "print(\"Partial slice for all Math:\\n\", multi_s.loc[:, \"Math\"], \"\\n\")\n"
   ]
  },
  {
   "cell_type": "code",
   "execution_count": 13,
   "id": "bac35f90-a544-4238-946a-30342ecb44b4",
   "metadata": {},
   "outputs": [
    {
     "name": "stdout",
     "output_type": "stream",
     "text": [
      "Swapping levels:\n",
      " Subject  Alphabet\n",
      "Math     A           90\n",
      "Science  A           85\n",
      "Math     B           88\n",
      "Science  B           92\n",
      "dtype: int64 \n",
      "\n",
      "Reordering levels:\n",
      " Subject  Alphabet\n",
      "Math     A           90\n",
      "Science  A           85\n",
      "Math     B           88\n",
      "Science  B           92\n",
      "dtype: int64 \n",
      "\n"
     ]
    }
   ],
   "source": [
    "# Program 4: Swapping and reordering levels\n",
    "import pandas as pd\n",
    "\n",
    "arrays = [[\"A\", \"A\", \"B\", \"B\"], [\"Math\", \"Science\", \"Math\", \"Science\"]]\n",
    "index = pd.MultiIndex.from_arrays(arrays, names=(\"Alphabet\", \"Subject\"))\n",
    "multi_s = pd.Series([90, 85, 88, 92], index=index)\n",
    "\n",
    "print(\"Swapping levels:\\n\", multi_s.swaplevel(), \"\\n\")\n",
    "print(\"Reordering levels:\\n\", multi_s.reorder_levels([\"Subject\", \"Alphabet\"]), \"\\n\")\n"
   ]
  },
  {
   "cell_type": "code",
   "execution_count": 14,
   "id": "ca987a85-1d5f-4077-89c1-c42b30cc2204",
   "metadata": {},
   "outputs": [
    {
     "name": "stdout",
     "output_type": "stream",
     "text": [
      "MultiIndex Series constructed automatically:\n",
      " A  X    1.362469\n",
      "   Y    0.229274\n",
      "B  X   -1.969301\n",
      "   Y   -2.237111\n",
      "dtype: float64 \n",
      "\n",
      "DataFrame with MultiIndex automatically:\n",
      "               Score1    Score2\n",
      "Group1 One  1.037498 -0.318353\n",
      "       Two  1.888359 -0.833224\n",
      "Group2 One -0.975724 -0.966314\n",
      "       Two -0.370276 -0.320682 \n",
      "\n"
     ]
    }
   ],
   "source": [
    "# Program 5: Passing arrays directly to create MultiIndex in Series/DataFrame\n",
    "import pandas as pd\n",
    "import numpy as np\n",
    "\n",
    "# Series with automatic MultiIndex\n",
    "multi_s_auto = pd.Series(\n",
    "    np.random.randn(4),\n",
    "    index=pd.MultiIndex.from_arrays([[\"A\", \"A\", \"B\", \"B\"], [\"X\", \"Y\", \"X\", \"Y\"]])\n",
    ")\n",
    "print(\"MultiIndex Series constructed automatically:\\n\", multi_s_auto, \"\\n\")\n",
    "\n",
    "# DataFrame with automatic MultiIndex\n",
    "df_auto = pd.DataFrame(\n",
    "    np.random.randn(4, 2),\n",
    "    index=pd.MultiIndex.from_arrays([[\"Group1\", \"Group1\", \"Group2\", \"Group2\"],\n",
    "                                     [\"One\", \"Two\", \"One\", \"Two\"]]),\n",
    "    columns=[\"Score1\", \"Score2\"]\n",
    ")\n",
    "print(\"DataFrame with MultiIndex automatically:\\n\", df_auto, \"\\n\")\n"
   ]
  },
  {
   "cell_type": "code",
   "execution_count": 15,
   "id": "b511aa76-7bac-4ed9-8eca-f92b47f04061",
   "metadata": {},
   "outputs": [
    {
     "name": "stdout",
     "output_type": "stream",
     "text": [
      "Original DataFrame:\n",
      "        Math  Science\n",
      "A one    85       82\n",
      "  two    90       88\n",
      "B one    95       92\n",
      "  two    80       84 \n",
      "\n",
      "Mean by group:\n",
      "    Math  Science\n",
      "A  87.5     85.0\n",
      "B  87.5     88.0 \n",
      "\n",
      "Reindexed to align with original index:\n",
      "        Math  Science\n",
      "A one  87.5     85.0\n",
      "  two  87.5     85.0\n",
      "B one  87.5     88.0\n",
      "  two  87.5     88.0 \n",
      "\n"
     ]
    }
   ],
   "source": [
    "# Program 6: Data alignment and reindexing with MultiIndex\n",
    "import pandas as pd\n",
    "\n",
    "df = pd.DataFrame({\n",
    "    \"Math\": [85, 90, 95, 80],\n",
    "    \"Science\": [82, 88, 92, 84]\n",
    "}, index=pd.MultiIndex.from_arrays([[\"A\", \"A\", \"B\", \"B\"], [\"one\", \"two\", \"one\", \"two\"]]))\n",
    "print(\"Original DataFrame:\\n\", df, \"\\n\")\n",
    "\n",
    "# Group by first level and compute mean\n",
    "mean_by_group = df.groupby(level=0).mean()\n",
    "print(\"Mean by group:\\n\", mean_by_group, \"\\n\")\n",
    "\n",
    "# Reindexing with MultiIndex\n",
    "aligned = mean_by_group.reindex(df.index, level=0)\n",
    "print(\"Reindexed to align with original index:\\n\", aligned, \"\\n\")\n"
   ]
  },
  {
   "cell_type": "code",
   "execution_count": 16,
   "id": "30c3e901-a03e-460d-b265-04a047366538",
   "metadata": {},
   "outputs": [
    {
     "name": "stdout",
     "output_type": "stream",
     "text": [
      "Unsorted MultiIndex Series:\n",
      " B  X    0.164773\n",
      "A  Y    0.372709\n",
      "B  Y    1.418934\n",
      "A  X    0.841912\n",
      "dtype: float64 \n",
      "\n",
      "Sorted by index:\n",
      " A  X    0.841912\n",
      "   Y    0.372709\n",
      "B  X    0.164773\n",
      "   Y    1.418934\n",
      "dtype: float64 \n",
      "\n",
      "Before removing unused levels:\n",
      " [['Score1', 'Score2'], ['X', 'Y']] \n",
      "\n",
      "After removing unused levels:\n",
      " [['Score1'], ['X']] \n",
      "\n"
     ]
    }
   ],
   "source": [
    "# Program 8: Sorting MultiIndex and removing unused levels\n",
    "import pandas as pd\n",
    "import numpy as np\n",
    "\n",
    "# Unsorted MultiIndex Series\n",
    "multi_s = pd.Series(\n",
    "    np.random.randn(4),\n",
    "    index=pd.MultiIndex.from_arrays([[\"B\", \"A\", \"B\", \"A\"], [\"X\", \"Y\", \"Y\", \"X\"]])\n",
    ")\n",
    "print(\"Unsorted MultiIndex Series:\\n\", multi_s, \"\\n\")\n",
    "print(\"Sorted by index:\\n\", multi_s.sort_index(), \"\\n\")\n",
    "\n",
    "# Removing unused levels\n",
    "df = pd.DataFrame(\n",
    "    np.random.randn(4, 2),\n",
    "    index=pd.MultiIndex.from_arrays([[\"Group1\", \"Group1\", \"Group2\", \"Group2\"], [\"One\", \"Two\", \"One\", \"Two\"]]),\n",
    "    columns=pd.MultiIndex.from_arrays([[\"Score1\", \"Score2\"], [\"X\", \"Y\"]])\n",
    ")\n",
    "print(\"Before removing unused levels:\\n\", df.columns.levels, \"\\n\")\n",
    "sub_df = df[[\"Score1\"]]  # drop Score2\n",
    "print(\"After removing unused levels:\\n\", sub_df.columns.remove_unused_levels().levels, \"\\n\")\n"
   ]
  },
  {
   "cell_type": "code",
   "execution_count": 17,
   "id": "9bc2d1ec-8abe-479c-8c7d-4aee63836b8a",
   "metadata": {},
   "outputs": [
    {
     "name": "stdout",
     "output_type": "stream",
     "text": [
      "DataFrame from dictionary of lists:\n",
      "       Name  Age  Score\n",
      "0    Alice   24     85\n",
      "1      Bob   27     90\n",
      "2  Charlie   22     88 \n",
      "\n",
      "DataFrame from dictionary of Series:\n",
      "          Math  Science\n",
      "Alice      90       88\n",
      "Bob        80       92\n",
      "Charlie    85       84 \n",
      "\n",
      "DataFrame from NumPy array:\n",
      "    Col1  Col2  Col3\n",
      "0     0     1     2\n",
      "1     3     4     5\n",
      "2     6     7     8 \n",
      "\n"
     ]
    }
   ],
   "source": [
    "#Program 1: Creating DataFrames (different ways)\n",
    "import pandas as pd\n",
    "import numpy as np\n",
    "\n",
    "# ------------------------------------------\n",
    "# 1. From dictionary of lists\n",
    "# ------------------------------------------\n",
    "data1 = {\"Name\": [\"Alice\", \"Bob\", \"Charlie\"],\n",
    "         \"Age\": [24, 27, 22],\n",
    "         \"Score\": [85, 90, 88]}\n",
    "df1 = pd.DataFrame(data1)\n",
    "print(\"DataFrame from dictionary of lists:\\n\", df1, \"\\n\")\n",
    "\n",
    "# ------------------------------------------\n",
    "# 2. From dictionary of Series\n",
    "# ------------------------------------------\n",
    "data2 = {\"Math\": pd.Series([90, 80, 85], index=[\"Alice\", \"Bob\", \"Charlie\"]),\n",
    "         \"Science\": pd.Series([88, 92, 84], index=[\"Alice\", \"Bob\", \"Charlie\"])}\n",
    "df2 = pd.DataFrame(data2)\n",
    "print(\"DataFrame from dictionary of Series:\\n\", df2, \"\\n\")\n",
    "\n",
    "# ------------------------------------------\n",
    "# 3. From NumPy array\n",
    "# ------------------------------------------\n",
    "df3 = pd.DataFrame(np.arange(9).reshape(3, 3),\n",
    "                   columns=[\"Col1\", \"Col2\", \"Col3\"])\n",
    "print(\"DataFrame from NumPy array:\\n\", df3, \"\\n\")\n"
   ]
  },
  {
   "cell_type": "code",
   "execution_count": 18,
   "id": "e0fb3ffd-6086-4f60-8c97-cba43394feb0",
   "metadata": {},
   "outputs": [
    {
     "name": "stdout",
     "output_type": "stream",
     "text": [
      "Original DataFrame:\n",
      "       Name  Age  Score\n",
      "0    Alice   24     85\n",
      "1      Bob   27     90\n",
      "2  Charlie   22     88\n",
      "3    David   30     95 \n",
      "\n",
      "Accessing single column (Score):\n",
      " 0    85\n",
      "1    90\n",
      "2    88\n",
      "3    95\n",
      "Name: Score, dtype: int64 \n",
      "\n",
      "Accessing multiple columns:\n",
      "       Name  Age\n",
      "0    Alice   24\n",
      "1      Bob   27\n",
      "2  Charlie   22\n",
      "3    David   30 \n",
      "\n",
      "Access row using loc:\n",
      " Name     Charlie\n",
      "Age           22\n",
      "Score         88\n",
      "Name: 2, dtype: object \n",
      "\n",
      "Access row using iloc:\n",
      " Name     Bob\n",
      "Age       27\n",
      "Score     90\n",
      "Name: 1, dtype: object \n",
      "\n"
     ]
    }
   ],
   "source": [
    "#Program 2: Accessing rows and columns\n",
    "import pandas as pd\n",
    "\n",
    "data = {\"Name\": [\"Alice\", \"Bob\", \"Charlie\", \"David\"],\n",
    "        \"Age\": [24, 27, 22, 30],\n",
    "        \"Score\": [85, 90, 88, 95]}\n",
    "df = pd.DataFrame(data)\n",
    "\n",
    "print(\"Original DataFrame:\\n\", df, \"\\n\")\n",
    "\n",
    "# Access single column\n",
    "print(\"Accessing single column (Score):\\n\", df[\"Score\"], \"\\n\")\n",
    "\n",
    "# Access multiple columns\n",
    "print(\"Accessing multiple columns:\\n\", df[[\"Name\", \"Age\"]], \"\\n\")\n",
    "\n",
    "# Access row by index label\n",
    "print(\"Access row using loc:\\n\", df.loc[2], \"\\n\")\n",
    "\n",
    "# Access row by integer location\n",
    "print(\"Access row using iloc:\\n\", df.iloc[1], \"\\n\")"
   ]
  },
  {
   "cell_type": "code",
   "execution_count": 19,
   "id": "48945eb6-d506-46be-86c1-f61eb419b21f",
   "metadata": {},
   "outputs": [
    {
     "name": "stdout",
     "output_type": "stream",
     "text": [
      "Original DataFrame:\n",
      "       Name  Age  Score\n",
      "0    Alice   24     85\n",
      "1      Bob   27     90\n",
      "2  Charlie   22     88\n",
      "3    David   30     95\n",
      "4      Eva   28     89 \n",
      "\n",
      "First three rows:\n",
      "       Name  Age  Score\n",
      "0    Alice   24     85\n",
      "1      Bob   27     90\n",
      "2  Charlie   22     88 \n",
      "\n",
      "Rows 1 to 3:\n",
      "       Name  Age  Score\n",
      "1      Bob   27     90\n",
      "2  Charlie   22     88\n",
      "3    David   30     95 \n",
      "\n",
      "Columns Name and Score:\n",
      "       Name  Score\n",
      "0    Alice     85\n",
      "1      Bob     90\n",
      "2  Charlie     88\n",
      "3    David     95\n",
      "4      Eva     89 \n",
      "\n",
      "Rows where Score > 88:\n",
      "     Name  Age  Score\n",
      "1    Bob   27     90\n",
      "3  David   30     95\n",
      "4    Eva   28     89 \n",
      "\n"
     ]
    }
   ],
   "source": [
    "#Program 3: Indexing and Slicing\n",
    "import pandas as pd\n",
    "\n",
    "data = {\"Name\": [\"Alice\", \"Bob\", \"Charlie\", \"David\", \"Eva\"],\n",
    "        \"Age\": [24, 27, 22, 30, 28],\n",
    "        \"Score\": [85, 90, 88, 95, 89]}\n",
    "df = pd.DataFrame(data)\n",
    "\n",
    "print(\"Original DataFrame:\\n\", df, \"\\n\")\n",
    "\n",
    "# Slicing rows\n",
    "print(\"First three rows:\\n\", df[:3], \"\\n\")\n",
    "\n",
    "# Slicing specific rows using loc\n",
    "print(\"Rows 1 to 3:\\n\", df.loc[1:3], \"\\n\")\n",
    "\n",
    "# Slicing specific columns\n",
    "print(\"Columns Name and Score:\\n\", df.loc[:, [\"Name\", \"Score\"]], \"\\n\")\n",
    "\n",
    "# Conditional selection\n",
    "print(\"Rows where Score > 88:\\n\", df[df[\"Score\"] > 88], \"\\n\")\n"
   ]
  },
  {
   "cell_type": "code",
   "execution_count": 20,
   "id": "5a85b861-9810-4d4b-a021-dc1314eac8c5",
   "metadata": {},
   "outputs": [
    {
     "name": "stdout",
     "output_type": "stream",
     "text": [
      "Original DataFrame:\n",
      "       Name  Age\n",
      "0    Alice   24\n",
      "1      Bob   27\n",
      "2  Charlie   22 \n",
      "\n",
      "After adding Score column:\n",
      "       Name  Age  Score\n",
      "0    Alice   24     85\n",
      "1      Bob   27     90\n",
      "2  Charlie   22     88 \n",
      "\n",
      "After updating Age of Bob:\n",
      "       Name  Age  Score\n",
      "0    Alice   24     85\n",
      "1      Bob   28     90\n",
      "2  Charlie   22     88 \n",
      "\n",
      "After deleting Score column:\n",
      "       Name  Age\n",
      "0    Alice   24\n",
      "1      Bob   28\n",
      "2  Charlie   22 \n",
      "\n",
      "After deleting row with index 2:\n",
      "     Name  Age\n",
      "0  Alice   24\n",
      "1    Bob   28 \n",
      "\n"
     ]
    }
   ],
   "source": [
    "#Program 4: Adding, Updating, and Deleting Data\n",
    "import pandas as pd\n",
    "\n",
    "df = pd.DataFrame({\"Name\": [\"Alice\", \"Bob\", \"Charlie\"],\n",
    "                   \"Age\": [24, 27, 22]})\n",
    "print(\"Original DataFrame:\\n\", df, \"\\n\")\n",
    "\n",
    "# Adding new column\n",
    "df[\"Score\"] = [85, 90, 88]\n",
    "print(\"After adding Score column:\\n\", df, \"\\n\")\n",
    "\n",
    "# Updating values\n",
    "df.at[1, \"Age\"] = 28\n",
    "print(\"After updating Age of Bob:\\n\", df, \"\\n\")\n",
    "\n",
    "# Deleting column\n",
    "df = df.drop(\"Score\", axis=1)\n",
    "print(\"After deleting Score column:\\n\", df, \"\\n\")\n",
    "\n",
    "# Deleting row\n",
    "df = df.drop(2, axis=0)\n",
    "print(\"After deleting row with index 2:\\n\", df, \"\\n\")"
   ]
  },
  {
   "cell_type": "code",
   "execution_count": 21,
   "id": "5efa95e7-2440-4ea1-96f7-33245b08c01f",
   "metadata": {},
   "outputs": [
    {
     "name": "stdout",
     "output_type": "stream",
     "text": [
      "Original DataFrame with NaN values:\n",
      "       Name   Age  Score\n",
      "0    Alice  24.0   85.0\n",
      "1      Bob   NaN   90.0\n",
      "2  Charlie  22.0    NaN \n",
      "\n",
      "Detect missing values:\n",
      "     Name    Age  Score\n",
      "0  False  False  False\n",
      "1  False   True  False\n",
      "2  False  False   True \n",
      "\n",
      "Fill missing values:\n",
      "       Name   Age  Score\n",
      "0    Alice  24.0   85.0\n",
      "1      Bob   0.0   90.0\n",
      "2  Charlie  22.0    0.0 \n",
      "\n",
      "Drop rows with missing values:\n",
      "     Name   Age  Score\n",
      "0  Alice  24.0   85.0 \n",
      "\n"
     ]
    }
   ],
   "source": [
    "#Program 5: Handling Missing Data\n",
    "import pandas as pd\n",
    "import numpy as np\n",
    "\n",
    "df = pd.DataFrame({\"Name\": [\"Alice\", \"Bob\", \"Charlie\"],\n",
    "                   \"Age\": [24, np.nan, 22],\n",
    "                   \"Score\": [85, 90, np.nan]})\n",
    "print(\"Original DataFrame with NaN values:\\n\", df, \"\\n\")\n",
    "\n",
    "# Detect missing values\n",
    "print(\"Detect missing values:\\n\", df.isnull(), \"\\n\")\n",
    "\n",
    "# Fill missing values\n",
    "print(\"Fill missing values:\\n\", df.fillna(0), \"\\n\")\n",
    "\n",
    "# Drop rows with missing values\n",
    "print(\"Drop rows with missing values:\\n\", df.dropna(), \"\\n\")\n"
   ]
  },
  {
   "cell_type": "code",
   "execution_count": 23,
   "id": "59f97597-84a8-40f9-8c5f-07544fdf8d33",
   "metadata": {},
   "outputs": [
    {
     "name": "stdout",
     "output_type": "stream",
     "text": [
      "DataFrame 1:\n",
      "          Score\n",
      "Alice       85\n",
      "Bob         90\n",
      "Charlie     88 \n",
      "\n",
      "DataFrame 2:\n",
      "        Score\n",
      "Bob       92\n",
      "David     80 \n",
      "\n",
      "Adding df1 and df2:\n",
      "          Score\n",
      "Alice      NaN\n",
      "Bob      182.0\n",
      "Charlie    NaN\n",
      "David      NaN \n",
      "\n",
      "Reindexed DataFrame:\n",
      "          Score\n",
      "Alice       85\n",
      "Bob         90\n",
      "Charlie     88\n",
      "David        0 \n",
      "\n"
     ]
    }
   ],
   "source": [
    "#Program 6: Data Alignment and Reindexing\n",
    "import pandas as pd\n",
    "\n",
    "df1 = pd.DataFrame({\"Score\": [85, 90, 88]}, index=[\"Alice\", \"Bob\", \"Charlie\"])\n",
    "df2 = pd.DataFrame({\"Score\": [92, 80]}, index=[\"Bob\", \"David\"])\n",
    "\n",
    "print(\"DataFrame 1:\\n\", df1, \"\\n\")\n",
    "print(\"DataFrame 2:\\n\", df2, \"\\n\")\n",
    "\n",
    "# Automatic alignment in arithmetic\n",
    "print(\"Adding df1 and df2:\\n\", df1 + df2, \"\\n\")\n",
    "\n",
    "# Reindexing\n",
    "df3 = df1.reindex([\"Alice\", \"Bob\", \"Charlie\", \"David\"], fill_value=0)\n",
    "print(\"Reindexed DataFrame:\\n\", df3, \"\\n\")"
   ]
  },
  {
   "cell_type": "code",
   "execution_count": 24,
   "id": "ce9ddfa5-a6e9-476b-8cdb-79a9a3aaf65e",
   "metadata": {},
   "outputs": [
    {
     "name": "stdout",
     "output_type": "stream",
     "text": [
      "Original DataFrame:\n",
      "       Name  Age  Score\n",
      "0    Alice   24     85\n",
      "1      Bob   27     90\n",
      "2  Charlie   22     88\n",
      "3    David   30     95\n",
      "4      Eva   28     89 \n",
      "\n",
      "Sorted by Score:\n",
      "       Name  Age  Score\n",
      "0    Alice   24     85\n",
      "2  Charlie   22     88\n",
      "4      Eva   28     89\n",
      "1      Bob   27     90\n",
      "3    David   30     95 \n",
      "\n",
      "Average score grouped by Age:\n",
      " Age\n",
      "22    88.0\n",
      "24    85.0\n",
      "27    90.0\n",
      "28    89.0\n",
      "30    95.0\n",
      "Name: Score, dtype: float64 \n",
      "\n"
     ]
    }
   ],
   "source": [
    "#Program 7: Sorting and Grouping\n",
    "import pandas as pd\n",
    "\n",
    "data = {\"Name\": [\"Alice\", \"Bob\", \"Charlie\", \"David\", \"Eva\"],\n",
    "        \"Age\": [24, 27, 22, 30, 28],\n",
    "        \"Score\": [85, 90, 88, 95, 89]}\n",
    "df = pd.DataFrame(data)\n",
    "\n",
    "print(\"Original DataFrame:\\n\", df, \"\\n\")\n",
    "\n",
    "# Sorting by column\n",
    "print(\"Sorted by Score:\\n\", df.sort_values(by=\"Score\"), \"\\n\")\n",
    "\n",
    "# Grouping data\n",
    "grouped = df.groupby(\"Age\")[\"Score\"].mean()\n",
    "print(\"Average score grouped by Age:\\n\", grouped, \"\\n\")\n"
   ]
  },
  {
   "cell_type": "code",
   "execution_count": 25,
   "id": "eed25d00-2ddf-44b7-be09-dc88383ccf21",
   "metadata": {},
   "outputs": [
    {
     "name": "stdout",
     "output_type": "stream",
     "text": [
      "Grouped Series (just groups, no aggregation):\n",
      " <pandas.core.groupby.generic.SeriesGroupBy object at 0x7ea0e2d4d610> \n",
      "\n",
      "HR group in Series:\n",
      " Alice    50000\n",
      "Bob      55000\n",
      "dtype: int64 \n",
      "\n"
     ]
    }
   ],
   "source": [
    "#Grouping Example\n",
    "#A. Series\n",
    "import pandas as pd\n",
    "\n",
    "# Salary series\n",
    "salary = pd.Series([50000, 55000, 60000, 62000],\n",
    "                   index=[\"Alice\", \"Bob\", \"Charlie\", \"David\"])\n",
    "# Department for each person\n",
    "department = pd.Series([\"HR\", \"HR\", \"IT\", \"IT\"],\n",
    "                       index=[\"Alice\", \"Bob\", \"Charlie\", \"David\"])\n",
    "\n",
    "# Grouping by department (no aggregation yet)\n",
    "grouped_series = salary.groupby(department)\n",
    "print(\"Grouped Series (just groups, no aggregation):\\n\", grouped_series, \"\\n\")\n",
    "\n",
    "# You can access a group\n",
    "print(\"HR group in Series:\\n\", grouped_series.get_group(\"HR\"), \"\\n\")"
   ]
  },
  {
   "cell_type": "code",
   "execution_count": 26,
   "id": "fea71646-835a-44d3-a807-71b7682a0994",
   "metadata": {},
   "outputs": [
    {
     "name": "stdout",
     "output_type": "stream",
     "text": [
      "Aggregated Series (mean salary per department):\n",
      " HR    52500.0\n",
      "IT    61000.0\n",
      "dtype: float64 \n",
      "\n",
      "Sum per department:\n",
      " HR    105000\n",
      "IT    122000\n",
      "dtype: int64 \n",
      "\n",
      "Max per department:\n",
      " HR    55000\n",
      "IT    62000\n",
      "dtype: int64 \n",
      "\n"
     ]
    }
   ],
   "source": [
    "#Aggregation Example\n",
    "#A. Series\n",
    "# Aggregation on grouped Series\n",
    "# Compute mean salary per department\n",
    "aggregated_series = grouped_series.mean()\n",
    "print(\"Aggregated Series (mean salary per department):\\n\", aggregated_series, \"\\n\")\n",
    "\n",
    "# Other aggregations\n",
    "print(\"Sum per department:\\n\", grouped_series.sum(), \"\\n\")\n",
    "print(\"Max per department:\\n\", grouped_series.max(), \"\\n\")"
   ]
  },
  {
   "cell_type": "code",
   "execution_count": 27,
   "id": "3d5a3b26-55ce-4e22-b097-b39816811736",
   "metadata": {},
   "outputs": [
    {
     "name": "stdout",
     "output_type": "stream",
     "text": [
      "Mean salary by department (Series):\n",
      " HR    52500.0\n",
      "IT    61000.0\n",
      "dtype: float64 \n",
      "\n",
      "Mean salary by department (MultiLevel Series):\n",
      " Dept\n",
      "HR    52500.0\n",
      "IT    61000.0\n",
      "dtype: float64 \n",
      "\n"
     ]
    }
   ],
   "source": [
    "#Example: Grouping and Aggregating for Series / MultiLevel Series\n",
    "import pandas as pd\n",
    "\n",
    "# Single Series\n",
    "salary = pd.Series([50000, 55000, 60000, 62000],\n",
    "                   index=[\"Alice\", \"Bob\", \"Charlie\", \"David\"])\n",
    "department = pd.Series([\"HR\", \"HR\", \"IT\", \"IT\"],\n",
    "                       index=[\"Alice\", \"Bob\", \"Charlie\", \"David\"])\n",
    "\n",
    "# Grouping salaries by department and calculating mean\n",
    "grouped_series = salary.groupby(department).mean()\n",
    "print(\"Mean salary by department (Series):\\n\", grouped_series, \"\\n\")\n",
    "\n",
    "# MultiLevel Series\n",
    "arrays = [\n",
    "    [\"HR\", \"HR\", \"IT\", \"IT\"],\n",
    "    [\"Alice\", \"Bob\", \"Charlie\", \"David\"]\n",
    "]\n",
    "index = pd.MultiIndex.from_arrays(arrays, names=(\"Dept\", \"Employee\"))\n",
    "multi_s = pd.Series([50000, 55000, 60000, 62000], index=index)\n",
    "\n",
    "# Group by first level (Dept)\n",
    "grouped_multi = multi_s.groupby(level=0).mean()\n",
    "print(\"Mean salary by department (MultiLevel Series):\\n\", grouped_multi, \"\\n\")"
   ]
  },
  {
   "cell_type": "code",
   "execution_count": 28,
   "id": "44c40c33-1ab2-4a8b-8a0d-817e308b2ea1",
   "metadata": {},
   "outputs": [
    {
     "name": "stdout",
     "output_type": "stream",
     "text": [
      "Grouped DataFrame (just groups, no aggregation):\n",
      " <pandas.core.groupby.generic.DataFrameGroupBy object at 0x7ea0e2c66390> \n",
      "\n",
      "HR group in DataFrame:\n",
      "   Department Employee  Salary\n",
      "0         HR    Alice   50000\n",
      "1         HR      Bob   55000 \n",
      "\n"
     ]
    }
   ],
   "source": [
    "#Grouping (DataFrame)\n",
    "import pandas as pd\n",
    "\n",
    "# DataFrame\n",
    "df = pd.DataFrame({\n",
    "    \"Department\": [\"HR\", \"HR\", \"IT\", \"IT\"],\n",
    "    \"Employee\": [\"Alice\", \"Bob\", \"Charlie\", \"David\"],\n",
    "    \"Salary\": [50000, 55000, 60000, 62000]\n",
    "})\n",
    "\n",
    "# Grouping by Department\n",
    "grouped_df = df.groupby(\"Department\")\n",
    "print(\"Grouped DataFrame (just groups, no aggregation):\\n\", grouped_df, \"\\n\")\n",
    "\n",
    "# Accessing one group\n",
    "print(\"HR group in DataFrame:\\n\", grouped_df.get_group(\"HR\"), \"\\n\")"
   ]
  },
  {
   "cell_type": "code",
   "execution_count": 29,
   "id": "1817b885-cd09-4ee0-9399-3ffd12b3324c",
   "metadata": {},
   "outputs": [
    {
     "name": "stdout",
     "output_type": "stream",
     "text": [
      "Aggregated DataFrame (mean salary per department):\n",
      " Department\n",
      "HR    52500.0\n",
      "IT    61000.0\n",
      "Name: Salary, dtype: float64 \n",
      "\n",
      "Aggregated DataFrame (multiple stats):\n",
      "              Salary               \n",
      "               mean     sum    max\n",
      "Department                        \n",
      "HR          52500.0  105000  55000\n",
      "IT          61000.0  122000  62000 \n",
      "\n"
     ]
    }
   ],
   "source": [
    "# Aggregating DataFrame \n",
    "# Aggregation on grouped DataFrame\n",
    "# Compute mean salary per department\n",
    "aggregated_df = grouped_df[\"Salary\"].mean()\n",
    "print(\"Aggregated DataFrame (mean salary per department):\\n\", aggregated_df, \"\\n\")\n",
    "\n",
    "# Multiple aggregations on DataFrame\n",
    "multi_agg_df = grouped_df.agg({\n",
    "    \"Salary\": [\"mean\", \"sum\", \"max\"]\n",
    "})\n",
    "print(\"Aggregated DataFrame (multiple stats):\\n\", multi_agg_df, \"\\n\")"
   ]
  },
  {
   "cell_type": "code",
   "execution_count": 30,
   "id": "5dbd6ba0-4ded-475c-8b28-b5967d1182e2",
   "metadata": {},
   "outputs": [
    {
     "name": "stdout",
     "output_type": "stream",
     "text": [
      "Original DataFrame:\n",
      "   Department Employee  Salary  Bonus\n",
      "0         HR    Alice   50000   5000\n",
      "1         HR      Bob   55000   6000\n",
      "2         IT  Charlie   60000   7000\n",
      "3         IT    David   62000   8000\n",
      "4         HR      Eva   58000   5500\n",
      "5         IT    Frank   61000   7500 \n",
      "\n",
      "Groups formed:\n",
      " {'HR': [0, 1, 4], 'IT': [2, 3, 5]} \n",
      "\n",
      "HR group:\n",
      "   Department Employee  Salary  Bonus\n",
      "0         HR    Alice   50000   5000\n",
      "1         HR      Bob   55000   6000\n",
      "4         HR      Eva   58000   5500 \n",
      "\n",
      "Mean Salary per Department:\n",
      " Department\n",
      "HR    54333.333333\n",
      "IT    61000.000000\n",
      "Name: Salary, dtype: float64 \n",
      "\n",
      "Aggregated stats per Department:\n",
      "                   Salary                Bonus        \n",
      "                    mean    max    min    sum    mean\n",
      "Department                                           \n",
      "HR          54333.333333  58000  50000  16500  5500.0\n",
      "IT          61000.000000  62000  60000  22500  7500.0 \n",
      "\n",
      "Departments with mean salary > 55000:\n",
      "   Department Employee  Salary  Bonus\n",
      "2         IT  Charlie   60000   7000\n",
      "3         IT    David   62000   8000\n",
      "5         IT    Frank   61000   7500 \n",
      "\n"
     ]
    }
   ],
   "source": [
    "import pandas as pd\n",
    "\n",
    "# ------------------------------------------\n",
    "# Sample DataFrame\n",
    "# ------------------------------------------\n",
    "df = pd.DataFrame({\n",
    "    \"Department\": [\"HR\", \"HR\", \"IT\", \"IT\", \"HR\", \"IT\"],\n",
    "    \"Employee\": [\"Alice\", \"Bob\", \"Charlie\", \"David\", \"Eva\", \"Frank\"],\n",
    "    \"Salary\": [50000, 55000, 60000, 62000, 58000, 61000],\n",
    "    \"Bonus\": [5000, 6000, 7000, 8000, 5500, 7500]\n",
    "})\n",
    "\n",
    "print(\"Original DataFrame:\\n\", df, \"\\n\")\n",
    "\n",
    "# ------------------------------------------\n",
    "# Grouping by Department (no aggregation yet)\n",
    "# ------------------------------------------\n",
    "grouped = df.groupby(\"Department\")\n",
    "print(\"Groups formed:\\n\", grouped.groups, \"\\n\")\n",
    "\n",
    "# Access a specific group\n",
    "print(\"HR group:\\n\", grouped.get_group(\"HR\"), \"\\n\")\n",
    "\n",
    "# ------------------------------------------\n",
    "# Aggregating after grouping\n",
    "# ------------------------------------------\n",
    "# 1. Single aggregation function (mean salary)\n",
    "mean_salary = grouped[\"Salary\"].mean()\n",
    "print(\"Mean Salary per Department:\\n\", mean_salary, \"\\n\")\n",
    "\n",
    "# 2. Multiple aggregation functions\n",
    "agg_stats = grouped.agg({\n",
    "    \"Salary\": [\"mean\", \"max\", \"min\"],\n",
    "    \"Bonus\": [\"sum\", \"mean\"]\n",
    "})\n",
    "print(\"Aggregated stats per Department:\\n\", agg_stats, \"\\n\")\n",
    "\n",
    "# ------------------------------------------\n",
    "# Optional: filtering groups (e.g., mean salary > 55000)\n",
    "# ------------------------------------------\n",
    "high_salary_dept = grouped.filter(lambda x: x[\"Salary\"].mean() > 55000)\n",
    "print(\"Departments with mean salary > 55000:\\n\", high_salary_dept, \"\\n\")\n"
   ]
  },
  {
   "cell_type": "code",
   "execution_count": 31,
   "id": "1fcb7fc7-8ebe-4037-a707-7d204254fc83",
   "metadata": {},
   "outputs": [],
   "source": [
    "#series\n",
    "import pandas as pd\n",
    "salary = pd.Series([50000, 55000, 60000, 62000], index=[\"Alice\",\"Bob\",\"Charlie\",\"David\"])\n",
    "department = pd.Series([\"HR\",\"HR\",\"IT\",\"IT\"], index=[\"Alice\",\"Bob\",\"Charlie\",\"David\"])\n",
    "\n",
    "grouped_series = salary.groupby(department)\n",
    "#Grouping vs Pivot Tables\n",
    "\n",
    "#Pivot tables are essentially groupby + aggregation + reshape in one step.\n",
    "\n",
    "#They are easier to read when summarizing across two categorical variables.\n",
    "\n",
    "# Equivalent using groupby\n",
    "grouped = df.groupby([\"Department\", \"Team\"])[\"Salary\"].mean().unstack()\n",
    "print(\"Equivalent using groupby + unstack:\\n\", grouped)"
   ]
  },
  {
   "cell_type": "code",
   "execution_count": 32,
   "id": "81bdd018-7972-4eb7-a407-264d6399ec58",
   "metadata": {},
   "outputs": [],
   "source": [
    "#data frames\n",
    "df = pd.DataFrame({\n",
    "    \"Department\":[\"HR\",\"HR\",\"IT\",\"IT\"],\n",
    "    \"Employee\":[\"Alice\",\"Bob\",\"Charlie\",\"David\"],\n",
    "    \"Salary\":[50000,55000,60000,62000]\n",
    "})\n",
    "\n",
    "grouped_df = df.groupby(\"Department\")\n"
   ]
  },
  {
   "cell_type": "code",
   "execution_count": 33,
   "id": "c1e33e33-db02-4bd0-a835-4047f3e2de52",
   "metadata": {},
   "outputs": [
    {
     "name": "stdout",
     "output_type": "stream",
     "text": [
      "Grouped Series (no aggregation):\n",
      "HR: [50000 55000]\n",
      "IT: [60000 62000]\n",
      "\n",
      "Aggregated Series (mean salary per department):\n",
      "HR    52500.0\n",
      "IT    61000.0\n",
      "dtype: float64\n",
      "\n",
      "==================================================\n",
      "\n",
      "Grouped DataFrame (no aggregation):\n",
      "HR group:\n",
      "  Department Employee  Salary  Bonus\n",
      "0         HR    Alice   50000   5000\n",
      "1         HR      Bob   55000   6000\n",
      "\n",
      "IT group:\n",
      "  Department Employee  Salary  Bonus\n",
      "2         IT  Charlie   60000   7000\n",
      "3         IT    David   62000   8000\n",
      "\n",
      "Aggregated DataFrame (Salary and Bonus stats per Department):\n",
      "             Salary           Bonus       \n",
      "               mean     sum    mean    sum\n",
      "Department                                \n",
      "HR          52500.0  105000  5500.0  11000\n",
      "IT          61000.0  122000  7500.0  15000\n"
     ]
    }
   ],
   "source": [
    "import pandas as pd\n",
    "\n",
    "# ------------------------------------------\n",
    "# 1. Series Example\n",
    "# ------------------------------------------\n",
    "salary_series = pd.Series([50000, 55000, 60000, 62000],\n",
    "                          index=[\"Alice\", \"Bob\", \"Charlie\", \"David\"])\n",
    "department_series = pd.Series([\"HR\", \"HR\", \"IT\", \"IT\"],\n",
    "                              index=[\"Alice\", \"Bob\", \"Charlie\", \"David\"])\n",
    "\n",
    "# Grouping (creates groups, no aggregation yet)\n",
    "grouped_series = salary_series.groupby(department_series)\n",
    "print(\"Grouped Series (no aggregation):\")\n",
    "for dept, group in grouped_series:\n",
    "    print(f\"{dept}: {group.values}\")\n",
    "print()\n",
    "\n",
    "# Aggregating (mean per department)\n",
    "aggregated_series = grouped_series.mean()\n",
    "print(\"Aggregated Series (mean salary per department):\")\n",
    "print(aggregated_series)\n",
    "print(\"\\n\" + \"=\"*50 + \"\\n\")\n",
    "\n",
    "# ------------------------------------------\n",
    "# 2. DataFrame Example\n",
    "# ------------------------------------------\n",
    "df = pd.DataFrame({\n",
    "    \"Department\": [\"HR\", \"HR\", \"IT\", \"IT\"],\n",
    "    \"Employee\": [\"Alice\", \"Bob\", \"Charlie\", \"David\"],\n",
    "    \"Salary\": [50000, 55000, 60000, 62000],\n",
    "    \"Bonus\": [5000, 6000, 7000, 8000]\n",
    "})\n",
    "\n",
    "# Grouping by Department (creates groups)\n",
    "grouped_df = df.groupby(\"Department\")\n",
    "print(\"Grouped DataFrame (no aggregation):\")\n",
    "for dept, group in grouped_df:\n",
    "    print(f\"{dept} group:\\n{group}\\n\")\n",
    "\n",
    "# Aggregating (mean and sum for numeric columns)\n",
    "aggregated_df = grouped_df.agg({\n",
    "    \"Salary\": [\"mean\", \"sum\"],\n",
    "    \"Bonus\": [\"mean\", \"sum\"]\n",
    "})\n",
    "print(\"Aggregated DataFrame (Salary and Bonus stats per Department):\")\n",
    "print(aggregated_df)\n"
   ]
  },
  {
   "cell_type": "code",
   "execution_count": 34,
   "id": "dcca37ff-a4ae-4b61-95ee-a069144da4a9",
   "metadata": {},
   "outputs": [
    {
     "name": "stdout",
     "output_type": "stream",
     "text": [
      "Inner Merge:\n",
      "   Employee Department  Salary\n",
      "0    Alice         HR   50000\n",
      "1      Bob         IT   60000\n",
      "2  Charlie         HR   55000 \n",
      "\n",
      "Outer Merge:\n",
      "   Employee Department   Salary\n",
      "0    Alice         HR  50000.0\n",
      "1      Bob         IT  60000.0\n",
      "2  Charlie         HR  55000.0\n",
      "3    David         IT      NaN\n",
      "4      Eva        NaN  58000.0 \n",
      "\n"
     ]
    }
   ],
   "source": [
    "#merging DataFRames\n",
    "import pandas as pd\n",
    "\n",
    "# DataFrame 1\n",
    "df1 = pd.DataFrame({\n",
    "    \"Employee\": [\"Alice\", \"Bob\", \"Charlie\", \"David\"],\n",
    "    \"Department\": [\"HR\", \"IT\", \"HR\", \"IT\"]\n",
    "})\n",
    "\n",
    "# DataFrame 2\n",
    "df2 = pd.DataFrame({\n",
    "    \"Employee\": [\"Alice\", \"Bob\", \"Charlie\", \"Eva\"],\n",
    "    \"Salary\": [50000, 60000, 55000, 58000]\n",
    "})\n",
    "\n",
    "# Inner merge (only common employees)\n",
    "inner_merge = pd.merge(df1, df2, on=\"Employee\", how=\"inner\")\n",
    "print(\"Inner Merge:\\n\", inner_merge, \"\\n\")\n",
    "\n",
    "# Outer merge (all employees)\n",
    "outer_merge = pd.merge(df1, df2, on=\"Employee\", how=\"outer\")\n",
    "print(\"Outer Merge:\\n\", outer_merge, \"\\n\")\n"
   ]
  },
  {
   "cell_type": "code",
   "execution_count": 35,
   "id": "9817c095-1e06-4cc7-b734-e6c7513de32c",
   "metadata": {},
   "outputs": [
    {
     "name": "stdout",
     "output_type": "stream",
     "text": [
      "Merge on different keys:\n",
      "    EmpID     Name  EmployeeID  Salary\n",
      "0      2      Bob           2   60000\n",
      "1      3  Charlie           3   55000\n"
     ]
    }
   ],
   "source": [
    "#Merging on different key columns\n",
    "\n",
    "#You can merge two DataFrames using different column names in each DataFrame by using left_on and right_on.\n",
    "\n",
    "#Example:\n",
    "\n",
    "import pandas as pd\n",
    "\n",
    "df1 = pd.DataFrame({\n",
    "    \"EmpID\": [1, 2, 3],\n",
    "    \"Name\": [\"Alice\", \"Bob\", \"Charlie\"]\n",
    "})\n",
    "\n",
    "df2 = pd.DataFrame({\n",
    "    \"EmployeeID\": [2, 3, 4],\n",
    "    \"Salary\": [60000, 55000, 58000]\n",
    "})\n",
    "\n",
    "# Merge using different column names\n",
    "merged_df = pd.merge(df1, df2, left_on=\"EmpID\", right_on=\"EmployeeID\", how=\"inner\")\n",
    "print(\"Merge on different keys:\\n\", merged_df)\n"
   ]
  },
  {
   "cell_type": "code",
   "execution_count": 36,
   "id": "30e4675f-a74f-40a6-9022-3d2561df06d3",
   "metadata": {},
   "outputs": [
    {
     "name": "stdout",
     "output_type": "stream",
     "text": [
      "Merge with custom suffixes:\n",
      "   Employee  Salary_Old  Salary_New\n",
      "0    Alice     50000.0         NaN\n",
      "1      Bob     60000.0     65000.0\n",
      "2  Charlie         NaN     55000.0\n"
     ]
    }
   ],
   "source": [
    "#Handling overlapping column names\n",
    "\n",
    "#If both DataFrames have columns with the same name other than the key, Pandas automatically adds suffixes: _x and _y.\n",
    "\n",
    "#You can customize suffixes using the suffixes parameter.\n",
    "\n",
    "df1 = pd.DataFrame({\n",
    "    \"Employee\": [\"Alice\", \"Bob\"],\n",
    "    \"Salary\": [50000, 60000]\n",
    "})\n",
    "\n",
    "df2 = pd.DataFrame({\n",
    "    \"Employee\": [\"Bob\", \"Charlie\"],\n",
    "    \"Salary\": [65000, 55000]\n",
    "})\n",
    "\n",
    "# Merge with custom suffixes\n",
    "merged_df = pd.merge(df1, df2, on=\"Employee\", how=\"outer\", suffixes=(\"_Old\", \"_New\"))\n",
    "print(\"Merge with custom suffixes:\\n\", merged_df)"
   ]
  },
  {
   "cell_type": "code",
   "execution_count": 37,
   "id": "c444da21-4f83-4574-8f3e-e44a227a092b",
   "metadata": {},
   "outputs": [
    {
     "name": "stdout",
     "output_type": "stream",
     "text": [
      "Merge using indexes:\n",
      "        Salary Department\n",
      "Alice   50000         HR\n",
      "Bob     60000         IT\n"
     ]
    }
   ],
   "source": [
    "#Merging using indexes\n",
    "\n",
    "#Instead of merging on columns, you can merge using the row index with left_index=True and right_index=True.\n",
    "\n",
    "df1 = pd.DataFrame({\"Salary\": [50000, 60000]}, index=[\"Alice\", \"Bob\"])\n",
    "df2 = pd.DataFrame({\"Department\": [\"HR\", \"IT\"]}, index=[\"Alice\", \"Bob\"])\n",
    "\n",
    "# Merge using index\n",
    "merged_index_df = pd.merge(df1, df2, left_index=True, right_index=True)\n",
    "print(\"Merge using indexes:\\n\", merged_index_df)\n"
   ]
  },
  {
   "cell_type": "code",
   "execution_count": 38,
   "id": "123d47b5-1b74-4c3a-8a5d-c5a6027d4745",
   "metadata": {},
   "outputs": [
    {
     "name": "stdout",
     "output_type": "stream",
     "text": [
      "Team              A        B\n",
      "Department                  \n",
      "HR          50000.0  55000.0\n",
      "IT          60000.0  62000.0\n"
     ]
    }
   ],
   "source": [
    "#Summary Tables \n",
    "df = pd.DataFrame({\n",
    "    \"Department\": [\"HR\",\"HR\",\"IT\",\"IT\"],\n",
    "    \"Team\": [\"A\",\"B\",\"A\",\"B\"],\n",
    "    \"Salary\": [50000,55000,60000,62000]\n",
    "})\n",
    "summary = df.pivot_table(values=\"Salary\", index=\"Department\", columns=\"Team\", aggfunc=\"mean\")\n",
    "print(summary)\n"
   ]
  },
  {
   "cell_type": "code",
   "execution_count": 39,
   "id": "04adc663-c56c-44bb-ab5e-22a766ffd4e4",
   "metadata": {},
   "outputs": [
    {
     "name": "stdout",
     "output_type": "stream",
     "text": [
      "Summary Table (Average Salary):\n",
      " Team              A        B\n",
      "Department                  \n",
      "HR          54000.0  55000.0\n",
      "IT          60000.0  61500.0\n"
     ]
    }
   ],
   "source": [
    "# summary table pivot table\n",
    "import pandas as pd\n",
    "\n",
    "df = pd.DataFrame({\n",
    "    \"Department\": [\"HR\", \"HR\", \"IT\", \"IT\", \"HR\", \"IT\"],\n",
    "    \"Team\": [\"A\", \"B\", \"A\", \"B\", \"A\", \"B\"],\n",
    "    \"Salary\": [50000, 55000, 60000, 62000, 58000, 61000]\n",
    "})\n",
    "\n",
    "# Pivot table: average salary by Department and Team\n",
    "summary_table = df.pivot_table(values=\"Salary\", index=\"Department\", columns=\"Team\", aggfunc=\"mean\")\n",
    "print(\"Summary Table (Average Salary):\\n\", summary_table)\n"
   ]
  },
  {
   "cell_type": "code",
   "execution_count": 40,
   "id": "b7341094-287e-4abd-9320-640590149da0",
   "metadata": {},
   "outputs": [
    {
     "name": "stdout",
     "output_type": "stream",
     "text": [
      "Pivot Table with Multiple Aggregations:\n",
      "                mean              sum            max       \n",
      "Team              A        B       A       B      A      B\n",
      "Department                                                \n",
      "HR          54000.0  55000.0  108000   55000  58000  55000\n",
      "IT          60000.0  61500.0   60000  123000  60000  62000\n"
     ]
    }
   ],
   "source": [
    "#Pivot Table with Multiple Aggregation Functions\n",
    "\n",
    "#You can apply more than one aggregation function at once using a list:\n",
    "\n",
    "summary_table_multi = df.pivot_table(\n",
    "    values=\"Salary\",\n",
    "    index=\"Department\",\n",
    "    columns=\"Team\",\n",
    "    aggfunc=[\"mean\", \"sum\", \"max\"]\n",
    ")\n",
    "print(\"Pivot Table with Multiple Aggregations:\\n\", summary_table_multi)"
   ]
  },
  {
   "cell_type": "code",
   "execution_count": 41,
   "id": "47968a84-3997-406d-bfe4-94ac25ecaa1d",
   "metadata": {},
   "outputs": [
    {
     "name": "stdout",
     "output_type": "stream",
     "text": [
      "Pivot Table with Missing Values Filled:\n",
      " Team              A        B\n",
      "Department                  \n",
      "HR          54000.0  55000.0\n",
      "IT          60000.0  61500.0\n"
     ]
    }
   ],
   "source": [
    "#Handling Missing Data\n",
    "\n",
    "#Pivot tables automatically fill missing combinations with NaN.\n",
    "\n",
    "#You can replace missing values with fill_value:\n",
    "\n",
    "summary_table_fill = df.pivot_table(\n",
    "    values=\"Salary\",\n",
    "    index=\"Department\",\n",
    "    columns=\"Team\",\n",
    "    aggfunc=\"mean\",\n",
    "    fill_value=0\n",
    ")\n",
    "print(\"Pivot Table with Missing Values Filled:\\n\", summary_table_fill)\n"
   ]
  },
  {
   "cell_type": "code",
   "execution_count": 42,
   "id": "91da4787-2cb0-425f-87ad-5821f5492535",
   "metadata": {},
   "outputs": [
    {
     "name": "stdout",
     "output_type": "stream",
     "text": [
      "Equivalent using groupby + unstack:\n",
      " Team              A        B\n",
      "Department                  \n",
      "HR          54000.0  55000.0\n",
      "IT          60000.0  61500.0\n"
     ]
    }
   ],
   "source": [
    "#Grouping vs Pivot Tables\n",
    "\n",
    "#Pivot tables are essentially groupby + aggregation + reshape in one step.\n",
    "\n",
    "#They are easier to read when summarizing across two categorical variables.\n",
    "\n",
    "# Equivalent using groupby\n",
    "grouped = df.groupby([\"Department\", \"Team\"])[\"Salary\"].mean().unstack()\n",
    "print(\"Equivalent using groupby + unstack:\\n\", grouped)"
   ]
  },
  {
   "cell_type": "code",
   "execution_count": null,
   "id": "d9987b99-b1ee-4d75-9e9e-ce8c3be93ce4",
   "metadata": {},
   "outputs": [],
   "source": []
  }
 ],
 "metadata": {
  "kernelspec": {
   "display_name": "Python [conda env:base] *",
   "language": "python",
   "name": "conda-base-py"
  },
  "language_info": {
   "codemirror_mode": {
    "name": "ipython",
    "version": 3
   },
   "file_extension": ".py",
   "mimetype": "text/x-python",
   "name": "python",
   "nbconvert_exporter": "python",
   "pygments_lexer": "ipython3",
   "version": "3.12.4"
  }
 },
 "nbformat": 4,
 "nbformat_minor": 5
}
