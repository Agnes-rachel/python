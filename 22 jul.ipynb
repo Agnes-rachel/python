{
 "cells": [
  {
   "cell_type": "markdown",
   "id": "0fcfb78a-4daf-4488-abff-9f896cdc2412",
   "metadata": {},
   "source": [
    "online travel system\n"
   ]
  },
  {
   "cell_type": "code",
   "execution_count": null,
   "id": "fe76160f-77e7-4f5d-98bd-21d64f3d639b",
   "metadata": {},
   "outputs": [
    {
     "name": "stdout",
     "output_type": "stream",
     "text": [
      "\n",
      "--- Welcome to TravelBuddy\n",
      "1. View Destinations\n",
      "2. Book Hotel\n",
      "3. Book Flight\n",
      "4. Get Recommendations by Budget\n",
      "5. Suggest Activities\n",
      "6. Show Eco-Friendly Destinations\n",
      "7. Exit\n"
     ]
    },
    {
     "name": "stdin",
     "output_type": "stream",
     "text": [
      "Enter your choice (1-7):  1\n"
     ]
    },
    {
     "name": "stdout",
     "output_type": "stream",
     "text": [
      "\n",
      "Available Destinations:\n",
      "1. Delhi\n",
      "2. Goa\n",
      "3. Manali\n",
      "4. Kerala\n",
      "5. Jaipur\n",
      "\n",
      "--- Welcome to TravelBuddy\n",
      "1. View Destinations\n",
      "2. Book Hotel\n",
      "3. Book Flight\n",
      "4. Get Recommendations by Budget\n",
      "5. Suggest Activities\n",
      "6. Show Eco-Friendly Destinations\n",
      "7. Exit\n"
     ]
    },
    {
     "name": "stdin",
     "output_type": "stream",
     "text": [
      "Enter your choice (1-7):  2\n",
      "Enter destination to book hotel:  Goa\n"
     ]
    },
    {
     "name": "stdout",
     "output_type": "stream",
     "text": [
      "Hotel booked at Goa: Beach Resort\n",
      "\n",
      "--- Welcome to TravelBuddy\n",
      "1. View Destinations\n",
      "2. Book Hotel\n",
      "3. Book Flight\n",
      "4. Get Recommendations by Budget\n",
      "5. Suggest Activities\n",
      "6. Show Eco-Friendly Destinations\n",
      "7. Exit\n"
     ]
    },
    {
     "name": "stdin",
     "output_type": "stream",
     "text": [
      "Enter your choice (1-7):  3\n",
      "Enter destination to book flight:  Goa\n"
     ]
    },
    {
     "name": "stdout",
     "output_type": "stream",
     "text": [
      "Flight booked to Goa via Air India\n",
      "\n",
      "--- Welcome to TravelBuddy\n",
      "1. View Destinations\n",
      "2. Book Hotel\n",
      "3. Book Flight\n",
      "4. Get Recommendations by Budget\n",
      "5. Suggest Activities\n",
      "6. Show Eco-Friendly Destinations\n",
      "7. Exit\n"
     ]
    },
    {
     "name": "stdin",
     "output_type": "stream",
     "text": [
      "Enter your choice (1-7):  4\n",
      "Enter your budget in INR:  5000\n"
     ]
    },
    {
     "name": "stdout",
     "output_type": "stream",
     "text": [
      "Try: Goa or Manali\n",
      "\n",
      "--- Welcome to TravelBuddy\n",
      "1. View Destinations\n",
      "2. Book Hotel\n",
      "3. Book Flight\n",
      "4. Get Recommendations by Budget\n",
      "5. Suggest Activities\n",
      "6. Show Eco-Friendly Destinations\n",
      "7. Exit\n"
     ]
    },
    {
     "name": "stdin",
     "output_type": "stream",
     "text": [
      "Enter your choice (1-7):  5\n",
      "Enter destination to see activities:  Goaa\n"
     ]
    },
    {
     "name": "stdout",
     "output_type": "stream",
     "text": [
      "No activities listed for this destination.\n",
      "\n",
      "--- Welcome to TravelBuddy\n",
      "1. View Destinations\n",
      "2. Book Hotel\n",
      "3. Book Flight\n",
      "4. Get Recommendations by Budget\n",
      "5. Suggest Activities\n",
      "6. Show Eco-Friendly Destinations\n",
      "7. Exit\n"
     ]
    },
    {
     "name": "stdin",
     "output_type": "stream",
     "text": [
      "Enter your choice (1-7):  5\n",
      "Enter destination to see activities:  Goa\n"
     ]
    },
    {
     "name": "stdout",
     "output_type": "stream",
     "text": [
      "Things to do in Goa: Beach Party, Water Sports, Sunset Cruise\n",
      "\n",
      "--- Welcome to TravelBuddy\n",
      "1. View Destinations\n",
      "2. Book Hotel\n",
      "3. Book Flight\n",
      "4. Get Recommendations by Budget\n",
      "5. Suggest Activities\n",
      "6. Show Eco-Friendly Destinations\n",
      "7. Exit\n"
     ]
    },
    {
     "name": "stdin",
     "output_type": "stream",
     "text": [
      "Enter your choice (1-7):  6\n"
     ]
    },
    {
     "name": "stdout",
     "output_type": "stream",
     "text": [
      "Eco-Friendly Travel Spots :\n",
      "- Kerala\n",
      "- Manali\n",
      "\n",
      "--- Welcome to TravelBuddy\n",
      "1. View Destinations\n",
      "2. Book Hotel\n",
      "3. Book Flight\n",
      "4. Get Recommendations by Budget\n",
      "5. Suggest Activities\n",
      "6. Show Eco-Friendly Destinations\n",
      "7. Exit\n"
     ]
    }
   ],
   "source": [
    "destinations = [\"Delhi\", \"Goa\", \"Manali\", \"Kerala\", \"Jaipur\"]\n",
    "hotels = [\"Taj Hotel\", \"Beach Resort\", \"Snow View Lodge\", \"Backwater Villa\", \"Palace Stay\"]\n",
    "flights = [\"IndiGo\", \"Air India\", \"Vistara\", \"SpiceJet\", \"GoFirst\"]\n",
    "activities = {\n",
    "    \"Delhi\": [\"Historical Tour\", \"Shopping\", \"Street Food\"],\n",
    "    \"Goa\": [\"Beach Party\", \"Water Sports\", \"Sunset Cruise\"],\n",
    "    \"Manali\": [\"Skiing\", \"Snow Trekking\", \"Bonfire Nights\"],\n",
    "    \"Kerala\": [\"Houseboat\", \"Ayurveda Spa\", \"Wildlife Safari\"],\n",
    "    \"Jaipur\": [\"Palace Visit\", \"Elephant Ride\", \"Folk Dance\"]\n",
    "}\n",
    "eco_friendly = [\"Kerala\", \"Manali\"]\n",
    "\n",
    "def show_menu():\n",
    "    print(\"\\n--- Welcome to TravelBuddy\")\n",
    "    print(\"1. View Destinations\")\n",
    "    print(\"2. Book Hotel\")\n",
    "    print(\"3. Book Flight\")\n",
    "    print(\"4. Get Recommendations by Budget\")\n",
    "    print(\"5. Suggest Activities\")\n",
    "    print(\"6. Show Eco-Friendly Destinations\")\n",
    "    print(\"7. Exit\")\n",
    "\n",
    "while True:\n",
    "    show_menu()\n",
    "    choice = input(\"Enter your choice (1-7): \")\n",
    "\n",
    "    if choice == \"1\":\n",
    "        print(\"\\nAvailable Destinations:\")\n",
    "        for i, place in enumerate(destinations):\n",
    "            print(f\"{i+1}. {place}\")\n",
    "\n",
    "    elif choice == \"2\":\n",
    "        city = input(\"Enter destination to book hotel: \")\n",
    "        if city in destinations:\n",
    "            print(f\"Hotel booked at {city}: {hotels[destinations.index(city)]}\")\n",
    "        else:\n",
    "            print(\"Sorry, no hotels found for this destination.\")\n",
    "\n",
    "    elif choice == \"3\":\n",
    "        city = input(\"Enter destination to book flight: \")\n",
    "        if city in destinations:\n",
    "            print(f\"Flight booked to {city} via {flights[destinations.index(city)]}\")\n",
    "        else:\n",
    "            print(\"Sorry, no flights found for this destination.\")\n",
    "\n",
    "    elif choice == \"4\":\n",
    "        budget = int(input(\"Enter your budget in INR: \"))\n",
    "        if budget < 5000:\n",
    "            print(\"We recommend: Jaipur or Delhi (Budget-friendly)\")\n",
    "        elif 5000 <= budget <= 10000:\n",
    "            print(\"Try: Goa or Manali\")\n",
    "        else:\n",
    "            print(\"Premium pick: Kerala with luxury stay!\")\n",
    "\n",
    "    elif choice == \"5\":\n",
    "        city = input(\"Enter destination to see activities: \")\n",
    "        if city in activities:\n",
    "            print(f\"Things to do in {city}: {', '.join(activities[city])}\")\n",
    "        else:\n",
    "            print(\"No activities listed for this destination.\")\n",
    "\n",
    "    elif choice == \"6\":\n",
    "        print(\"Eco-Friendly Travel Spots :\")\n",
    "        for place in eco_friendly:\n",
    "            print(f\"- {place}\")\n",
    "\n",
    "    elif choice == \"7\":\n",
    "        print(\"Thank you for using TravelBuddy. Happy Journey!\")\n",
    "        break\n",
    "\n",
    "    else:\n",
    "        print(\"Invalid choice. Try again.\")\n"
   ]
  },
  {
   "cell_type": "code",
   "execution_count": null,
   "id": "e6cee2c4-5b42-4cca-a456-b89106c7c6b9",
   "metadata": {},
   "outputs": [
    {
     "name": "stdout",
     "output_type": "stream",
     "text": [
      "\n",
      "--- Welcome to TravelBuddy\n",
      "1. View Destinations\n",
      "2. Book Hotel\n",
      "3. Book Flight\n",
      "4. Get Recommendations by Budget\n",
      "5. Suggest Activities\n",
      "6. Show Eco-Friendly Destinations\n",
      "7. Exit\n"
     ]
    },
    {
     "name": "stdin",
     "output_type": "stream",
     "text": [
      "Enter your choice (1-7):  1\n"
     ]
    },
    {
     "name": "stdout",
     "output_type": "stream",
     "text": [
      "\n",
      "Available Destinations:\n",
      "1. Delhi\n",
      "2. Goa\n",
      "3. Manali\n",
      "4. Kerala\n",
      "5. Jaipur\n",
      "\n",
      "--- Welcome to TravelBuddy\n",
      "1. View Destinations\n",
      "2. Book Hotel\n",
      "3. Book Flight\n",
      "4. Get Recommendations by Budget\n",
      "5. Suggest Activities\n",
      "6. Show Eco-Friendly Destinations\n",
      "7. Exit\n"
     ]
    },
    {
     "name": "stdin",
     "output_type": "stream",
     "text": [
      "Enter your choice (1-7):  2\n",
      "Enter destination to book hotel:  Goa\n"
     ]
    },
    {
     "name": "stdout",
     "output_type": "stream",
     "text": [
      "Hotel booked at Goa: Beach Resort\n",
      "\n",
      "--- Welcome to TravelBuddy\n",
      "1. View Destinations\n",
      "2. Book Hotel\n",
      "3. Book Flight\n",
      "4. Get Recommendations by Budget\n",
      "5. Suggest Activities\n",
      "6. Show Eco-Friendly Destinations\n",
      "7. Exit\n"
     ]
    },
    {
     "name": "stdin",
     "output_type": "stream",
     "text": [
      "Enter your choice (1-7):  3\n",
      "Enter destination to book flight:  Goa\n"
     ]
    },
    {
     "name": "stdout",
     "output_type": "stream",
     "text": [
      "Flight booked to Goa via Air India\n",
      "\n",
      "--- Welcome to TravelBuddy\n",
      "1. View Destinations\n",
      "2. Book Hotel\n",
      "3. Book Flight\n",
      "4. Get Recommendations by Budget\n",
      "5. Suggest Activities\n",
      "6. Show Eco-Friendly Destinations\n",
      "7. Exit\n"
     ]
    },
    {
     "name": "stdin",
     "output_type": "stream",
     "text": [
      "Enter your choice (1-7):  4\n",
      "Enter your budget in INR:  5000\n"
     ]
    },
    {
     "name": "stdout",
     "output_type": "stream",
     "text": [
      "Try: Goa or Manali\n",
      "\n",
      "--- Welcome to TravelBuddy\n",
      "1. View Destinations\n",
      "2. Book Hotel\n",
      "3. Book Flight\n",
      "4. Get Recommendations by Budget\n",
      "5. Suggest Activities\n",
      "6. Show Eco-Friendly Destinations\n",
      "7. Exit\n"
     ]
    },
    {
     "name": "stdin",
     "output_type": "stream",
     "text": [
      "Enter your choice (1-7):  5\n",
      "Enter destination to see activities:  Goaa\n"
     ]
    },
    {
     "name": "stdout",
     "output_type": "stream",
     "text": [
      "No activities listed for this destination.\n",
      "\n",
      "--- Welcome to TravelBuddy\n",
      "1. View Destinations\n",
      "2. Book Hotel\n",
      "3. Book Flight\n",
      "4. Get Recommendations by Budget\n",
      "5. Suggest Activities\n",
      "6. Show Eco-Friendly Destinations\n",
      "7. Exit\n"
     ]
    },
    {
     "name": "stdin",
     "output_type": "stream",
     "text": [
      "Enter your choice (1-7):  5\n",
      "Enter destination to see activities:  Goa\n"
     ]
    },
    {
     "name": "stdout",
     "output_type": "stream",
     "text": [
      "Things to do in Goa: Beach Party, Water Sports, Sunset Cruise\n",
      "\n",
      "--- Welcome to TravelBuddy\n",
      "1. View Destinations\n",
      "2. Book Hotel\n",
      "3. Book Flight\n",
      "4. Get Recommendations by Budget\n",
      "5. Suggest Activities\n",
      "6. Show Eco-Friendly Destinations\n",
      "7. Exit\n"
     ]
    },
    {
     "name": "stdin",
     "output_type": "stream",
     "text": [
      "Enter your choice (1-7):  6\n"
     ]
    },
    {
     "name": "stdout",
     "output_type": "stream",
     "text": [
      "Eco-Friendly Travel Spots :\n",
      "- Kerala\n",
      "- Manali\n",
      "\n",
      "--- Welcome to TravelBuddy\n",
      "1. View Destinations\n",
      "2. Book Hotel\n",
      "3. Book Flight\n",
      "4. Get Recommendations by Budget\n",
      "5. Suggest Activities\n",
      "6. Show Eco-Friendly Destinations\n",
      "7. Exit\n"
     ]
    }
   ],
   "source": [
    "destinations = [\"Delhi\", \"Goa\", \"Manali\", \"Kerala\", \"Jaipur\"]\n",
    "hotels = [\"Taj Hotel\", \"Beach Resort\", \"Snow View Lodge\", \"Backwater Villa\", \"Palace Stay\"]\n",
    "flights = [\"IndiGo\", \"Air India\", \"Vistara\", \"SpiceJet\", \"GoFirst\"]\n",
    "activities = {\n",
    "    \"Delhi\": [\"Historical Tour\", \"Shopping\", \"Street Food\"],\n",
    "    \"Goa\": [\"Beach Party\", \"Water Sports\", \"Sunset Cruise\"],\n",
    "    \"Manali\": [\"Skiing\", \"Snow Trekking\", \"Bonfire Nights\"],\n",
    "    \"Kerala\": [\"Houseboat\", \"Ayurveda Spa\", \"Wildlife Safari\"],\n",
    "    \"Jaipur\": [\"Palace Visit\", \"Elephant Ride\", \"Folk Dance\"]\n",
    "}\n",
    "eco_friendly = [\"Kerala\", \"Manali\"]\n",
    "\n",
    "def show_menu():\n",
    "    print(\"\\n--- Welcome to TravelBuddy\")\n",
    "    print(\"1. View Destinations\")\n",
    "    print(\"2. Book Hotel\")\n",
    "    print(\"3. Book Flight\")\n",
    "    print(\"4. Get Recommendations by Budget\")\n",
    "    print(\"5. Suggest Activities\")\n",
    "    print(\"6. Show Eco-Friendly Destinations\")\n",
    "    print(\"7. Exit\")\n",
    "\n",
    "while True:\n",
    "    show_menu()\n",
    "    choice = input(\"Enter your choice (1-7): \")\n",
    "\n",
    "    if choice == \"1\":\n",
    "        print(\"\\nAvailable Destinations:\")\n",
    "        for i, place in enumerate(destinations):\n",
    "            print(f\"{i+1}. {place}\")\n",
    "\n",
    "    elif choice == \"2\":\n",
    "        city = input(\"Enter destination to book hotel: \")\n",
    "        if city in destinations:\n",
    "            print(f\"Hotel booked at {city}: {hotels[destinations.index(city)]}\")\n",
    "        else:\n",
    "            print(\"Sorry, no hotels found for this destination.\")\n",
    "\n",
    "    elif choice == \"3\":\n",
    "        city = input(\"Enter destination to book flight: \")\n",
    "        if city in destinations:\n",
    "            print(f\"Flight booked to {city} via {flights[destinations.index(city)]}\")\n",
    "        else:\n",
    "            print(\"Sorry, no flights found for this destination.\")\n",
    "\n",
    "    elif choice == \"4\":\n",
    "        budget = int(input(\"Enter your budget in INR: \"))\n",
    "        if budget < 5000:\n",
    "            print(\"We recommend: Jaipur or Delhi (Budget-friendly)\")\n",
    "        elif 5000 <= budget <= 10000:\n",
    "            print(\"Try: Goa or Manali\")\n",
    "        else:\n",
    "            print(\"Premium pick: Kerala with luxury stay!\")\n",
    "\n",
    "    elif choice == \"5\":\n",
    "        city = input(\"Enter destination to see activities: \")\n",
    "        if city in activities:\n",
    "            print(f\"Things to do in {city}: {', '.join(activities[city])}\")\n",
    "        else:\n",
    "            print(\"No activities listed for this destination.\")\n",
    "\n",
    "    elif choice == \"6\":\n",
    "        print(\"Eco-Friendly Travel Spots :\")\n",
    "        for place in eco_friendly:\n",
    "            print(f\"- {place}\")\n",
    "\n",
    "    elif choice == \"7\":\n",
    "        print(\"Thank you for using TravelBuddy. Happy Journey!\")\n",
    "        break\n",
    "\n",
    "    else:\n",
    "        print(\"Invalid choice. Try again.\")\n"
   ]
  },
  {
   "cell_type": "code",
   "execution_count": null,
   "id": "ca264eca-441a-4cb7-959b-61bb071a7d42",
   "metadata": {},
   "outputs": [],
   "source": []
  }
 ],
 "metadata": {
  "kernelspec": {
   "display_name": "Python 3 (ipykernel)",
   "language": "python",
   "name": "python3"
  },
  "language_info": {
   "codemirror_mode": {
    "name": "ipython",
    "version": 3
   },
   "file_extension": ".py",
   "mimetype": "text/x-python",
   "name": "python",
   "nbconvert_exporter": "python",
   "pygments_lexer": "ipython3",
   "version": "3.13.5"
  }
 },
 "nbformat": 4,
 "nbformat_minor": 5
}
