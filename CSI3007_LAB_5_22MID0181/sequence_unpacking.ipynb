{
 "cells": [
  {
   "cell_type": "markdown",
   "id": "b7168149-479d-4c3a-8f3a-0396966e19bb",
   "metadata": {},
   "source": [
    "CSI3007_LAB_5_22MID0181"
   ]
  },
  {
   "cell_type": "markdown",
   "id": "5e18dfd7-13c3-4283-84f0-7f03669cc62c",
   "metadata": {},
   "source": [
    "SEQUENCE UNPACKING\n"
   ]
  },
  {
   "cell_type": "code",
   "execution_count": 13,
   "id": "97e2f9a2-3244-41c8-82f2-c1719d751c3e",
   "metadata": {},
   "outputs": [
    {
     "name": "stdout",
     "output_type": "stream",
     "text": [
      "1\n",
      "3\n",
      "5\n",
      "7\n"
     ]
    }
   ],
   "source": [
    "ODDS=[1,3,5,7]#unpacking a list\n",
    "a,b,c,d=ODDS\n",
    "print(a)\n",
    "print(b)\n",
    "print(c)\n",
    "print(d)"
   ]
  },
  {
   "cell_type": "code",
   "execution_count": 2,
   "id": "91d4e432-9626-4995-807f-d955585f2b14",
   "metadata": {},
   "outputs": [
    {
     "name": "stdout",
     "output_type": "stream",
     "text": [
      "1\n",
      "3\n",
      "[5, 7]\n"
     ]
    }
   ],
   "source": [
    "a,b,*c=ODDS #C is rest of the list\n",
    "print(a)\n",
    "print(b)\n",
    "print(c)"
   ]
  },
  {
   "cell_type": "code",
   "execution_count": 4,
   "id": "1bb0f764-b065-4508-8ed1-53373273cd01",
   "metadata": {},
   "outputs": [
    {
     "name": "stdout",
     "output_type": "stream",
     "text": [
      "1\n",
      "[3, 5]\n",
      "7\n"
     ]
    }
   ],
   "source": [
    "a,*b,c=ODDS\n",
    "print(a)\n",
    "print(b)\n",
    "print(c)"
   ]
  },
  {
   "cell_type": "code",
   "execution_count": 5,
   "id": "41dbac6c-ff05-48de-81d1-b9ba82230ddb",
   "metadata": {},
   "outputs": [
    {
     "name": "stdout",
     "output_type": "stream",
     "text": [
      "3\n",
      "[5, 7]\n",
      "9\n"
     ]
    }
   ],
   "source": [
    "a,*b,c=[3,5,7,9]\n",
    "print(a)\n",
    "print(b)\n",
    "print(c)"
   ]
  },
  {
   "cell_type": "code",
   "execution_count": 6,
   "id": "42ec59a9-bc76-40d5-a42a-315ca88b03b0",
   "metadata": {},
   "outputs": [
    {
     "name": "stdout",
     "output_type": "stream",
     "text": [
      "16\n"
     ]
    }
   ],
   "source": [
    "def a(x,y,z,a):\n",
    "    return(x+y+z+a)\n",
    "print(a(*ODDS))"
   ]
  },
  {
   "cell_type": "code",
   "execution_count": 8,
   "id": "03dbceaf-1e7b-4af4-97c5-32cd040829d1",
   "metadata": {},
   "outputs": [
    {
     "name": "stdout",
     "output_type": "stream",
     "text": [
      "hello,kaushik\n",
      "hello,hari\n",
      "hello,dharshini\n"
     ]
    }
   ],
   "source": [
    "def say_hi(*names):\n",
    "    for n in names:\n",
    "        print(f\"hello,{n}\")\n",
    "say_hi(\"kaushik\",\"hari\",\"dharshini\")"
   ]
  },
  {
   "cell_type": "code",
   "execution_count": 9,
   "id": "09a76c7a-10c6-4fad-9705-ce9c3d14f495",
   "metadata": {},
   "outputs": [
    {
     "ename": "SyntaxError",
     "evalue": "invalid syntax (958878273.py, line 5)",
     "output_type": "error",
     "traceback": [
      "  \u001b[36mCell\u001b[39m\u001b[36m \u001b[39m\u001b[32mIn[9]\u001b[39m\u001b[32m, line 5\u001b[39m\n\u001b[31m    \u001b[39m\u001b[31mshow_info('code':'csi3007','names':'python','venuw':'prp')\u001b[39m\n                    ^\n\u001b[31mSyntaxError\u001b[39m\u001b[31m:\u001b[39m invalid syntax\n"
     ]
    }
   ],
   "source": [
    "#unpacking a dictionary\n",
    "def show_info(**info):#2 stars indicates dictionary\n",
    "    for k,v in info.items(): #for both key and values means items(if key only means use keys)\n",
    "        print(\"f{k}:{v}\")\n",
    "show_info('code':'csi3007','names':'python','venuw':'prp')"
   ]
  },
  {
   "cell_type": "code",
   "execution_count": 11,
   "id": "b31772ee-6556-4fc2-98b2-b7e297fecd92",
   "metadata": {},
   "outputs": [],
   "source": [
    "dict={} # adding elements in a empty dictionary\n",
    "dict[\"name\"]=\"agnes\""
   ]
  },
  {
   "cell_type": "code",
   "execution_count": 12,
   "id": "eeabbc7e-35e5-47c5-a0a0-950bed8b987a",
   "metadata": {},
   "outputs": [
    {
     "name": "stdout",
     "output_type": "stream",
     "text": [
      "{'name': 'agnes'}\n"
     ]
    }
   ],
   "source": [
    "print(dict)"
   ]
  },
  {
   "cell_type": "code",
   "execution_count": null,
   "id": "3709714f-529a-4714-a6a6-40a575a8be1e",
   "metadata": {},
   "outputs": [],
   "source": []
  }
 ],
 "metadata": {
  "kernelspec": {
   "display_name": "Python 3 (ipykernel)",
   "language": "python",
   "name": "python3"
  },
  "language_info": {
   "codemirror_mode": {
    "name": "ipython",
    "version": 3
   },
   "file_extension": ".py",
   "mimetype": "text/x-python",
   "name": "python",
   "nbconvert_exporter": "python",
   "pygments_lexer": "ipython3",
   "version": "3.13.5"
  }
 },
 "nbformat": 4,
 "nbformat_minor": 5
}
