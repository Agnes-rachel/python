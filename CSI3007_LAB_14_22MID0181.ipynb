{
 "cells": [
  {
   "cell_type": "markdown",
   "id": "b5514269-2e2a-48a9-8aef-76958e997eea",
   "metadata": {},
   "source": [
    "# CSI3007_LAB_14_22MID0181\n",
    "# DATE:19/09/2025"
   ]
  },
  {
   "cell_type": "code",
   "execution_count": 11,
   "id": "dc0517b1-d42f-4660-9b82-6ec284a1ac7d",
   "metadata": {},
   "outputs": [
    {
     "name": "stderr",
     "output_type": "stream",
     "text": [
      "\n",
      "[notice] A new release of pip is available: 25.1.1 -> 25.2\n",
      "[notice] To update, run: python.exe -m pip install --upgrade pip\n"
     ]
    },
    {
     "name": "stdout",
     "output_type": "stream",
     "text": [
      "Requirement already satisfied: openpyxl in c:\\users\\jaira\\appdata\\local\\programs\\python\\python313\\lib\\site-packages (3.1.5)\n",
      "Requirement already satisfied: et-xmlfile in c:\\users\\jaira\\appdata\\local\\programs\\python\\python313\\lib\\site-packages (from openpyxl) (2.0.0)\n"
     ]
    }
   ],
   "source": [
    "!pip install openpyxl # to convert csv file to excel \n",
    "df = pd.read_csv(\"StudentsPerformance.csv\")\n",
    "df.to_excel(\"StudentsPerformance.xlsx\", index=False)\n"
   ]
  },
  {
   "cell_type": "code",
   "execution_count": 13,
   "id": "acfc4754-778a-400e-b6d8-f4b170cac44e",
   "metadata": {},
   "outputs": [
    {
     "data": {
      "text/html": [
       "<div>\n",
       "<style scoped>\n",
       "    .dataframe tbody tr th:only-of-type {\n",
       "        vertical-align: middle;\n",
       "    }\n",
       "\n",
       "    .dataframe tbody tr th {\n",
       "        vertical-align: top;\n",
       "    }\n",
       "\n",
       "    .dataframe thead th {\n",
       "        text-align: right;\n",
       "    }\n",
       "</style>\n",
       "<table border=\"1\" class=\"dataframe\">\n",
       "  <thead>\n",
       "    <tr style=\"text-align: right;\">\n",
       "      <th></th>\n",
       "      <th>gender</th>\n",
       "      <th>race/ethnicity</th>\n",
       "      <th>parental level of education</th>\n",
       "      <th>lunch</th>\n",
       "      <th>test preparation course</th>\n",
       "      <th>math score</th>\n",
       "      <th>reading score</th>\n",
       "      <th>writing score</th>\n",
       "    </tr>\n",
       "  </thead>\n",
       "  <tbody>\n",
       "    <tr>\n",
       "      <th>0</th>\n",
       "      <td>female</td>\n",
       "      <td>group B</td>\n",
       "      <td>bachelor's degree</td>\n",
       "      <td>standard</td>\n",
       "      <td>none</td>\n",
       "      <td>72</td>\n",
       "      <td>72</td>\n",
       "      <td>74</td>\n",
       "    </tr>\n",
       "    <tr>\n",
       "      <th>1</th>\n",
       "      <td>female</td>\n",
       "      <td>group C</td>\n",
       "      <td>some college</td>\n",
       "      <td>standard</td>\n",
       "      <td>completed</td>\n",
       "      <td>69</td>\n",
       "      <td>90</td>\n",
       "      <td>88</td>\n",
       "    </tr>\n",
       "    <tr>\n",
       "      <th>2</th>\n",
       "      <td>female</td>\n",
       "      <td>group B</td>\n",
       "      <td>master's degree</td>\n",
       "      <td>standard</td>\n",
       "      <td>none</td>\n",
       "      <td>90</td>\n",
       "      <td>95</td>\n",
       "      <td>93</td>\n",
       "    </tr>\n",
       "    <tr>\n",
       "      <th>3</th>\n",
       "      <td>male</td>\n",
       "      <td>group A</td>\n",
       "      <td>associate's degree</td>\n",
       "      <td>free/reduced</td>\n",
       "      <td>none</td>\n",
       "      <td>47</td>\n",
       "      <td>57</td>\n",
       "      <td>44</td>\n",
       "    </tr>\n",
       "    <tr>\n",
       "      <th>4</th>\n",
       "      <td>male</td>\n",
       "      <td>group C</td>\n",
       "      <td>some college</td>\n",
       "      <td>standard</td>\n",
       "      <td>none</td>\n",
       "      <td>76</td>\n",
       "      <td>78</td>\n",
       "      <td>75</td>\n",
       "    </tr>\n",
       "  </tbody>\n",
       "</table>\n",
       "</div>"
      ],
      "text/plain": [
       "   gender race/ethnicity parental level of education         lunch  \\\n",
       "0  female        group B           bachelor's degree      standard   \n",
       "1  female        group C                some college      standard   \n",
       "2  female        group B             master's degree      standard   \n",
       "3    male        group A          associate's degree  free/reduced   \n",
       "4    male        group C                some college      standard   \n",
       "\n",
       "  test preparation course  math score  reading score  writing score  \n",
       "0                    none          72             72             74  \n",
       "1               completed          69             90             88  \n",
       "2                    none          90             95             93  \n",
       "3                    none          47             57             44  \n",
       "4                    none          76             78             75  "
      ]
     },
     "execution_count": 13,
     "metadata": {},
     "output_type": "execute_result"
    }
   ],
   "source": [
    "df.head()"
   ]
  },
  {
   "cell_type": "code",
   "execution_count": 16,
   "id": "0e24f073-52b6-44c1-add3-b29312055959",
   "metadata": {},
   "outputs": [],
   "source": [
    "import pandas as pd\n",
    "\n",
    "# Step 1: Read Excel file\n",
    "df = pd.read_excel(\"StudentsPerformance.xlsx\")\n"
   ]
  },
  {
   "cell_type": "code",
   "execution_count": 17,
   "id": "eaf27e85-7fc5-4c4c-a047-445293ffaa75",
   "metadata": {},
   "outputs": [],
   "source": [
    "# Step 2: Extract contents (students who scored > 80 in math)\n",
    "query_result = df[df[\"math score\"] > 80]"
   ]
  },
  {
   "cell_type": "code",
   "execution_count": 18,
   "id": "2854db9a-4b2e-4b33-a3b0-7ebd985f3cc5",
   "metadata": {},
   "outputs": [
    {
     "name": "stdout",
     "output_type": "stream",
     "text": [
      "Query result saved to High_Math_Scorers.xlsx\n"
     ]
    }
   ],
   "source": [
    "# Step 3: Write the output to a new Excel file\n",
    "query_result.to_excel(\"High_Math_Scorers.xlsx\", index=False)\n",
    "\n",
    "print(\"Query result saved to High_Math_Scorers.xlsx\")\n"
   ]
  },
  {
   "cell_type": "code",
   "execution_count": 14,
   "id": "db8a121a-39e3-4d5f-b65f-feb343e8f263",
   "metadata": {},
   "outputs": [
    {
     "name": "stdout",
     "output_type": "stream",
     "text": [
      "     gender race/ethnicity parental level of education         lunch  \\\n",
      "0    female        group B             master's degree      standard   \n",
      "1    female        group B                some college      standard   \n",
      "2      male        group C                 high school      standard   \n",
      "3      male        group E                some college      standard   \n",
      "4      male        group E          associate's degree      standard   \n",
      "..      ...            ...                         ...           ...   \n",
      "171  female        group C          associate's degree      standard   \n",
      "172    male        group D            some high school      standard   \n",
      "173    male        group E            some high school      standard   \n",
      "174    male        group E                 high school  free/reduced   \n",
      "175  female        group E             master's degree      standard   \n",
      "\n",
      "    test preparation course  math score  reading score  writing score  \n",
      "0                      none          90             95             93  \n",
      "1                 completed          88             95             92  \n",
      "2                      none          88             89             86  \n",
      "3                      none          97             87             82  \n",
      "4                 completed          81             81             79  \n",
      "..                      ...         ...            ...            ...  \n",
      "171                    none          91             95             94  \n",
      "172                    none          81             78             78  \n",
      "173               completed          81             75             76  \n",
      "174               completed          86             81             75  \n",
      "175               completed          88             99             95  \n",
      "\n",
      "[176 rows x 8 columns]\n"
     ]
    }
   ],
   "source": [
    "# Load the saved Excel file\n",
    "result_from_file = pd.read_excel(\"High_Math_Scorers.xlsx\")\n",
    "\n",
    "# Print the saved result\n",
    "print(result_from_file)\n"
   ]
  },
  {
   "cell_type": "code",
   "execution_count": 15,
   "id": "55e7e4f0-b226-43fb-b99f-6142bb713dcb",
   "metadata": {},
   "outputs": [
    {
     "data": {
      "text/html": [
       "<div>\n",
       "<style scoped>\n",
       "    .dataframe tbody tr th:only-of-type {\n",
       "        vertical-align: middle;\n",
       "    }\n",
       "\n",
       "    .dataframe tbody tr th {\n",
       "        vertical-align: top;\n",
       "    }\n",
       "\n",
       "    .dataframe thead th {\n",
       "        text-align: right;\n",
       "    }\n",
       "</style>\n",
       "<table border=\"1\" class=\"dataframe\">\n",
       "  <thead>\n",
       "    <tr style=\"text-align: right;\">\n",
       "      <th></th>\n",
       "      <th>gender</th>\n",
       "      <th>race/ethnicity</th>\n",
       "      <th>parental level of education</th>\n",
       "      <th>lunch</th>\n",
       "      <th>test preparation course</th>\n",
       "      <th>math score</th>\n",
       "      <th>reading score</th>\n",
       "      <th>writing score</th>\n",
       "    </tr>\n",
       "  </thead>\n",
       "  <tbody>\n",
       "    <tr>\n",
       "      <th>0</th>\n",
       "      <td>female</td>\n",
       "      <td>group B</td>\n",
       "      <td>master's degree</td>\n",
       "      <td>standard</td>\n",
       "      <td>none</td>\n",
       "      <td>90</td>\n",
       "      <td>95</td>\n",
       "      <td>93</td>\n",
       "    </tr>\n",
       "    <tr>\n",
       "      <th>1</th>\n",
       "      <td>female</td>\n",
       "      <td>group B</td>\n",
       "      <td>some college</td>\n",
       "      <td>standard</td>\n",
       "      <td>completed</td>\n",
       "      <td>88</td>\n",
       "      <td>95</td>\n",
       "      <td>92</td>\n",
       "    </tr>\n",
       "    <tr>\n",
       "      <th>2</th>\n",
       "      <td>male</td>\n",
       "      <td>group C</td>\n",
       "      <td>high school</td>\n",
       "      <td>standard</td>\n",
       "      <td>none</td>\n",
       "      <td>88</td>\n",
       "      <td>89</td>\n",
       "      <td>86</td>\n",
       "    </tr>\n",
       "    <tr>\n",
       "      <th>3</th>\n",
       "      <td>male</td>\n",
       "      <td>group E</td>\n",
       "      <td>some college</td>\n",
       "      <td>standard</td>\n",
       "      <td>none</td>\n",
       "      <td>97</td>\n",
       "      <td>87</td>\n",
       "      <td>82</td>\n",
       "    </tr>\n",
       "    <tr>\n",
       "      <th>4</th>\n",
       "      <td>male</td>\n",
       "      <td>group E</td>\n",
       "      <td>associate's degree</td>\n",
       "      <td>standard</td>\n",
       "      <td>completed</td>\n",
       "      <td>81</td>\n",
       "      <td>81</td>\n",
       "      <td>79</td>\n",
       "    </tr>\n",
       "  </tbody>\n",
       "</table>\n",
       "</div>"
      ],
      "text/plain": [
       "   gender race/ethnicity parental level of education     lunch  \\\n",
       "0  female        group B             master's degree  standard   \n",
       "1  female        group B                some college  standard   \n",
       "2    male        group C                 high school  standard   \n",
       "3    male        group E                some college  standard   \n",
       "4    male        group E          associate's degree  standard   \n",
       "\n",
       "  test preparation course  math score  reading score  writing score  \n",
       "0                    none          90             95             93  \n",
       "1               completed          88             95             92  \n",
       "2                    none          88             89             86  \n",
       "3                    none          97             87             82  \n",
       "4               completed          81             81             79  "
      ]
     },
     "execution_count": 15,
     "metadata": {},
     "output_type": "execute_result"
    }
   ],
   "source": [
    "result_from_file.head()"
   ]
  },
  {
   "cell_type": "code",
   "execution_count": 28,
   "id": "54707d55-52ff-4f5e-b246-04aba252e707",
   "metadata": {},
   "outputs": [
    {
     "name": "stdout",
     "output_type": "stream",
     "text": [
      "Data written to json file\n"
     ]
    }
   ],
   "source": [
    "import pandas as pd\n",
    "\n",
    "# Example data\n",
    "data = {\n",
    "    \"Name\": [\"Agnes\", \"jayanth\", \"latha\",\"edwin\"],\n",
    "    \"Score\": [85,92,78,94],\n",
    "    \"Subject\": [\"Math\", \"Science\", \"English\",\"tamil\"]\n",
    "}\n",
    "\n",
    "df = pd.DataFrame(data)\n",
    "\n",
    "# Save DataFrame to JSON file\n",
    "df.to_json(\"students.json\", orient=\"records\", indent=4)\n",
    "\n",
    "print(\"Data written to json file\")\n"
   ]
  },
  {
   "cell_type": "code",
   "execution_count": 32,
   "id": "844f06f2-6b45-4209-8446-e2f0f32df803",
   "metadata": {},
   "outputs": [
    {
     "name": "stdout",
     "output_type": "stream",
     "text": [
      "jayanth's Score: 92\n"
     ]
    }
   ],
   "source": [
    "#Parse JSON File and Search for a Value\n",
    "import json\n",
    "\n",
    "# Open and load JSON file\n",
    "with open(\"students.json\", \"r\") as file:\n",
    "    students = json.load(file)\n",
    "\n",
    "# Search: Find jayanth's score\n",
    "for student in students:\n",
    "    if student[\"Name\"] == \"jayanth\":\n",
    "        print(\"jayanth's Score:\", student[\"Score\"])\n"
   ]
  },
  {
   "cell_type": "code",
   "execution_count": 33,
   "id": "3f51d9cb-0d43-41d7-8915-87baf386ef09",
   "metadata": {},
   "outputs": [
    {
     "name": "stdout",
     "output_type": "stream",
     "text": [
      "      Name  Score  Subject\n",
      "0    Agnes     85     Math\n",
      "1  jayanth     92  Science\n",
      "2    latha     78  English\n",
      "3    edwin     94    tamil\n"
     ]
    }
   ],
   "source": [
    "df_json = pd.read_json(\"students.json\")\n",
    "print(df_json)\n"
   ]
  },
  {
   "cell_type": "code",
   "execution_count": 34,
   "id": "87ce6315-bc02-4539-9a4c-db3585523fbe",
   "metadata": {},
   "outputs": [
    {
     "data": {
      "text/html": [
       "<div>\n",
       "<style scoped>\n",
       "    .dataframe tbody tr th:only-of-type {\n",
       "        vertical-align: middle;\n",
       "    }\n",
       "\n",
       "    .dataframe tbody tr th {\n",
       "        vertical-align: top;\n",
       "    }\n",
       "\n",
       "    .dataframe thead th {\n",
       "        text-align: right;\n",
       "    }\n",
       "</style>\n",
       "<table border=\"1\" class=\"dataframe\">\n",
       "  <thead>\n",
       "    <tr style=\"text-align: right;\">\n",
       "      <th></th>\n",
       "      <th>Name</th>\n",
       "      <th>Score</th>\n",
       "      <th>Subject</th>\n",
       "    </tr>\n",
       "  </thead>\n",
       "  <tbody>\n",
       "    <tr>\n",
       "      <th>0</th>\n",
       "      <td>Agnes</td>\n",
       "      <td>85</td>\n",
       "      <td>Math</td>\n",
       "    </tr>\n",
       "    <tr>\n",
       "      <th>1</th>\n",
       "      <td>jayanth</td>\n",
       "      <td>92</td>\n",
       "      <td>Science</td>\n",
       "    </tr>\n",
       "    <tr>\n",
       "      <th>2</th>\n",
       "      <td>latha</td>\n",
       "      <td>78</td>\n",
       "      <td>English</td>\n",
       "    </tr>\n",
       "    <tr>\n",
       "      <th>3</th>\n",
       "      <td>edwin</td>\n",
       "      <td>94</td>\n",
       "      <td>tamil</td>\n",
       "    </tr>\n",
       "  </tbody>\n",
       "</table>\n",
       "</div>"
      ],
      "text/plain": [
       "      Name  Score  Subject\n",
       "0    Agnes     85     Math\n",
       "1  jayanth     92  Science\n",
       "2    latha     78  English\n",
       "3    edwin     94    tamil"
      ]
     },
     "execution_count": 34,
     "metadata": {},
     "output_type": "execute_result"
    }
   ],
   "source": [
    "df_json.head()"
   ]
  },
  {
   "cell_type": "code",
   "execution_count": null,
   "id": "5de03ab2-490c-41f2-bf23-5d89e9cf189b",
   "metadata": {},
   "outputs": [],
   "source": []
  }
 ],
 "metadata": {
  "kernelspec": {
   "display_name": "Python 3 (ipykernel)",
   "language": "python",
   "name": "python3"
  },
  "language_info": {
   "codemirror_mode": {
    "name": "ipython",
    "version": 3
   },
   "file_extension": ".py",
   "mimetype": "text/x-python",
   "name": "python",
   "nbconvert_exporter": "python",
   "pygments_lexer": "ipython3",
   "version": "3.13.5"
  }
 },
 "nbformat": 4,
 "nbformat_minor": 5
}
