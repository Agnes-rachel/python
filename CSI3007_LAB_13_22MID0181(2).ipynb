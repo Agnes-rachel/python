{
 "cells": [
  {
   "cell_type": "markdown",
   "id": "6db76741-941c-4b89-a449-8563ee56e805",
   "metadata": {},
   "source": [
    "# CSI3007_LAB_13_22MID0181\n",
    "# DATE:12/09/2025"
   ]
  },
  {
   "cell_type": "code",
   "execution_count": 2,
   "id": "39bfcc2c-e862-4d4a-b8f6-60a04b1a0208",
   "metadata": {},
   "outputs": [],
   "source": [
    "import numpy as np"
   ]
  },
  {
   "cell_type": "code",
   "execution_count": 9,
   "id": "4d65a094-7145-4bd6-9282-8ed84be176bd",
   "metadata": {},
   "outputs": [
    {
     "name": "stdout",
     "output_type": "stream",
     "text": [
      "[1 2 3 4 5 6]\n",
      "<class 'numpy.ndarray'>\n"
     ]
    }
   ],
   "source": [
    "arr=np.array([1,2,3,4,5,6])\n",
    "print(arr)\n",
    "print(type(arr))"
   ]
  },
  {
   "cell_type": "markdown",
   "id": "53f86f94-deb9-4729-ae53-4679b7aef752",
   "metadata": {},
   "source": [
    "# attributes of array"
   ]
  },
  {
   "cell_type": "code",
   "execution_count": 12,
   "id": "1b03833c-9fd9-4c26-88a2-a71c4bcffb0f",
   "metadata": {},
   "outputs": [
    {
     "name": "stdout",
     "output_type": "stream",
     "text": [
      "1\n"
     ]
    }
   ],
   "source": [
    "print(arr.ndim)"
   ]
  },
  {
   "cell_type": "code",
   "execution_count": 13,
   "id": "5a260b37-d4f2-4a20-b7cc-66babda395b0",
   "metadata": {},
   "outputs": [
    {
     "name": "stdout",
     "output_type": "stream",
     "text": [
      "6\n"
     ]
    }
   ],
   "source": [
    "print(arr.size)"
   ]
  },
  {
   "cell_type": "code",
   "execution_count": 14,
   "id": "ba4cc00e-a332-4315-9e4e-f1b31f38ae83",
   "metadata": {},
   "outputs": [
    {
     "name": "stdout",
     "output_type": "stream",
     "text": [
      "(6,)\n"
     ]
    }
   ],
   "source": [
    "print(arr.shape)\n"
   ]
  },
  {
   "cell_type": "code",
   "execution_count": 23,
   "id": "0170af94-6a15-4ea8-b741-fc776af67293",
   "metadata": {},
   "outputs": [
    {
     "name": "stdout",
     "output_type": "stream",
     "text": [
      "Identity Matrix:\n",
      " [[1. 0. 0. 0.]\n",
      " [0. 1. 0. 0.]\n",
      " [0. 0. 1. 0.]\n",
      " [0. 0. 0. 1.]]\n",
      "\n",
      "Diagonal shifted up (k=1):\n",
      " [[0. 1. 0. 0.]\n",
      " [0. 0. 1. 0.]\n",
      " [0. 0. 0. 1.]\n",
      " [0. 0. 0. 0.]]\n"
     ]
    }
   ],
   "source": [
    "identity_matrix = np.eye(4)#eye function used to create identity matrix\n",
    "print(\"Identity Matrix:\\n\", identity_matrix)\n",
    "\n",
    "# Create a 4x4 matrix with the diagonal shifted up (k=1)\n",
    "shifted_up = np.eye(4, k=1)\n",
    "print(\"\\nDiagonal shifted up (k=1):\\n\", shifted_up)\n"
   ]
  },
  {
   "cell_type": "code",
   "execution_count": 28,
   "id": "efe919d0-488d-4fdf-b02a-7693ea55e093",
   "metadata": {},
   "outputs": [
    {
     "name": "stdout",
     "output_type": "stream",
     "text": [
      "array [ 0.   2.5  5.   7.5 10. ]\n",
      "\n",
      " no end point: [0. 2. 4. 6. 8.]\n"
     ]
    }
   ],
   "source": [
    "array= np.linspace(0,10,5)#end will include\n",
    "print(\"array\",array)\n",
    "# Generate 5 numbers, but exclude the endpoint\n",
    "no_endpoint = np.linspace(0, 10, 5, endpoint=False)\n",
    "print(\"\\n no end point:\", no_endpoint)\n"
   ]
  },
  {
   "cell_type": "code",
   "execution_count": 35,
   "id": "7e31fa13-74d6-48bb-b264-29db0a4d1340",
   "metadata": {},
   "outputs": [
    {
     "name": "stdout",
     "output_type": "stream",
     "text": [
      "[ 1.   2.5  4.   5.5  7.   8.5 10. ]\n"
     ]
    }
   ],
   "source": [
    "arr_1=np.linspace(1,10,7)#equally spaced 7 points\n",
    "print(arr_1)"
   ]
  },
  {
   "cell_type": "code",
   "execution_count": 39,
   "id": "531f790f-f9c5-413b-b78f-5677f11e03dc",
   "metadata": {},
   "outputs": [
    {
     "name": "stdout",
     "output_type": "stream",
     "text": [
      "[0 2 4 6 8]\n"
     ]
    }
   ],
   "source": [
    "arr_2=np.arange(0,10,2)#instead of looping \n",
    "print(arr_2)"
   ]
  },
  {
   "cell_type": "code",
   "execution_count": 47,
   "id": "de990a88-16b9-423b-bbf5-279eca046ec1",
   "metadata": {},
   "outputs": [
    {
     "name": "stdout",
     "output_type": "stream",
     "text": [
      "[0. 0. 0. 0. 0.]\n"
     ]
    }
   ],
   "source": [
    "arr_3=np.zeros(5)\n",
    "print(arr_3)"
   ]
  },
  {
   "cell_type": "code",
   "execution_count": 51,
   "id": "b5f343d6-e655-4365-91e6-d6ca44df8173",
   "metadata": {},
   "outputs": [
    {
     "name": "stdout",
     "output_type": "stream",
     "text": [
      "[[0 0 0 0]\n",
      " [0 0 0 0]\n",
      " [0 0 0 0]]\n"
     ]
    }
   ],
   "source": [
    "arr_4=np.zeros((3,4),dtype=int)#2-D array with 3 rows and 4 colums\n",
    "print(arr_4)"
   ]
  },
  {
   "cell_type": "markdown",
   "id": "9e6a652e-da55-43d1-81bd-738819ce7138",
   "metadata": {},
   "source": [
    "# Generates an array of random floating-point numbers from a uniform distribution over the range"
   ]
  },
  {
   "cell_type": "code",
   "execution_count": 57,
   "id": "5f97241e-1ee5-48ae-a7c6-0fbbf5f498e8",
   "metadata": {},
   "outputs": [
    {
     "name": "stdout",
     "output_type": "stream",
     "text": [
      "[0.41298457 0.8978542  0.90432542 0.66361606 0.87460938 0.48498449]\n"
     ]
    }
   ],
   "source": [
    "arr_1=np.random.rand(6)#randomly generate 6 random float numbers\n",
    "print(arr_1)"
   ]
  },
  {
   "cell_type": "code",
   "execution_count": 56,
   "id": "53d91cb3-0ffc-4dc5-9c75-a7d5ecc710e9",
   "metadata": {},
   "outputs": [
    {
     "name": "stdout",
     "output_type": "stream",
     "text": [
      "[[0.66121513 0.01105486 0.95789268 0.64663307 0.37724146]\n",
      " [0.24830097 0.82063148 0.01823852 0.01497106 0.25477754]\n",
      " [0.36009516 0.24106439 0.65260899 0.21027468 0.47156768]]\n"
     ]
    }
   ],
   "source": [
    "arr_5=np.random.rand(3,5)\n",
    "print(arr_5)"
   ]
  },
  {
   "cell_type": "code",
   "execution_count": 59,
   "id": "2afa85a5-b882-477d-b245-91e4d3698ac8",
   "metadata": {},
   "outputs": [
    {
     "name": "stdout",
     "output_type": "stream",
     "text": [
      "[1. 1. 1. 1. 1.]\n"
     ]
    }
   ],
   "source": [
    "arr_6=np.ones(5)#create 1-D array with 5 ones\n",
    "print(arr_6)"
   ]
  },
  {
   "cell_type": "code",
   "execution_count": 60,
   "id": "9d56188c-5213-4848-a3f4-b2e9ae2541c6",
   "metadata": {},
   "outputs": [
    {
     "name": "stdout",
     "output_type": "stream",
     "text": [
      "[[1 1 1 1 1 1]\n",
      " [1 1 1 1 1 1]\n",
      " [1 1 1 1 1 1]\n",
      " [1 1 1 1 1 1]\n",
      " [1 1 1 1 1 1]]\n"
     ]
    }
   ],
   "source": [
    "arr_7=np.ones((5,6),dtype=int)#Create a 2D array of shape (5,6) with integer data type\n",
    "print(arr_7)"
   ]
  },
  {
   "cell_type": "code",
   "execution_count": 70,
   "id": "299f059f-eebe-4aed-ba6d-5b6c92587596",
   "metadata": {},
   "outputs": [
    {
     "name": "stdout",
     "output_type": "stream",
     "text": [
      "[[[0 0 0]\n",
      "  [1 1 1]]\n",
      "\n",
      " [[0 1 2]\n",
      "  [0 1 2]]]\n"
     ]
    }
   ],
   "source": [
    "arr_8=np.indices((2,3))#returns an array or tuple of arrays that represent the indices of a grid with a specified shape\n",
    "print(arr_8)"
   ]
  },
  {
   "cell_type": "markdown",
   "id": "accf0687-bd4d-4cd9-b7e8-323331f07b10",
   "metadata": {},
   "source": [
    "# vandermonde matrix"
   ]
  },
  {
   "cell_type": "code",
   "execution_count": 40,
   "id": "1fac17eb-2d2f-42fc-bb47-f8daf5cd0433",
   "metadata": {},
   "outputs": [
    {
     "name": "stdout",
     "output_type": "stream",
     "text": [
      "[[0.  1. ]\n",
      " [0.5 1. ]\n",
      " [1.  1. ]\n",
      " [1.5 1. ]\n",
      " [2.  1. ]]\n"
     ]
    }
   ],
   "source": [
    "vander=np.vander(np.linspace(0,2,5),2)\n",
    "print(vander)"
   ]
  },
  {
   "cell_type": "code",
   "execution_count": 41,
   "id": "f5d55f40-ca7d-4b22-b5dd-f0d273a8a3da",
   "metadata": {},
   "outputs": [
    {
     "name": "stdout",
     "output_type": "stream",
     "text": [
      "\n",
      "Vandermonde matrix with 3 colums:\n",
      "[[ 1  1  1]\n",
      " [ 4  2  1]\n",
      " [ 9  3  1]\n",
      " [16  4  1]]\n"
     ]
    }
   ],
   "source": [
    "import numpy as np\n",
    "x = np.array([1, 2, 3, 4])\n",
    "# Generate the Vandermonde matrix\n",
    "# Generate a Vandermonde matrix with a specified number of columns \n",
    "# Here, colums is 3, so we get powers of 2, 1, 0.\n",
    "vandermonde_matrix= np.vander(x,3)\n",
    "print(\"\\nVandermonde matrix with 3 colums:\")\n",
    "print(vandermonde_matrix)"
   ]
  },
  {
   "cell_type": "code",
   "execution_count": null,
   "id": "7e141d8f-0ce4-426f-ba85-dc57bcd8b3a3",
   "metadata": {},
   "outputs": [],
   "source": []
  }
 ],
 "metadata": {
  "kernelspec": {
   "display_name": "Python 3 (ipykernel)",
   "language": "python",
   "name": "python3"
  },
  "language_info": {
   "codemirror_mode": {
    "name": "ipython",
    "version": 3
   },
   "file_extension": ".py",
   "mimetype": "text/x-python",
   "name": "python",
   "nbconvert_exporter": "python",
   "pygments_lexer": "ipython3",
   "version": "3.12.4"
  }
 },
 "nbformat": 4,
 "nbformat_minor": 5
}
